{
  "nbformat": 4,
  "nbformat_minor": 0,
  "metadata": {
    "colab": {
      "provenance": [],
      "include_colab_link": true
    },
    "kernelspec": {
      "name": "python3",
      "display_name": "Python 3"
    },
    "language_info": {
      "name": "python"
    }
  },
  "cells": [
    {
      "cell_type": "markdown",
      "metadata": {
        "id": "view-in-github",
        "colab_type": "text"
      },
      "source": [
        "<a href=\"https://colab.research.google.com/github/abdulaziz2501/Edfix_vazifalari/blob/mohirdev/11_MA%CA%BCLUMOTLARNI_TAYYORLASH_11_28_YAKUNIY_AMALIY_VAZIFA.ipynb\" target=\"_parent\"><img src=\"https://colab.research.google.com/assets/colab-badge.svg\" alt=\"Open In Colab\"/></a>"
      ]
    },
    {
      "cell_type": "markdown",
      "source": [
        "![Imgur](https://i.imgur.com/h4PPC71.png)\n",
        "#11-modul. Maʼlumotlarga ishlov berish. Maʼlumotlarni tayyorlash\n",
        "# 11.28. Modul boʻyicha yakuniy amaliy vazifa\n",
        "\n",
        "**Bu vazifalarni bajargach, maʼlumotlarni yuklash, tozalash, oʻzgartirish, matnlarni normalizatsiya qilish, qiymatlarni tekshirish, guruhlash va tahlil qilish kabi maʼlumotlarga ishlov berish (data processing) koʻnikmalarini egallaysiz.**"
      ],
      "metadata": {
        "id": "fVxJerRe4ATj"
      }
    },
    {
      "cell_type": "markdown",
      "source": [
        "#**Umumiy maʼlumotlar bilan ishlash**"
      ],
      "metadata": {
        "id": "HhJ8Wd1y6J-b"
      }
    },
    {
      "cell_type": "markdown",
      "source": [
        "#Dataset haqida qisqacha maʼlumot\n",
        "Restoran savdosi boʻyicha maʼlumotlar toʻplami 17 534 tranzaksiya uchun maʼlumotlarni oʻz ichiga oladi. Maʼlumotlar yetishmayotgan yoki baʼzilari toʻliq kiritilmagan boʻlishi mumkin. Maʼlumotlar toʻplamida asosiy taomlar, shirinliklar, ichimliklar kabi bir nechta toifadagi savdo tafsilotlari mavjud.\n",
        "\n",
        "\n",
        " 0.   **Unnamed 0** – indekslarni;\n",
        " 1.   **Order ID** – buyurtma IDʼsini;\n",
        " 2.   **Customer ID** – mijoz IDʼsini;\n",
        " 3.   **Category** – mahsulotlar kategoriyasini;\n",
        " 4.   **Item** – mahsulot nomini;\n",
        " 5.   **Price** – mahsulotning narxini;\n",
        " 6.   **Quantity** – qancha mahsulot sotilgani miqdorini;\n",
        " 7.   **Order Total** – umumiy narx qancha ekanini;\n",
        " 8.   **Order Date** – buyurtma berilgan sanani (vaqt);\n",
        " 9.   **Payment Method** – toʻlov usuli turini saqlaydi."
      ],
      "metadata": {
        "id": "co4J2g_1VM4C"
      }
    },
    {
      "cell_type": "markdown",
      "source": [
        "#1) Quyida berilgan datasetni yuklab olib, ustun nomlarini koʻring va ularni maʼno jihatdan tushunarli shaklga keltiring. `Unnamed: 0` ustunini tashlab yuboring!"
      ],
      "metadata": {
        "id": "AJXwX2p958mp"
      }
    },
    {
      "cell_type": "code",
      "source": [
        "import pandas as pd\n",
        "import numpy as np\n",
        "\n",
        "url = \"https://raw.githubusercontent.com/alishermutalov/praktikum-datasets/refs/heads/praktikum/restaurant_sales.csv\"\n",
        "df = pd.read_csv(url)\n",
        "df.head()"
      ],
      "metadata": {
        "id": "vP3A1De6sdlY",
        "colab": {
          "base_uri": "https://localhost:8080/",
          "height": 206
        },
        "outputId": "e0deacc7-6628-4614-de8d-a60d1add70b5"
      },
      "execution_count": null,
      "outputs": [
        {
          "output_type": "execute_result",
          "data": {
            "text/plain": [
              "   Unnamed: 0    Order ID Customer ID     Category             Item  Price  \\\n",
              "0           0  ORD_705844    CUST_092          NaN     side salad#?    3.0   \n",
              "1           1  ORD_338528    CUST_021  Side Dishes  Mashed Potatoes    4.0   \n",
              "2           2  ORD_443849    CUST_029  Main Dishes  Grilled Chicken   15.0   \n",
              "3           3  ORD_630508    CUST_075       Drinks              NaN   -1.0   \n",
              "4           4  ORD_648269    CUST_031  Main Dishes    Pasta Alfredo   12.0   \n",
              "\n",
              "   Quantity  Order Total  Order Date  Payment Method  \n",
              "0       1.0          3.0  2023-12-21     Credit Card  \n",
              "1       3.0         12.0  2023-05-19  Digital Wallet  \n",
              "2       4.0         60.0  2023-09-27     Credit Card  \n",
              "3       2.0          5.0  2022-08-09     Credit Card  \n",
              "4       4.0         48.0  2022-05-15            Cash  "
            ],
            "text/html": [
              "\n",
              "  <div id=\"df-76301c95-5fdf-4ef7-ac64-ff541dc4d6f5\" class=\"colab-df-container\">\n",
              "    <div>\n",
              "<style scoped>\n",
              "    .dataframe tbody tr th:only-of-type {\n",
              "        vertical-align: middle;\n",
              "    }\n",
              "\n",
              "    .dataframe tbody tr th {\n",
              "        vertical-align: top;\n",
              "    }\n",
              "\n",
              "    .dataframe thead th {\n",
              "        text-align: right;\n",
              "    }\n",
              "</style>\n",
              "<table border=\"1\" class=\"dataframe\">\n",
              "  <thead>\n",
              "    <tr style=\"text-align: right;\">\n",
              "      <th></th>\n",
              "      <th>Unnamed: 0</th>\n",
              "      <th>Order ID</th>\n",
              "      <th>Customer ID</th>\n",
              "      <th>Category</th>\n",
              "      <th>Item</th>\n",
              "      <th>Price</th>\n",
              "      <th>Quantity</th>\n",
              "      <th>Order Total</th>\n",
              "      <th>Order Date</th>\n",
              "      <th>Payment Method</th>\n",
              "    </tr>\n",
              "  </thead>\n",
              "  <tbody>\n",
              "    <tr>\n",
              "      <th>0</th>\n",
              "      <td>0</td>\n",
              "      <td>ORD_705844</td>\n",
              "      <td>CUST_092</td>\n",
              "      <td>NaN</td>\n",
              "      <td>side salad#?</td>\n",
              "      <td>3.0</td>\n",
              "      <td>1.0</td>\n",
              "      <td>3.0</td>\n",
              "      <td>2023-12-21</td>\n",
              "      <td>Credit Card</td>\n",
              "    </tr>\n",
              "    <tr>\n",
              "      <th>1</th>\n",
              "      <td>1</td>\n",
              "      <td>ORD_338528</td>\n",
              "      <td>CUST_021</td>\n",
              "      <td>Side Dishes</td>\n",
              "      <td>Mashed Potatoes</td>\n",
              "      <td>4.0</td>\n",
              "      <td>3.0</td>\n",
              "      <td>12.0</td>\n",
              "      <td>2023-05-19</td>\n",
              "      <td>Digital Wallet</td>\n",
              "    </tr>\n",
              "    <tr>\n",
              "      <th>2</th>\n",
              "      <td>2</td>\n",
              "      <td>ORD_443849</td>\n",
              "      <td>CUST_029</td>\n",
              "      <td>Main Dishes</td>\n",
              "      <td>Grilled Chicken</td>\n",
              "      <td>15.0</td>\n",
              "      <td>4.0</td>\n",
              "      <td>60.0</td>\n",
              "      <td>2023-09-27</td>\n",
              "      <td>Credit Card</td>\n",
              "    </tr>\n",
              "    <tr>\n",
              "      <th>3</th>\n",
              "      <td>3</td>\n",
              "      <td>ORD_630508</td>\n",
              "      <td>CUST_075</td>\n",
              "      <td>Drinks</td>\n",
              "      <td>NaN</td>\n",
              "      <td>-1.0</td>\n",
              "      <td>2.0</td>\n",
              "      <td>5.0</td>\n",
              "      <td>2022-08-09</td>\n",
              "      <td>Credit Card</td>\n",
              "    </tr>\n",
              "    <tr>\n",
              "      <th>4</th>\n",
              "      <td>4</td>\n",
              "      <td>ORD_648269</td>\n",
              "      <td>CUST_031</td>\n",
              "      <td>Main Dishes</td>\n",
              "      <td>Pasta Alfredo</td>\n",
              "      <td>12.0</td>\n",
              "      <td>4.0</td>\n",
              "      <td>48.0</td>\n",
              "      <td>2022-05-15</td>\n",
              "      <td>Cash</td>\n",
              "    </tr>\n",
              "  </tbody>\n",
              "</table>\n",
              "</div>\n",
              "    <div class=\"colab-df-buttons\">\n",
              "\n",
              "  <div class=\"colab-df-container\">\n",
              "    <button class=\"colab-df-convert\" onclick=\"convertToInteractive('df-76301c95-5fdf-4ef7-ac64-ff541dc4d6f5')\"\n",
              "            title=\"Convert this dataframe to an interactive table.\"\n",
              "            style=\"display:none;\">\n",
              "\n",
              "  <svg xmlns=\"http://www.w3.org/2000/svg\" height=\"24px\" viewBox=\"0 -960 960 960\">\n",
              "    <path d=\"M120-120v-720h720v720H120Zm60-500h600v-160H180v160Zm220 220h160v-160H400v160Zm0 220h160v-160H400v160ZM180-400h160v-160H180v160Zm440 0h160v-160H620v160ZM180-180h160v-160H180v160Zm440 0h160v-160H620v160Z\"/>\n",
              "  </svg>\n",
              "    </button>\n",
              "\n",
              "  <style>\n",
              "    .colab-df-container {\n",
              "      display:flex;\n",
              "      gap: 12px;\n",
              "    }\n",
              "\n",
              "    .colab-df-convert {\n",
              "      background-color: #E8F0FE;\n",
              "      border: none;\n",
              "      border-radius: 50%;\n",
              "      cursor: pointer;\n",
              "      display: none;\n",
              "      fill: #1967D2;\n",
              "      height: 32px;\n",
              "      padding: 0 0 0 0;\n",
              "      width: 32px;\n",
              "    }\n",
              "\n",
              "    .colab-df-convert:hover {\n",
              "      background-color: #E2EBFA;\n",
              "      box-shadow: 0px 1px 2px rgba(60, 64, 67, 0.3), 0px 1px 3px 1px rgba(60, 64, 67, 0.15);\n",
              "      fill: #174EA6;\n",
              "    }\n",
              "\n",
              "    .colab-df-buttons div {\n",
              "      margin-bottom: 4px;\n",
              "    }\n",
              "\n",
              "    [theme=dark] .colab-df-convert {\n",
              "      background-color: #3B4455;\n",
              "      fill: #D2E3FC;\n",
              "    }\n",
              "\n",
              "    [theme=dark] .colab-df-convert:hover {\n",
              "      background-color: #434B5C;\n",
              "      box-shadow: 0px 1px 3px 1px rgba(0, 0, 0, 0.15);\n",
              "      filter: drop-shadow(0px 1px 2px rgba(0, 0, 0, 0.3));\n",
              "      fill: #FFFFFF;\n",
              "    }\n",
              "  </style>\n",
              "\n",
              "    <script>\n",
              "      const buttonEl =\n",
              "        document.querySelector('#df-76301c95-5fdf-4ef7-ac64-ff541dc4d6f5 button.colab-df-convert');\n",
              "      buttonEl.style.display =\n",
              "        google.colab.kernel.accessAllowed ? 'block' : 'none';\n",
              "\n",
              "      async function convertToInteractive(key) {\n",
              "        const element = document.querySelector('#df-76301c95-5fdf-4ef7-ac64-ff541dc4d6f5');\n",
              "        const dataTable =\n",
              "          await google.colab.kernel.invokeFunction('convertToInteractive',\n",
              "                                                    [key], {});\n",
              "        if (!dataTable) return;\n",
              "\n",
              "        const docLinkHtml = 'Like what you see? Visit the ' +\n",
              "          '<a target=\"_blank\" href=https://colab.research.google.com/notebooks/data_table.ipynb>data table notebook</a>'\n",
              "          + ' to learn more about interactive tables.';\n",
              "        element.innerHTML = '';\n",
              "        dataTable['output_type'] = 'display_data';\n",
              "        await google.colab.output.renderOutput(dataTable, element);\n",
              "        const docLink = document.createElement('div');\n",
              "        docLink.innerHTML = docLinkHtml;\n",
              "        element.appendChild(docLink);\n",
              "      }\n",
              "    </script>\n",
              "  </div>\n",
              "\n",
              "\n",
              "    <div id=\"df-a22c9e3e-c3bc-40f7-bc2d-4d74690447f4\">\n",
              "      <button class=\"colab-df-quickchart\" onclick=\"quickchart('df-a22c9e3e-c3bc-40f7-bc2d-4d74690447f4')\"\n",
              "                title=\"Suggest charts\"\n",
              "                style=\"display:none;\">\n",
              "\n",
              "<svg xmlns=\"http://www.w3.org/2000/svg\" height=\"24px\"viewBox=\"0 0 24 24\"\n",
              "     width=\"24px\">\n",
              "    <g>\n",
              "        <path d=\"M19 3H5c-1.1 0-2 .9-2 2v14c0 1.1.9 2 2 2h14c1.1 0 2-.9 2-2V5c0-1.1-.9-2-2-2zM9 17H7v-7h2v7zm4 0h-2V7h2v10zm4 0h-2v-4h2v4z\"/>\n",
              "    </g>\n",
              "</svg>\n",
              "      </button>\n",
              "\n",
              "<style>\n",
              "  .colab-df-quickchart {\n",
              "      --bg-color: #E8F0FE;\n",
              "      --fill-color: #1967D2;\n",
              "      --hover-bg-color: #E2EBFA;\n",
              "      --hover-fill-color: #174EA6;\n",
              "      --disabled-fill-color: #AAA;\n",
              "      --disabled-bg-color: #DDD;\n",
              "  }\n",
              "\n",
              "  [theme=dark] .colab-df-quickchart {\n",
              "      --bg-color: #3B4455;\n",
              "      --fill-color: #D2E3FC;\n",
              "      --hover-bg-color: #434B5C;\n",
              "      --hover-fill-color: #FFFFFF;\n",
              "      --disabled-bg-color: #3B4455;\n",
              "      --disabled-fill-color: #666;\n",
              "  }\n",
              "\n",
              "  .colab-df-quickchart {\n",
              "    background-color: var(--bg-color);\n",
              "    border: none;\n",
              "    border-radius: 50%;\n",
              "    cursor: pointer;\n",
              "    display: none;\n",
              "    fill: var(--fill-color);\n",
              "    height: 32px;\n",
              "    padding: 0;\n",
              "    width: 32px;\n",
              "  }\n",
              "\n",
              "  .colab-df-quickchart:hover {\n",
              "    background-color: var(--hover-bg-color);\n",
              "    box-shadow: 0 1px 2px rgba(60, 64, 67, 0.3), 0 1px 3px 1px rgba(60, 64, 67, 0.15);\n",
              "    fill: var(--button-hover-fill-color);\n",
              "  }\n",
              "\n",
              "  .colab-df-quickchart-complete:disabled,\n",
              "  .colab-df-quickchart-complete:disabled:hover {\n",
              "    background-color: var(--disabled-bg-color);\n",
              "    fill: var(--disabled-fill-color);\n",
              "    box-shadow: none;\n",
              "  }\n",
              "\n",
              "  .colab-df-spinner {\n",
              "    border: 2px solid var(--fill-color);\n",
              "    border-color: transparent;\n",
              "    border-bottom-color: var(--fill-color);\n",
              "    animation:\n",
              "      spin 1s steps(1) infinite;\n",
              "  }\n",
              "\n",
              "  @keyframes spin {\n",
              "    0% {\n",
              "      border-color: transparent;\n",
              "      border-bottom-color: var(--fill-color);\n",
              "      border-left-color: var(--fill-color);\n",
              "    }\n",
              "    20% {\n",
              "      border-color: transparent;\n",
              "      border-left-color: var(--fill-color);\n",
              "      border-top-color: var(--fill-color);\n",
              "    }\n",
              "    30% {\n",
              "      border-color: transparent;\n",
              "      border-left-color: var(--fill-color);\n",
              "      border-top-color: var(--fill-color);\n",
              "      border-right-color: var(--fill-color);\n",
              "    }\n",
              "    40% {\n",
              "      border-color: transparent;\n",
              "      border-right-color: var(--fill-color);\n",
              "      border-top-color: var(--fill-color);\n",
              "    }\n",
              "    60% {\n",
              "      border-color: transparent;\n",
              "      border-right-color: var(--fill-color);\n",
              "    }\n",
              "    80% {\n",
              "      border-color: transparent;\n",
              "      border-right-color: var(--fill-color);\n",
              "      border-bottom-color: var(--fill-color);\n",
              "    }\n",
              "    90% {\n",
              "      border-color: transparent;\n",
              "      border-bottom-color: var(--fill-color);\n",
              "    }\n",
              "  }\n",
              "</style>\n",
              "\n",
              "      <script>\n",
              "        async function quickchart(key) {\n",
              "          const quickchartButtonEl =\n",
              "            document.querySelector('#' + key + ' button');\n",
              "          quickchartButtonEl.disabled = true;  // To prevent multiple clicks.\n",
              "          quickchartButtonEl.classList.add('colab-df-spinner');\n",
              "          try {\n",
              "            const charts = await google.colab.kernel.invokeFunction(\n",
              "                'suggestCharts', [key], {});\n",
              "          } catch (error) {\n",
              "            console.error('Error during call to suggestCharts:', error);\n",
              "          }\n",
              "          quickchartButtonEl.classList.remove('colab-df-spinner');\n",
              "          quickchartButtonEl.classList.add('colab-df-quickchart-complete');\n",
              "        }\n",
              "        (() => {\n",
              "          let quickchartButtonEl =\n",
              "            document.querySelector('#df-a22c9e3e-c3bc-40f7-bc2d-4d74690447f4 button');\n",
              "          quickchartButtonEl.style.display =\n",
              "            google.colab.kernel.accessAllowed ? 'block' : 'none';\n",
              "        })();\n",
              "      </script>\n",
              "    </div>\n",
              "\n",
              "    </div>\n",
              "  </div>\n"
            ],
            "application/vnd.google.colaboratory.intrinsic+json": {
              "type": "dataframe",
              "variable_name": "df",
              "summary": "{\n  \"name\": \"df\",\n  \"rows\": 17534,\n  \"fields\": [\n    {\n      \"column\": \"Unnamed: 0\",\n      \"properties\": {\n        \"dtype\": \"number\",\n        \"std\": 5061,\n        \"min\": 0,\n        \"max\": 17533,\n        \"num_unique_values\": 17534,\n        \"samples\": [\n          7632,\n          1554,\n          5721\n        ],\n        \"semantic_type\": \"\",\n        \"description\": \"\"\n      }\n    },\n    {\n      \"column\": \"Order ID\",\n      \"properties\": {\n        \"dtype\": \"string\",\n        \"num_unique_values\": 17534,\n        \"samples\": [\n          \"ORD_841857\",\n          \"ORD_169290\",\n          \"ORD_173704\"\n        ],\n        \"semantic_type\": \"\",\n        \"description\": \"\"\n      }\n    },\n    {\n      \"column\": \"Customer ID\",\n      \"properties\": {\n        \"dtype\": \"category\",\n        \"num_unique_values\": 100,\n        \"samples\": [\n          \"CUST_022\",\n          \"CUST_001\",\n          \"CUST_019\"\n        ],\n        \"semantic_type\": \"\",\n        \"description\": \"\"\n      }\n    },\n    {\n      \"column\": \"Category\",\n      \"properties\": {\n        \"dtype\": \"category\",\n        \"num_unique_values\": 5,\n        \"samples\": [\n          \"Main Dishes\",\n          \"Starters\",\n          \"Drinks\"\n        ],\n        \"semantic_type\": \"\",\n        \"description\": \"\"\n      }\n    },\n    {\n      \"column\": \"Item\",\n      \"properties\": {\n        \"dtype\": \"category\",\n        \"num_unique_values\": 176,\n        \"samples\": [\n          \"Fruit Salad\",\n          \"FRUIT SALAD\",\n          \"ORANGE JUICE?\"\n        ],\n        \"semantic_type\": \"\",\n        \"description\": \"\"\n      }\n    },\n    {\n      \"column\": \"Price\",\n      \"properties\": {\n        \"dtype\": \"number\",\n        \"std\": 4.993781695720307,\n        \"min\": -1.0,\n        \"max\": 20.0,\n        \"num_unique_values\": 15,\n        \"samples\": [\n          2.5,\n          8.0,\n          3.0\n        ],\n        \"semantic_type\": \"\",\n        \"description\": \"\"\n      }\n    },\n    {\n      \"column\": \"Quantity\",\n      \"properties\": {\n        \"dtype\": \"number\",\n        \"std\": 1.414597513630417,\n        \"min\": 1.0,\n        \"max\": 5.0,\n        \"num_unique_values\": 5,\n        \"samples\": [\n          3.0,\n          5.0,\n          4.0\n        ],\n        \"semantic_type\": \"\",\n        \"description\": \"\"\n      }\n    },\n    {\n      \"column\": \"Order Total\",\n      \"properties\": {\n        \"dtype\": \"number\",\n        \"std\": 18.732548950059424,\n        \"min\": 1.0,\n        \"max\": 100.0,\n        \"num_unique_values\": 41,\n        \"samples\": [\n          16.0,\n          30.0,\n          70.0\n        ],\n        \"semantic_type\": \"\",\n        \"description\": \"\"\n      }\n    },\n    {\n      \"column\": \"Order Date\",\n      \"properties\": {\n        \"dtype\": \"object\",\n        \"num_unique_values\": 730,\n        \"samples\": [\n          \"2023-10-02\",\n          \"2022-06-13\",\n          \"2022-04-20\"\n        ],\n        \"semantic_type\": \"\",\n        \"description\": \"\"\n      }\n    },\n    {\n      \"column\": \"Payment Method\",\n      \"properties\": {\n        \"dtype\": \"category\",\n        \"num_unique_values\": 3,\n        \"samples\": [\n          \"Credit Card\",\n          \"Digital Wallet\",\n          \"Cash\"\n        ],\n        \"semantic_type\": \"\",\n        \"description\": \"\"\n      }\n    }\n  ]\n}"
            }
          },
          "metadata": {},
          "execution_count": 1
        }
      ]
    },
    {
      "cell_type": "code",
      "source": [
        "#javobni shu yerda yozing"
      ],
      "metadata": {
        "id": "Lt37epg8YTR1"
      },
      "execution_count": null,
      "outputs": []
    },
    {
      "cell_type": "markdown",
      "source": [
        "#2) Maʼlumotlarning umumiy holatini (info(), describe()) tekshiring."
      ],
      "metadata": {
        "id": "KwaHmTOl9CyF"
      }
    },
    {
      "cell_type": "code",
      "source": [
        "#javobni shu yerda yozing"
      ],
      "metadata": {
        "id": "bz0TzYna8Eqo"
      },
      "execution_count": null,
      "outputs": []
    },
    {
      "cell_type": "markdown",
      "source": [
        "#3) Har bir ustundagi boʻsh qiymatlarni aniqlang va ularni toʻldirish strategiyasini ishlab chiqing."
      ],
      "metadata": {
        "id": "xGW7RLaU9Vju"
      }
    },
    {
      "cell_type": "code",
      "source": [
        "#javobni shu yerda yozing"
      ],
      "metadata": {
        "id": "aLRD_Ehz9SWE"
      },
      "execution_count": null,
      "outputs": []
    },
    {
      "cell_type": "markdown",
      "source": [
        "#4) Har bir ustundagi takroriy qiymatlarni toping va ularga qanday oʻzgartirish kiritish kerakligini hal qiling."
      ],
      "metadata": {
        "id": "DuXQUURbAqjz"
      }
    },
    {
      "cell_type": "code",
      "source": [
        "#javobni shu yerda yozing"
      ],
      "metadata": {
        "id": "M5Gw2WD49iQQ"
      },
      "execution_count": null,
      "outputs": []
    },
    {
      "cell_type": "markdown",
      "source": [
        "#5) Maʼlumotlar toʻplamidagi noto‘g‘ri maʼlumotlar (masalan, son turishi kerak bo‘lgan ustunda matn bo‘lsa) mavjudligini tekshiring va to‘g‘rilang."
      ],
      "metadata": {
        "id": "fbRCQr33BQO7"
      }
    },
    {
      "cell_type": "code",
      "source": [
        "#javobni shu yerda yozing"
      ],
      "metadata": {
        "id": "qgZBkN8SBXuJ"
      },
      "execution_count": null,
      "outputs": []
    },
    {
      "cell_type": "markdown",
      "source": [
        "#6) Maʼlumotlar toʻplamidagi **katta/kichik harf** muammolari boʻlgan joylarni toping va bir xil formatga keltiring."
      ],
      "metadata": {
        "id": "6MIfB4zZBck6"
      }
    },
    {
      "cell_type": "code",
      "source": [
        "#javobni shu yerda yozing"
      ],
      "metadata": {
        "id": "I1rU6jDGBrvB"
      },
      "execution_count": null,
      "outputs": []
    },
    {
      "cell_type": "markdown",
      "source": [
        "#7) Maʼlumotlar turini oʻzgartirish.\n",
        " * Ustunlarning maʼlumot turlarini tekshiring. Notoʻgʻri turlarga ega boʻlgan ustunlarni toʻgʻri formatga oʻtkazing.\n",
        " * `order_date` yoki unga oʻxshash ustunni datetime formatiga oʻtkazing."
      ],
      "metadata": {
        "id": "iYViqvgcBtIr"
      }
    },
    {
      "cell_type": "code",
      "source": [
        "#javobni shu yerda yozing"
      ],
      "metadata": {
        "id": "B0jtd7GwCg80"
      },
      "execution_count": null,
      "outputs": []
    },
    {
      "cell_type": "markdown",
      "source": [
        "#8) Mahsulot nomlarida noto‘g‘ri yoki nomaʼlum belgilar (?, NaN, #) mavjudligini tekshiring va ularni tuzating."
      ],
      "metadata": {
        "id": "5KxCddT2CjOD"
      }
    },
    {
      "cell_type": "code",
      "source": [
        "#javobni shu yerda yozing"
      ],
      "metadata": {
        "id": "CE_0p3sfCwRY"
      },
      "execution_count": null,
      "outputs": []
    },
    {
      "cell_type": "markdown",
      "source": [
        "#**Maʼlumotlarni filtrlash va qayta ishlash**"
      ],
      "metadata": {
        "id": "-5uDXOiIDZeG"
      }
    },
    {
      "cell_type": "markdown",
      "source": [
        "#9) Manfiy narx yoki 0 ga teng narx qiymatlarini toping va ularni qanday oʻzgartirish kerakligini hal qiling."
      ],
      "metadata": {
        "id": "TU0D2kyFDxIL"
      }
    },
    {
      "cell_type": "code",
      "source": [
        "#javobni shu yerda yozing"
      ],
      "metadata": {
        "id": "QO8GxDGmEG8n"
      },
      "execution_count": null,
      "outputs": []
    },
    {
      "cell_type": "markdown",
      "source": [
        "#10) Boʻsh toifalar (kategoriya) mavjudligini tekshiring va toʻgʻri kategoriya berish strategiyasini ishlab chiqing."
      ],
      "metadata": {
        "id": "ctW9mQEzHRwE"
      }
    },
    {
      "cell_type": "code",
      "source": [
        "#javobni shu yerda yozing"
      ],
      "metadata": {
        "id": "xjZ7EK3SHZJ_"
      },
      "execution_count": null,
      "outputs": []
    },
    {
      "cell_type": "markdown",
      "source": [
        "#11) Bir xil, lekin turlicha yozilgan qiymatlar (Coffee, cofee, COFEE) mavjudligini tekshiring va tuzating."
      ],
      "metadata": {
        "id": "fwB59uGdH_bX"
      }
    },
    {
      "cell_type": "code",
      "source": [
        "#javobni shu yerda yozing"
      ],
      "metadata": {
        "id": "VUXL1AKhISvX"
      },
      "execution_count": null,
      "outputs": []
    },
    {
      "cell_type": "markdown",
      "source": [
        "#12) `Customer ID` yoki boshqa identifikatorlarning takrorlanishini tekshiring."
      ],
      "metadata": {
        "id": "VnU6WJI5KiKd"
      }
    },
    {
      "cell_type": "code",
      "source": [
        "#javobni shu yerda yozing"
      ],
      "metadata": {
        "id": "rOhrI-2cLFbi"
      },
      "execution_count": null,
      "outputs": []
    },
    {
      "cell_type": "markdown",
      "source": [
        "#13) Mahsulotning ortiqcha taʼriflarini olib tashlang (Water (0.5), Water (1.0), Water → faqat Water qoldirish)."
      ],
      "metadata": {
        "id": "qoVSr-H8LGxq"
      }
    },
    {
      "cell_type": "code",
      "source": [
        "#javobni shu yerda yozing"
      ],
      "metadata": {
        "id": "FXiEr3fiLR3R"
      },
      "execution_count": null,
      "outputs": []
    },
    {
      "cell_type": "markdown",
      "source": [
        "#**Qayta ishlangan maʼlumotlar bilan tahlil**"
      ],
      "metadata": {
        "id": "uQRzncvaSkv6"
      }
    },
    {
      "cell_type": "markdown",
      "source": [
        "#14) Eng koʻp sotilgan 5 ta mahsulotni aniqlang."
      ],
      "metadata": {
        "id": "bAV_IVP0SN6j"
      }
    },
    {
      "cell_type": "code",
      "source": [
        "#javobni shu yerda yozing"
      ],
      "metadata": {
        "id": "dA81q8p-R0mR"
      },
      "execution_count": null,
      "outputs": []
    },
    {
      "cell_type": "markdown",
      "source": [
        "#15) Har bir mijoz oʻrtacha qancha pul sarflaganini hisoblang."
      ],
      "metadata": {
        "id": "4GesRmeJSzAa"
      }
    },
    {
      "cell_type": "code",
      "source": [
        "#javobni shu yerda yozing"
      ],
      "metadata": {
        "id": "vCshapSFS7xZ"
      },
      "execution_count": null,
      "outputs": []
    },
    {
      "cell_type": "markdown",
      "source": [
        "#16) Mijozlarning qaysi kunlarda koʻproq xarid qilgani bo‘yicha tahlil qiling."
      ],
      "metadata": {
        "id": "qG0D7TBcS99v"
      }
    },
    {
      "cell_type": "code",
      "source": [
        "#javobni shu yerda yozing"
      ],
      "metadata": {
        "id": "rBu2WVyFTeZX"
      },
      "execution_count": null,
      "outputs": []
    },
    {
      "cell_type": "markdown",
      "source": [
        "#17) Narxi oʻrtacha narxdan ikki barobar yuqori boʻlgan mahsulotlarni toping."
      ],
      "metadata": {
        "id": "VIQ4pT7WTIRl"
      }
    },
    {
      "cell_type": "code",
      "source": [
        "#javobni shu yerda yozing"
      ],
      "metadata": {
        "id": "njavH8XtTYR2"
      },
      "execution_count": null,
      "outputs": []
    },
    {
      "cell_type": "markdown",
      "source": [
        "#18) Mahsulotlar kategoriyalari bo‘yicha tahlil qiling va eng ko‘p sotiladigan kategoriyalarni aniqlang."
      ],
      "metadata": {
        "id": "oNKPJK0rTa2b"
      }
    },
    {
      "cell_type": "code",
      "source": [
        "#javobni shu yerda yozing"
      ],
      "metadata": {
        "id": "NG2v1wYITlDQ"
      },
      "execution_count": null,
      "outputs": []
    },
    {
      "cell_type": "markdown",
      "source": [
        "#19) Har bir mijozning oʻrtacha xarid miqdorini (`groupby(\"customer_id\")`) hisoblang."
      ],
      "metadata": {
        "id": "1dvT1qFjTm5J"
      }
    },
    {
      "cell_type": "code",
      "source": [
        "#javobni shu yerda yozing"
      ],
      "metadata": {
        "id": "2-IMSwaJT1hr"
      },
      "execution_count": null,
      "outputs": []
    },
    {
      "cell_type": "markdown",
      "source": [
        "#20) Qanday omillar sotuv hajmiga ta’sir qiladi? Bu bo‘yicha umumiy xulosa chiqaring. Javobni quyida kommentariya sifatida yozing!"
      ],
      "metadata": {
        "id": "zkJ-osPCT3xb"
      }
    },
    {
      "cell_type": "code",
      "source": [
        "#javobni shu yerda yozing"
      ],
      "metadata": {
        "id": "kFqweyJDUDVp"
      },
      "execution_count": null,
      "outputs": []
    }
  ]
}