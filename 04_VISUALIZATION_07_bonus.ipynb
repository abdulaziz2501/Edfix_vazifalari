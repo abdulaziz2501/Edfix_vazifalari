{
  "cells": [
    {
      "cell_type": "markdown",
      "metadata": {
        "id": "iqQVEFWNqXYC"
      },
      "source": [
        "![Imgur](https://i.imgur.com/5pXzCIu.png)\n",
        "\n",
        "# Data Science va Sun'iy Intellekt Praktikum\n",
        "\n",
        "## 4-MODUL. VIZUALIZASIYA\n",
        "\n",
        "## BONUS. **LUX** - Vizualizasiyani osonlashtiruvchi tashqi kutubxona\n",
        "LINK: https://github.com/lux-org/lux"
      ]
    },
    {
      "cell_type": "markdown",
      "metadata": {
        "id": "s3WcOUMxqg6u"
      },
      "source": [
        "O'rnatish:"
      ]
    },
    {
      "cell_type": "code",
      "execution_count": 1,
      "metadata": {
        "colab": {
          "base_uri": "https://localhost:8080/"
        },
        "id": "Tc5ZR4XsqWQN",
        "outputId": "46482bc2-4f57-48c9-c533-50fc23b2a3c8"
      },
      "outputs": [
        {
          "output_type": "stream",
          "name": "stdout",
          "text": [
            "Collecting lux-api\n",
            "  Downloading lux-api-0.5.1.tar.gz (127 kB)\n",
            "\u001b[?25l     \u001b[90m━━━━━━━━━━━━━━━━━━━━━━━━━━━━━━━━━━━━━━━━\u001b[0m \u001b[32m0.0/127.0 kB\u001b[0m \u001b[31m?\u001b[0m eta \u001b[36m-:--:--\u001b[0m\r\u001b[2K     \u001b[91m━━━━━━━━━━━━━━━━━━━━━━━━━━━━━━━━━━━━\u001b[0m\u001b[91m╸\u001b[0m\u001b[90m━\u001b[0m \u001b[32m122.9/127.0 kB\u001b[0m \u001b[31m11.3 MB/s\u001b[0m eta \u001b[36m0:00:01\u001b[0m\r\u001b[2K     \u001b[90m━━━━━━━━━━━━━━━━━━━━━━━━━━━━━━━━━━━━━━━\u001b[0m \u001b[32m127.0/127.0 kB\u001b[0m \u001b[31m2.8 MB/s\u001b[0m eta \u001b[36m0:00:00\u001b[0m\n",
            "\u001b[?25h  Installing build dependencies ... \u001b[?25l\u001b[?25hdone\n",
            "  Getting requirements to build wheel ... \u001b[?25l\u001b[?25hdone\n",
            "  Preparing metadata (pyproject.toml) ... \u001b[?25l\u001b[?25hdone\n",
            "Requirement already satisfied: scipy>=1.3.3 in /usr/local/lib/python3.11/dist-packages (from lux-api) (1.15.3)\n",
            "Requirement already satisfied: altair>=4.0.0 in /usr/local/lib/python3.11/dist-packages (from lux-api) (5.5.0)\n",
            "Requirement already satisfied: numpy>=1.16.5 in /usr/local/lib/python3.11/dist-packages (from lux-api) (2.0.2)\n",
            "Requirement already satisfied: pandas in /usr/local/lib/python3.11/dist-packages (from lux-api) (2.2.2)\n",
            "Requirement already satisfied: scikit-learn>=0.22 in /usr/local/lib/python3.11/dist-packages (from lux-api) (1.6.1)\n",
            "Requirement already satisfied: matplotlib>=3.0.0 in /usr/local/lib/python3.11/dist-packages (from lux-api) (3.10.0)\n",
            "Collecting lux-widget>=0.1.4 (from lux-api)\n",
            "  Downloading lux-widget-0.1.11.tar.gz (2.5 MB)\n",
            "\u001b[2K     \u001b[90m━━━━━━━━━━━━━━━━━━━━━━━━━━━━━━━━━━━━━━━━\u001b[0m \u001b[32m2.5/2.5 MB\u001b[0m \u001b[31m38.2 MB/s\u001b[0m eta \u001b[36m0:00:00\u001b[0m\n",
            "\u001b[?25h  Preparing metadata (setup.py) ... \u001b[?25l\u001b[?25hdone\n",
            "Collecting autopep8>=1.5 (from lux-api)\n",
            "  Downloading autopep8-2.3.2-py2.py3-none-any.whl.metadata (16 kB)\n",
            "Collecting iso3166 (from lux-api)\n",
            "  Downloading iso3166-2.1.1-py3-none-any.whl.metadata (6.6 kB)\n",
            "Requirement already satisfied: psutil>=5.9.0 in /usr/local/lib/python3.11/dist-packages (from lux-api) (5.9.5)\n",
            "Collecting sh (from lux-api)\n",
            "  Downloading sh-2.2.2-py3-none-any.whl.metadata (3.7 kB)\n",
            "Requirement already satisfied: jinja2 in /usr/local/lib/python3.11/dist-packages (from altair>=4.0.0->lux-api) (3.1.6)\n",
            "Requirement already satisfied: jsonschema>=3.0 in /usr/local/lib/python3.11/dist-packages (from altair>=4.0.0->lux-api) (4.23.0)\n",
            "Requirement already satisfied: narwhals>=1.14.2 in /usr/local/lib/python3.11/dist-packages (from altair>=4.0.0->lux-api) (1.39.0)\n",
            "Requirement already satisfied: packaging in /usr/local/lib/python3.11/dist-packages (from altair>=4.0.0->lux-api) (24.2)\n",
            "Requirement already satisfied: typing-extensions>=4.10.0 in /usr/local/lib/python3.11/dist-packages (from altair>=4.0.0->lux-api) (4.13.2)\n",
            "Collecting pycodestyle>=2.12.0 (from autopep8>=1.5->lux-api)\n",
            "  Downloading pycodestyle-2.13.0-py2.py3-none-any.whl.metadata (4.5 kB)\n",
            "Requirement already satisfied: notebook>=4.0.0 in /usr/local/lib/python3.11/dist-packages (from lux-widget>=0.1.4->lux-api) (6.5.7)\n",
            "Requirement already satisfied: ipywidgets>=7.5.0 in /usr/local/lib/python3.11/dist-packages (from lux-widget>=0.1.4->lux-api) (7.7.1)\n",
            "Requirement already satisfied: contourpy>=1.0.1 in /usr/local/lib/python3.11/dist-packages (from matplotlib>=3.0.0->lux-api) (1.3.2)\n",
            "Requirement already satisfied: cycler>=0.10 in /usr/local/lib/python3.11/dist-packages (from matplotlib>=3.0.0->lux-api) (0.12.1)\n",
            "Requirement already satisfied: fonttools>=4.22.0 in /usr/local/lib/python3.11/dist-packages (from matplotlib>=3.0.0->lux-api) (4.58.0)\n",
            "Requirement already satisfied: kiwisolver>=1.3.1 in /usr/local/lib/python3.11/dist-packages (from matplotlib>=3.0.0->lux-api) (1.4.8)\n",
            "Requirement already satisfied: pillow>=8 in /usr/local/lib/python3.11/dist-packages (from matplotlib>=3.0.0->lux-api) (11.2.1)\n",
            "Requirement already satisfied: pyparsing>=2.3.1 in /usr/local/lib/python3.11/dist-packages (from matplotlib>=3.0.0->lux-api) (3.2.3)\n",
            "Requirement already satisfied: python-dateutil>=2.7 in /usr/local/lib/python3.11/dist-packages (from matplotlib>=3.0.0->lux-api) (2.9.0.post0)\n",
            "Requirement already satisfied: joblib>=1.2.0 in /usr/local/lib/python3.11/dist-packages (from scikit-learn>=0.22->lux-api) (1.5.0)\n",
            "Requirement already satisfied: threadpoolctl>=3.1.0 in /usr/local/lib/python3.11/dist-packages (from scikit-learn>=0.22->lux-api) (3.6.0)\n",
            "Requirement already satisfied: pytz>=2020.1 in /usr/local/lib/python3.11/dist-packages (from pandas->lux-api) (2025.2)\n",
            "Requirement already satisfied: tzdata>=2022.7 in /usr/local/lib/python3.11/dist-packages (from pandas->lux-api) (2025.2)\n",
            "Requirement already satisfied: ipykernel>=4.5.1 in /usr/local/lib/python3.11/dist-packages (from ipywidgets>=7.5.0->lux-widget>=0.1.4->lux-api) (6.17.1)\n",
            "Requirement already satisfied: ipython-genutils~=0.2.0 in /usr/local/lib/python3.11/dist-packages (from ipywidgets>=7.5.0->lux-widget>=0.1.4->lux-api) (0.2.0)\n",
            "Requirement already satisfied: traitlets>=4.3.1 in /usr/local/lib/python3.11/dist-packages (from ipywidgets>=7.5.0->lux-widget>=0.1.4->lux-api) (5.7.1)\n",
            "Requirement already satisfied: widgetsnbextension~=3.6.0 in /usr/local/lib/python3.11/dist-packages (from ipywidgets>=7.5.0->lux-widget>=0.1.4->lux-api) (3.6.10)\n",
            "Requirement already satisfied: ipython>=4.0.0 in /usr/local/lib/python3.11/dist-packages (from ipywidgets>=7.5.0->lux-widget>=0.1.4->lux-api) (7.34.0)\n",
            "Requirement already satisfied: jupyterlab-widgets>=1.0.0 in /usr/local/lib/python3.11/dist-packages (from ipywidgets>=7.5.0->lux-widget>=0.1.4->lux-api) (3.0.15)\n",
            "Requirement already satisfied: attrs>=22.2.0 in /usr/local/lib/python3.11/dist-packages (from jsonschema>=3.0->altair>=4.0.0->lux-api) (25.3.0)\n",
            "Requirement already satisfied: jsonschema-specifications>=2023.03.6 in /usr/local/lib/python3.11/dist-packages (from jsonschema>=3.0->altair>=4.0.0->lux-api) (2025.4.1)\n",
            "Requirement already satisfied: referencing>=0.28.4 in /usr/local/lib/python3.11/dist-packages (from jsonschema>=3.0->altair>=4.0.0->lux-api) (0.36.2)\n",
            "Requirement already satisfied: rpds-py>=0.7.1 in /usr/local/lib/python3.11/dist-packages (from jsonschema>=3.0->altair>=4.0.0->lux-api) (0.24.0)\n",
            "Requirement already satisfied: tornado>=6.1 in /usr/local/lib/python3.11/dist-packages (from notebook>=4.0.0->lux-widget>=0.1.4->lux-api) (6.4.2)\n",
            "Requirement already satisfied: pyzmq>=17 in /usr/local/lib/python3.11/dist-packages (from notebook>=4.0.0->lux-widget>=0.1.4->lux-api) (24.0.1)\n",
            "Requirement already satisfied: argon2-cffi in /usr/local/lib/python3.11/dist-packages (from notebook>=4.0.0->lux-widget>=0.1.4->lux-api) (23.1.0)\n",
            "Requirement already satisfied: jupyter-core>=4.6.1 in /usr/local/lib/python3.11/dist-packages (from notebook>=4.0.0->lux-widget>=0.1.4->lux-api) (5.7.2)\n",
            "Requirement already satisfied: jupyter-client<8,>=5.3.4 in /usr/local/lib/python3.11/dist-packages (from notebook>=4.0.0->lux-widget>=0.1.4->lux-api) (6.1.12)\n",
            "Requirement already satisfied: nbformat in /usr/local/lib/python3.11/dist-packages (from notebook>=4.0.0->lux-widget>=0.1.4->lux-api) (5.10.4)\n",
            "Requirement already satisfied: nbconvert>=5 in /usr/local/lib/python3.11/dist-packages (from notebook>=4.0.0->lux-widget>=0.1.4->lux-api) (7.16.6)\n",
            "Requirement already satisfied: nest-asyncio>=1.5 in /usr/local/lib/python3.11/dist-packages (from notebook>=4.0.0->lux-widget>=0.1.4->lux-api) (1.6.0)\n",
            "Requirement already satisfied: Send2Trash>=1.8.0 in /usr/local/lib/python3.11/dist-packages (from notebook>=4.0.0->lux-widget>=0.1.4->lux-api) (1.8.3)\n",
            "Requirement already satisfied: terminado>=0.8.3 in /usr/local/lib/python3.11/dist-packages (from notebook>=4.0.0->lux-widget>=0.1.4->lux-api) (0.18.1)\n",
            "Requirement already satisfied: prometheus-client in /usr/local/lib/python3.11/dist-packages (from notebook>=4.0.0->lux-widget>=0.1.4->lux-api) (0.21.1)\n",
            "Requirement already satisfied: nbclassic>=0.4.7 in /usr/local/lib/python3.11/dist-packages (from notebook>=4.0.0->lux-widget>=0.1.4->lux-api) (1.3.1)\n",
            "Requirement already satisfied: six>=1.5 in /usr/local/lib/python3.11/dist-packages (from python-dateutil>=2.7->matplotlib>=3.0.0->lux-api) (1.17.0)\n",
            "Requirement already satisfied: MarkupSafe>=2.0 in /usr/local/lib/python3.11/dist-packages (from jinja2->altair>=4.0.0->lux-api) (3.0.2)\n",
            "Requirement already satisfied: debugpy>=1.0 in /usr/local/lib/python3.11/dist-packages (from ipykernel>=4.5.1->ipywidgets>=7.5.0->lux-widget>=0.1.4->lux-api) (1.8.0)\n",
            "Requirement already satisfied: matplotlib-inline>=0.1 in /usr/local/lib/python3.11/dist-packages (from ipykernel>=4.5.1->ipywidgets>=7.5.0->lux-widget>=0.1.4->lux-api) (0.1.7)\n",
            "Requirement already satisfied: setuptools>=18.5 in /usr/local/lib/python3.11/dist-packages (from ipython>=4.0.0->ipywidgets>=7.5.0->lux-widget>=0.1.4->lux-api) (75.2.0)\n",
            "Collecting jedi>=0.16 (from ipython>=4.0.0->ipywidgets>=7.5.0->lux-widget>=0.1.4->lux-api)\n",
            "  Downloading jedi-0.19.2-py2.py3-none-any.whl.metadata (22 kB)\n",
            "Requirement already satisfied: decorator in /usr/local/lib/python3.11/dist-packages (from ipython>=4.0.0->ipywidgets>=7.5.0->lux-widget>=0.1.4->lux-api) (4.4.2)\n",
            "Requirement already satisfied: pickleshare in /usr/local/lib/python3.11/dist-packages (from ipython>=4.0.0->ipywidgets>=7.5.0->lux-widget>=0.1.4->lux-api) (0.7.5)\n",
            "Requirement already satisfied: prompt-toolkit!=3.0.0,!=3.0.1,<3.1.0,>=2.0.0 in /usr/local/lib/python3.11/dist-packages (from ipython>=4.0.0->ipywidgets>=7.5.0->lux-widget>=0.1.4->lux-api) (3.0.51)\n",
            "Requirement already satisfied: pygments in /usr/local/lib/python3.11/dist-packages (from ipython>=4.0.0->ipywidgets>=7.5.0->lux-widget>=0.1.4->lux-api) (2.19.1)\n",
            "Requirement already satisfied: backcall in /usr/local/lib/python3.11/dist-packages (from ipython>=4.0.0->ipywidgets>=7.5.0->lux-widget>=0.1.4->lux-api) (0.2.0)\n",
            "Requirement already satisfied: pexpect>4.3 in /usr/local/lib/python3.11/dist-packages (from ipython>=4.0.0->ipywidgets>=7.5.0->lux-widget>=0.1.4->lux-api) (4.9.0)\n",
            "Requirement already satisfied: platformdirs>=2.5 in /usr/local/lib/python3.11/dist-packages (from jupyter-core>=4.6.1->notebook>=4.0.0->lux-widget>=0.1.4->lux-api) (4.3.8)\n",
            "Requirement already satisfied: notebook-shim>=0.2.3 in /usr/local/lib/python3.11/dist-packages (from nbclassic>=0.4.7->notebook>=4.0.0->lux-widget>=0.1.4->lux-api) (0.2.4)\n",
            "Requirement already satisfied: beautifulsoup4 in /usr/local/lib/python3.11/dist-packages (from nbconvert>=5->notebook>=4.0.0->lux-widget>=0.1.4->lux-api) (4.13.4)\n",
            "Requirement already satisfied: bleach!=5.0.0 in /usr/local/lib/python3.11/dist-packages (from bleach[css]!=5.0.0->nbconvert>=5->notebook>=4.0.0->lux-widget>=0.1.4->lux-api) (6.2.0)\n",
            "Requirement already satisfied: defusedxml in /usr/local/lib/python3.11/dist-packages (from nbconvert>=5->notebook>=4.0.0->lux-widget>=0.1.4->lux-api) (0.7.1)\n",
            "Requirement already satisfied: jupyterlab-pygments in /usr/local/lib/python3.11/dist-packages (from nbconvert>=5->notebook>=4.0.0->lux-widget>=0.1.4->lux-api) (0.3.0)\n",
            "Requirement already satisfied: mistune<4,>=2.0.3 in /usr/local/lib/python3.11/dist-packages (from nbconvert>=5->notebook>=4.0.0->lux-widget>=0.1.4->lux-api) (3.1.3)\n",
            "Requirement already satisfied: nbclient>=0.5.0 in /usr/local/lib/python3.11/dist-packages (from nbconvert>=5->notebook>=4.0.0->lux-widget>=0.1.4->lux-api) (0.10.2)\n",
            "Requirement already satisfied: pandocfilters>=1.4.1 in /usr/local/lib/python3.11/dist-packages (from nbconvert>=5->notebook>=4.0.0->lux-widget>=0.1.4->lux-api) (1.5.1)\n",
            "Requirement already satisfied: fastjsonschema>=2.15 in /usr/local/lib/python3.11/dist-packages (from nbformat->notebook>=4.0.0->lux-widget>=0.1.4->lux-api) (2.21.1)\n",
            "Requirement already satisfied: ptyprocess in /usr/local/lib/python3.11/dist-packages (from terminado>=0.8.3->notebook>=4.0.0->lux-widget>=0.1.4->lux-api) (0.7.0)\n",
            "Requirement already satisfied: argon2-cffi-bindings in /usr/local/lib/python3.11/dist-packages (from argon2-cffi->notebook>=4.0.0->lux-widget>=0.1.4->lux-api) (21.2.0)\n",
            "Requirement already satisfied: webencodings in /usr/local/lib/python3.11/dist-packages (from bleach!=5.0.0->bleach[css]!=5.0.0->nbconvert>=5->notebook>=4.0.0->lux-widget>=0.1.4->lux-api) (0.5.1)\n",
            "Requirement already satisfied: tinycss2<1.5,>=1.1.0 in /usr/local/lib/python3.11/dist-packages (from bleach[css]!=5.0.0->nbconvert>=5->notebook>=4.0.0->lux-widget>=0.1.4->lux-api) (1.4.0)\n",
            "Requirement already satisfied: parso<0.9.0,>=0.8.4 in /usr/local/lib/python3.11/dist-packages (from jedi>=0.16->ipython>=4.0.0->ipywidgets>=7.5.0->lux-widget>=0.1.4->lux-api) (0.8.4)\n",
            "Requirement already satisfied: jupyter-server<3,>=1.8 in /usr/local/lib/python3.11/dist-packages (from notebook-shim>=0.2.3->nbclassic>=0.4.7->notebook>=4.0.0->lux-widget>=0.1.4->lux-api) (1.16.0)\n",
            "Requirement already satisfied: wcwidth in /usr/local/lib/python3.11/dist-packages (from prompt-toolkit!=3.0.0,!=3.0.1,<3.1.0,>=2.0.0->ipython>=4.0.0->ipywidgets>=7.5.0->lux-widget>=0.1.4->lux-api) (0.2.13)\n",
            "Requirement already satisfied: cffi>=1.0.1 in /usr/local/lib/python3.11/dist-packages (from argon2-cffi-bindings->argon2-cffi->notebook>=4.0.0->lux-widget>=0.1.4->lux-api) (1.17.1)\n",
            "Requirement already satisfied: soupsieve>1.2 in /usr/local/lib/python3.11/dist-packages (from beautifulsoup4->nbconvert>=5->notebook>=4.0.0->lux-widget>=0.1.4->lux-api) (2.7)\n",
            "Requirement already satisfied: pycparser in /usr/local/lib/python3.11/dist-packages (from cffi>=1.0.1->argon2-cffi-bindings->argon2-cffi->notebook>=4.0.0->lux-widget>=0.1.4->lux-api) (2.22)\n",
            "Requirement already satisfied: anyio>=3.1.0 in /usr/local/lib/python3.11/dist-packages (from jupyter-server<3,>=1.8->notebook-shim>=0.2.3->nbclassic>=0.4.7->notebook>=4.0.0->lux-widget>=0.1.4->lux-api) (4.9.0)\n",
            "Requirement already satisfied: websocket-client in /usr/local/lib/python3.11/dist-packages (from jupyter-server<3,>=1.8->notebook-shim>=0.2.3->nbclassic>=0.4.7->notebook>=4.0.0->lux-widget>=0.1.4->lux-api) (1.8.0)\n",
            "Requirement already satisfied: idna>=2.8 in /usr/local/lib/python3.11/dist-packages (from anyio>=3.1.0->jupyter-server<3,>=1.8->notebook-shim>=0.2.3->nbclassic>=0.4.7->notebook>=4.0.0->lux-widget>=0.1.4->lux-api) (3.10)\n",
            "Requirement already satisfied: sniffio>=1.1 in /usr/local/lib/python3.11/dist-packages (from anyio>=3.1.0->jupyter-server<3,>=1.8->notebook-shim>=0.2.3->nbclassic>=0.4.7->notebook>=4.0.0->lux-widget>=0.1.4->lux-api) (1.3.1)\n",
            "Downloading autopep8-2.3.2-py2.py3-none-any.whl (45 kB)\n",
            "\u001b[2K   \u001b[90m━━━━━━━━━━━━━━━━━━━━━━━━━━━━━━━━━━━━━━━━\u001b[0m \u001b[32m45.8/45.8 kB\u001b[0m \u001b[31m2.0 MB/s\u001b[0m eta \u001b[36m0:00:00\u001b[0m\n",
            "\u001b[?25hDownloading iso3166-2.1.1-py3-none-any.whl (9.8 kB)\n",
            "Downloading sh-2.2.2-py3-none-any.whl (38 kB)\n",
            "Downloading pycodestyle-2.13.0-py2.py3-none-any.whl (31 kB)\n",
            "Downloading jedi-0.19.2-py2.py3-none-any.whl (1.6 MB)\n",
            "\u001b[2K   \u001b[90m━━━━━━━━━━━━━━━━━━━━━━━━━━━━━━━━━━━━━━━━\u001b[0m \u001b[32m1.6/1.6 MB\u001b[0m \u001b[31m49.5 MB/s\u001b[0m eta \u001b[36m0:00:00\u001b[0m\n",
            "\u001b[?25hBuilding wheels for collected packages: lux-api, lux-widget\n",
            "  Building wheel for lux-api (pyproject.toml) ... \u001b[?25l\u001b[?25hdone\n",
            "  Created wheel for lux-api: filename=lux_api-0.5.1-py3-none-any.whl size=185710 sha256=82c8bac2adc445fc587dcaed5b4d4740df8a731ed11b3c88c03e72c0e2a96598\n",
            "  Stored in directory: /root/.cache/pip/wheels/95/b9/67/b0bf756f76d3f7aa1f21b94565ab425941ed4b96167dde296b\n",
            "  Building wheel for lux-widget (setup.py) ... \u001b[?25l\u001b[?25hdone\n",
            "  Created wheel for lux-widget: filename=lux_widget-0.1.11-py3-none-any.whl size=2540453 sha256=95c087d6a96d9f584e424af66b195e3cbbc2301ff5a6a80bb692bda0ee2895be\n",
            "  Stored in directory: /root/.cache/pip/wheels/9a/61/39/2671dcc0a0e311cf4e15cfe09ca9611f2c3a385e32bc6173a0\n",
            "Successfully built lux-api lux-widget\n",
            "Installing collected packages: sh, pycodestyle, jedi, iso3166, autopep8, lux-widget, lux-api\n",
            "Successfully installed autopep8-2.3.2 iso3166-2.1.1 jedi-0.19.2 lux-api-0.5.1 lux-widget-0.1.11 pycodestyle-2.13.0 sh-2.2.2\n"
          ]
        }
      ],
      "source": [
        "pip install lux-api"
      ]
    },
    {
      "cell_type": "markdown",
      "metadata": {
        "id": "3Qfm1FySsU8S"
      },
      "source": [
        "## Jupyter Notebook ishlatuvchilar:"
      ]
    },
    {
      "cell_type": "code",
      "execution_count": null,
      "metadata": {
        "id": "1cDISQbUsa3l"
      },
      "outputs": [],
      "source": [
        "# jupyter nbextension install --py luxwidget\n",
        "# jupyter nbextension enable --py luxwidget"
      ]
    },
    {
      "cell_type": "markdown",
      "metadata": {
        "id": "sjShOdKQscoH"
      },
      "source": [
        "### Google Colab ishlatuvchilar:"
      ]
    },
    {
      "cell_type": "code",
      "execution_count": 2,
      "metadata": {
        "id": "164zbchQrWOc"
      },
      "outputs": [],
      "source": [
        "from google.colab import output\n",
        "output.enable_custom_widget_manager()"
      ]
    },
    {
      "cell_type": "code",
      "execution_count": 3,
      "metadata": {
        "id": "ZXujM3PvqzMs"
      },
      "outputs": [],
      "source": [
        "import lux\n",
        "import pandas as pd\n",
        "import numpy as np"
      ]
    },
    {
      "cell_type": "code",
      "execution_count": 4,
      "metadata": {
        "colab": {
          "base_uri": "https://localhost:8080/",
          "height": 855,
          "referenced_widgets": [
            "9962397ea75b46fbba206a5b4b92bc9a",
            "ff0bcb5d62ff439689910de09a125ab9",
            "15184ce4c2934971a3ee249c66fceef1",
            "0f2bc97365634ee8b57470d0d87ddf85",
            "cafdca5c8d04462a84c08f78d51cb57a",
            "8e78cad6435e4769915f3e6b2b6975a7",
            "965d1a6375f84007bec851e441fbf440"
          ]
        },
        "id": "mMV44LdQqk1Y",
        "outputId": "aa21e9a1-5af0-4627-bc3b-4bbe89dc0bce"
      },
      "outputs": [
        {
          "output_type": "stream",
          "name": "stderr",
          "text": [
            "/usr/local/lib/python3.11/dist-packages/lux/executor/PandasExecutor.py:548: UserWarning:Could not infer format, so each element will be parsed individually, falling back to `dateutil`. To ensure parsing is consistent and as-expected, please specify a format.\n",
            "/usr/local/lib/python3.11/dist-packages/lux/executor/PandasExecutor.py:567: UserWarning:Could not infer format, so each element will be parsed individually, falling back to `dateutil`. To ensure parsing is consistent and as-expected, please specify a format.\n",
            "/usr/local/lib/python3.11/dist-packages/lux/executor/PandasExecutor.py:548: UserWarning:Could not infer format, so each element will be parsed individually, falling back to `dateutil`. To ensure parsing is consistent and as-expected, please specify a format.\n",
            "/usr/local/lib/python3.11/dist-packages/lux/executor/PandasExecutor.py:567: UserWarning:Could not infer format, so each element will be parsed individually, falling back to `dateutil`. To ensure parsing is consistent and as-expected, please specify a format.\n",
            "/usr/local/lib/python3.11/dist-packages/lux/executor/PandasExecutor.py:548: UserWarning:Could not infer format, so each element will be parsed individually, falling back to `dateutil`. To ensure parsing is consistent and as-expected, please specify a format.\n",
            "/usr/local/lib/python3.11/dist-packages/lux/executor/PandasExecutor.py:567: UserWarning:Could not infer format, so each element will be parsed individually, falling back to `dateutil`. To ensure parsing is consistent and as-expected, please specify a format.\n",
            "/usr/local/lib/python3.11/dist-packages/lux/executor/PandasExecutor.py:548: UserWarning:Could not infer format, so each element will be parsed individually, falling back to `dateutil`. To ensure parsing is consistent and as-expected, please specify a format.\n",
            "/usr/local/lib/python3.11/dist-packages/lux/executor/PandasExecutor.py:567: UserWarning:Could not infer format, so each element will be parsed individually, falling back to `dateutil`. To ensure parsing is consistent and as-expected, please specify a format.\n",
            "/usr/local/lib/python3.11/dist-packages/lux/executor/PandasExecutor.py:548: UserWarning:Could not infer format, so each element will be parsed individually, falling back to `dateutil`. To ensure parsing is consistent and as-expected, please specify a format.\n",
            "/usr/local/lib/python3.11/dist-packages/lux/executor/PandasExecutor.py:567: UserWarning:Could not infer format, so each element will be parsed individually, falling back to `dateutil`. To ensure parsing is consistent and as-expected, please specify a format.\n",
            "/usr/local/lib/python3.11/dist-packages/lux/executor/PandasExecutor.py:548: UserWarning:Could not infer format, so each element will be parsed individually, falling back to `dateutil`. To ensure parsing is consistent and as-expected, please specify a format.\n",
            "/usr/local/lib/python3.11/dist-packages/lux/executor/PandasExecutor.py:567: UserWarning:Could not infer format, so each element will be parsed individually, falling back to `dateutil`. To ensure parsing is consistent and as-expected, please specify a format.\n",
            "/usr/local/lib/python3.11/dist-packages/lux/core/groupby.py:29: FutureWarning:The default of observed=False is deprecated and will be changed to True in a future version of pandas. Pass observed=False to retain current behavior or observed=True to adopt the future default and silence this warning.\n",
            "/usr/local/lib/python3.11/dist-packages/lux/core/groupby.py:29: FutureWarning:The default of observed=False is deprecated and will be changed to True in a future version of pandas. Pass observed=False to retain current behavior or observed=True to adopt the future default and silence this warning.\n",
            "/usr/local/lib/python3.11/dist-packages/lux/core/groupby.py:29: FutureWarning:The default of observed=False is deprecated and will be changed to True in a future version of pandas. Pass observed=False to retain current behavior or observed=True to adopt the future default and silence this warning.\n",
            "/usr/local/lib/python3.11/dist-packages/lux/core/groupby.py:29: FutureWarning:The default of observed=False is deprecated and will be changed to True in a future version of pandas. Pass observed=False to retain current behavior or observed=True to adopt the future default and silence this warning.\n",
            "/usr/local/lib/python3.11/dist-packages/lux/core/groupby.py:29: FutureWarning:The default of observed=False is deprecated and will be changed to True in a future version of pandas. Pass observed=False to retain current behavior or observed=True to adopt the future default and silence this warning.\n",
            "/usr/local/lib/python3.11/dist-packages/lux/core/groupby.py:29: FutureWarning:The default of observed=False is deprecated and will be changed to True in a future version of pandas. Pass observed=False to retain current behavior or observed=True to adopt the future default and silence this warning.\n",
            "/usr/local/lib/python3.11/dist-packages/lux/core/groupby.py:29: FutureWarning:The default of observed=False is deprecated and will be changed to True in a future version of pandas. Pass observed=False to retain current behavior or observed=True to adopt the future default and silence this warning.\n",
            "/usr/local/lib/python3.11/dist-packages/lux/core/groupby.py:29: FutureWarning:The default of observed=False is deprecated and will be changed to True in a future version of pandas. Pass observed=False to retain current behavior or observed=True to adopt the future default and silence this warning.\n",
            "/usr/local/lib/python3.11/dist-packages/lux/core/groupby.py:29: FutureWarning:The default of observed=False is deprecated and will be changed to True in a future version of pandas. Pass observed=False to retain current behavior or observed=True to adopt the future default and silence this warning.\n",
            "/usr/local/lib/python3.11/dist-packages/lux/core/groupby.py:29: FutureWarning:The default of observed=False is deprecated and will be changed to True in a future version of pandas. Pass observed=False to retain current behavior or observed=True to adopt the future default and silence this warning.\n",
            "/usr/local/lib/python3.11/dist-packages/lux/core/groupby.py:29: FutureWarning:The default of observed=False is deprecated and will be changed to True in a future version of pandas. Pass observed=False to retain current behavior or observed=True to adopt the future default and silence this warning.\n",
            "/usr/local/lib/python3.11/dist-packages/lux/core/groupby.py:29: FutureWarning:The default of observed=False is deprecated and will be changed to True in a future version of pandas. Pass observed=False to retain current behavior or observed=True to adopt the future default and silence this warning.\n",
            "/usr/local/lib/python3.11/dist-packages/lux/executor/PandasExecutor.py:567: UserWarning:Could not infer format, so each element will be parsed individually, falling back to `dateutil`. To ensure parsing is consistent and as-expected, please specify a format.\n"
          ]
        },
        {
          "output_type": "display_data",
          "data": {
            "text/plain": [
              "Button(description='Toggle Pandas/Lux', layout=Layout(top='5px', width='140px'), style=ButtonStyle())"
            ],
            "application/vnd.jupyter.widget-view+json": {
              "version_major": 2,
              "version_minor": 0,
              "model_id": "9962397ea75b46fbba206a5b4b92bc9a"
            }
          },
          "metadata": {
            "application/vnd.jupyter.widget-view+json": {
              "colab": {
                "custom_widget_manager": {
                  "url": "https://ssl.gstatic.com/colaboratory-static/widgets/colab-cdn-widget-manager/2b70e893a8ba7c0f/manager.min.js"
                }
              }
            }
          }
        },
        {
          "output_type": "display_data",
          "data": {
            "text/plain": [
              "Output()"
            ],
            "application/vnd.jupyter.widget-view+json": {
              "version_major": 2,
              "version_minor": 0,
              "model_id": "0f2bc97365634ee8b57470d0d87ddf85"
            }
          },
          "metadata": {
            "application/vnd.jupyter.widget-view+json": {
              "colab": {
                "custom_widget_manager": {
                  "url": "https://ssl.gstatic.com/colaboratory-static/widgets/colab-cdn-widget-manager/2b70e893a8ba7c0f/manager.min.js"
                }
              }
            }
          }
        }
      ],
      "source": [
        "df = pd.read_csv(\"https://raw.githubusercontent.com/anvarnarz/praktikum_datasets/main/merc.csv\")\n",
        "df=df[df.year>=2010] # 2010-yildan keyin chiqqan mashinalarni saqlab qolamiz\n",
        "df=df[df.transmission!='Other'] # Faqat avtomat, mexanik va yarim-avtomat mashinalarni olib qolamiz\n",
        "df=df[df.fuelType!='Other'] # Faqat benzin, dizel va gibrid mashinalarni olib qolamiz\n",
        "df['year'] = pd.to_datetime(df['year'], format='%Y')\n",
        "df.head()"
      ]
    },
    {
      "cell_type": "code",
      "execution_count": 7,
      "metadata": {
        "colab": {
          "base_uri": "https://localhost:8080/",
          "height": 1000
        },
        "id": "Lswy8x7iqv3_",
        "outputId": "c8a4c422-8fe8-401e-a722-d0e04206c9d7"
      },
      "outputs": [
        {
          "output_type": "stream",
          "name": "stderr",
          "text": [
            "/usr/local/lib/python3.11/dist-packages/lux/executor/PandasExecutor.py:548: UserWarning:Could not infer format, so each element will be parsed individually, falling back to `dateutil`. To ensure parsing is consistent and as-expected, please specify a format.\n",
            "/usr/local/lib/python3.11/dist-packages/lux/executor/PandasExecutor.py:567: UserWarning:Could not infer format, so each element will be parsed individually, falling back to `dateutil`. To ensure parsing is consistent and as-expected, please specify a format.\n",
            "/usr/local/lib/python3.11/dist-packages/lux/executor/PandasExecutor.py:548: UserWarning:Could not infer format, so each element will be parsed individually, falling back to `dateutil`. To ensure parsing is consistent and as-expected, please specify a format.\n",
            "/usr/local/lib/python3.11/dist-packages/lux/executor/PandasExecutor.py:567: UserWarning:Could not infer format, so each element will be parsed individually, falling back to `dateutil`. To ensure parsing is consistent and as-expected, please specify a format.\n",
            "/usr/local/lib/python3.11/dist-packages/lux/executor/PandasExecutor.py:548: UserWarning:Could not infer format, so each element will be parsed individually, falling back to `dateutil`. To ensure parsing is consistent and as-expected, please specify a format.\n",
            "/usr/local/lib/python3.11/dist-packages/lux/executor/PandasExecutor.py:567: UserWarning:Could not infer format, so each element will be parsed individually, falling back to `dateutil`. To ensure parsing is consistent and as-expected, please specify a format.\n",
            "/usr/local/lib/python3.11/dist-packages/lux/executor/PandasExecutor.py:548: UserWarning:Could not infer format, so each element will be parsed individually, falling back to `dateutil`. To ensure parsing is consistent and as-expected, please specify a format.\n",
            "/usr/local/lib/python3.11/dist-packages/lux/executor/PandasExecutor.py:567: UserWarning:Could not infer format, so each element will be parsed individually, falling back to `dateutil`. To ensure parsing is consistent and as-expected, please specify a format.\n",
            "/usr/local/lib/python3.11/dist-packages/lux/executor/PandasExecutor.py:548: UserWarning:Could not infer format, so each element will be parsed individually, falling back to `dateutil`. To ensure parsing is consistent and as-expected, please specify a format.\n",
            "/usr/local/lib/python3.11/dist-packages/lux/executor/PandasExecutor.py:567: UserWarning:Could not infer format, so each element will be parsed individually, falling back to `dateutil`. To ensure parsing is consistent and as-expected, please specify a format.\n",
            "/usr/local/lib/python3.11/dist-packages/lux/executor/PandasExecutor.py:548: UserWarning:Could not infer format, so each element will be parsed individually, falling back to `dateutil`. To ensure parsing is consistent and as-expected, please specify a format.\n",
            "/usr/local/lib/python3.11/dist-packages/lux/executor/PandasExecutor.py:567: UserWarning:Could not infer format, so each element will be parsed individually, falling back to `dateutil`. To ensure parsing is consistent and as-expected, please specify a format.\n",
            "/usr/local/lib/python3.11/dist-packages/lux/core/groupby.py:29: FutureWarning:The default of observed=False is deprecated and will be changed to True in a future version of pandas. Pass observed=False to retain current behavior or observed=True to adopt the future default and silence this warning.\n",
            "/usr/local/lib/python3.11/dist-packages/lux/core/groupby.py:29: FutureWarning:The default of observed=False is deprecated and will be changed to True in a future version of pandas. Pass observed=False to retain current behavior or observed=True to adopt the future default and silence this warning.\n",
            "/usr/local/lib/python3.11/dist-packages/lux/core/groupby.py:29: FutureWarning:The default of observed=False is deprecated and will be changed to True in a future version of pandas. Pass observed=False to retain current behavior or observed=True to adopt the future default and silence this warning.\n",
            "/usr/local/lib/python3.11/dist-packages/IPython/core/formatters.py:918: UserWarning:\n",
            "Unexpected error in rendering Lux widget and recommendations. Falling back to Pandas display.\n",
            "Please report the following issue on Github: https://github.com/lux-org/lux/issues \n",
            "\n",
            "/usr/local/lib/python3.11/dist-packages/lux/core/frame.py:632: UserWarning:Traceback (most recent call last):\n",
            "  File \"/usr/local/lib/python3.11/dist-packages/lux/core/frame.py\", line 594, in _ipython_display_\n",
            "    self.maintain_recs()\n",
            "  File \"/usr/local/lib/python3.11/dist-packages/lux/core/frame.py\", line 436, in maintain_recs\n",
            "    custom_action_collection = custom_actions(rec_df)\n",
            "                               ^^^^^^^^^^^^^^^^^^^^^^\n",
            "  File \"/usr/local/lib/python3.11/dist-packages/lux/action/custom.py\", line 76, in custom_actions\n",
            "    recommendation = lux.config.actions[action_name].action(ldf)\n",
            "                     ^^^^^^^^^^^^^^^^^^^^^^^^^^^^^^^^^^^^^^^^^^^\n",
            "  File \"/usr/local/lib/python3.11/dist-packages/lux/action/enhance.py\", line 65, in enhance\n",
            "    vlist = lux.vis.VisList.VisList(intent, ldf)\n",
            "            ^^^^^^^^^^^^^^^^^^^^^^^^^^^^^^^^^^^^\n",
            "  File \"/usr/local/lib/python3.11/dist-packages/lux/vis/VisList.py\", line 43, in __init__\n",
            "    self.refresh_source(self._source)\n",
            "  File \"/usr/local/lib/python3.11/dist-packages/lux/vis/VisList.py\", line 336, in refresh_source\n",
            "    lux.config.executor.execute(self._collection, ldf, approx=approx)\n",
            "  File \"/usr/local/lib/python3.11/dist-packages/lux/executor/PandasExecutor.py\", line 147, in execute\n",
            "    PandasExecutor.execute_2D_binning(vis)\n",
            "  File \"/usr/local/lib/python3.11/dist-packages/lux/executor/PandasExecutor.py\", line 422, in execute_2D_binning\n",
            "    result = groups.agg(\n",
            "             ^^^^^^^^^^^\n",
            "  File \"/usr/local/lib/python3.11/dist-packages/lux/core/groupby.py\", line 32, in aggregate\n",
            "    ret_val = super(LuxGroupBy, self).aggregate(*args, **kwargs)\n",
            "              ^^^^^^^^^^^^^^^^^^^^^^^^^^^^^^^^^^^^^^^^^^^^^^^^^^\n",
            "  File \"/usr/local/lib/python3.11/dist-packages/pandas/core/groupby/generic.py\", line 257, in aggregate\n",
            "    ret = self._aggregate_multiple_funcs(func, *args, **kwargs)\n",
            "          ^^^^^^^^^^^^^^^^^^^^^^^^^^^^^^^^^^^^^^^^^^^^^^^^^^^^^\n",
            "  File \"/usr/local/lib/python3.11/dist-packages/pandas/core/groupby/generic.py\", line 362, in _aggregate_multiple_funcs\n",
            "    results[key] = self.aggregate(func, *args, **kwargs)\n",
            "                   ^^^^^^^^^^^^^^^^^^^^^^^^^^^^^^^^^^^^^\n",
            "  File \"/usr/local/lib/python3.11/dist-packages/lux/core/groupby.py\", line 32, in aggregate\n",
            "    ret_val = super(LuxGroupBy, self).aggregate(*args, **kwargs)\n",
            "              ^^^^^^^^^^^^^^^^^^^^^^^^^^^^^^^^^^^^^^^^^^^^^^^^^^\n",
            "  File \"/usr/local/lib/python3.11/dist-packages/pandas/core/groupby/generic.py\", line 291, in aggregate\n",
            "    return self._python_agg_general(func, *args, **kwargs)\n",
            "           ^^^^^^^^^^^^^^^^^^^^^^^^^^^^^^^^^^^^^^^^^^^^^^^\n",
            "  File \"/usr/local/lib/python3.11/dist-packages/pandas/core/groupby/generic.py\", line 327, in _python_agg_general\n",
            "    result = self._grouper.agg_series(obj, f)\n",
            "             ^^^^^^^^^^^^^^^^^^^^^^^^^^^^^^^^\n",
            "  File \"/usr/local/lib/python3.11/dist-packages/pandas/core/groupby/ops.py\", line 864, in agg_series\n",
            "    result = self._aggregate_series_pure_python(obj, func)\n",
            "             ^^^^^^^^^^^^^^^^^^^^^^^^^^^^^^^^^^^^^^^^^^^^^\n",
            "  File \"/usr/local/lib/python3.11/dist-packages/pandas/core/groupby/ops.py\", line 884, in _aggregate_series_pure_python\n",
            "    for i, group in enumerate(splitter):\n",
            "  File \"/usr/local/lib/python3.11/dist-packages/pandas/core/groupby/ops.py\", line 1160, in __iter__\n",
            "    yield self._chop(sdata, slice(start, end))\n",
            "          ^^^^^^^^^^^^^^^^^^^^^^^^^^^^^^^^^^^^\n",
            "  File \"/usr/local/lib/python3.11/dist-packages/pandas/core/groupby/ops.py\", line 1186, in _chop\n",
            "    mgr = sdata._mgr.get_slice(slice_obj, axis=1 - self.axis)\n",
            "          ^^^^^^^^^^^^^^^^^^^^^^^^^^^^^^^^^^^^^^^^^^^^^^^^^^^\n",
            "  File \"/usr/local/lib/python3.11/dist-packages/pandas/core/internals/managers.py\", line 1978, in get_slice\n",
            "    raise IndexError(\"Requested axis not found in manager\")\n",
            "IndexError: Requested axis not found in manager\n",
            "\n"
          ]
        },
        {
          "output_type": "display_data",
          "data": {
            "text/plain": [
              "       model       year   price transmission  mileage fuelType  tax   mpg  \\\n",
              "1    S Class 2017-01-01   34948    Automatic    27000   Hybrid   20  61.4   \n",
              "2   SL CLASS 2016-01-01   49948    Automatic     6200   Petrol  555  28.0   \n",
              "3    G Class 2016-01-01   61948    Automatic    16000   Petrol  325  30.4   \n",
              "4    G Class 2016-01-01   73948    Automatic     4000   Petrol  325  30.1   \n",
              "5   SL CLASS 2011-01-01  149948    Automatic     3000   Petrol  570  21.4   \n",
              "\n",
              "   engineSize  \n",
              "1         2.1  \n",
              "2         5.5  \n",
              "3         4.0  \n",
              "4         4.0  \n",
              "5         6.2  "
            ],
            "text/html": [
              "\n",
              "  <div id=\"df-b1355dca-0e74-4200-bc33-a53a67ab54f2\" class=\"colab-df-container\">\n",
              "    <div>\n",
              "<style scoped>\n",
              "    .dataframe tbody tr th:only-of-type {\n",
              "        vertical-align: middle;\n",
              "    }\n",
              "\n",
              "    .dataframe tbody tr th {\n",
              "        vertical-align: top;\n",
              "    }\n",
              "\n",
              "    .dataframe thead th {\n",
              "        text-align: right;\n",
              "    }\n",
              "</style>\n",
              "<table border=\"1\" class=\"dataframe\">\n",
              "  <thead>\n",
              "    <tr style=\"text-align: right;\">\n",
              "      <th></th>\n",
              "      <th>model</th>\n",
              "      <th>year</th>\n",
              "      <th>price</th>\n",
              "      <th>transmission</th>\n",
              "      <th>mileage</th>\n",
              "      <th>fuelType</th>\n",
              "      <th>tax</th>\n",
              "      <th>mpg</th>\n",
              "      <th>engineSize</th>\n",
              "    </tr>\n",
              "  </thead>\n",
              "  <tbody>\n",
              "    <tr>\n",
              "      <th>1</th>\n",
              "      <td>S Class</td>\n",
              "      <td>2017-01-01</td>\n",
              "      <td>34948</td>\n",
              "      <td>Automatic</td>\n",
              "      <td>27000</td>\n",
              "      <td>Hybrid</td>\n",
              "      <td>20</td>\n",
              "      <td>61.4</td>\n",
              "      <td>2.1</td>\n",
              "    </tr>\n",
              "    <tr>\n",
              "      <th>2</th>\n",
              "      <td>SL CLASS</td>\n",
              "      <td>2016-01-01</td>\n",
              "      <td>49948</td>\n",
              "      <td>Automatic</td>\n",
              "      <td>6200</td>\n",
              "      <td>Petrol</td>\n",
              "      <td>555</td>\n",
              "      <td>28.0</td>\n",
              "      <td>5.5</td>\n",
              "    </tr>\n",
              "    <tr>\n",
              "      <th>3</th>\n",
              "      <td>G Class</td>\n",
              "      <td>2016-01-01</td>\n",
              "      <td>61948</td>\n",
              "      <td>Automatic</td>\n",
              "      <td>16000</td>\n",
              "      <td>Petrol</td>\n",
              "      <td>325</td>\n",
              "      <td>30.4</td>\n",
              "      <td>4.0</td>\n",
              "    </tr>\n",
              "    <tr>\n",
              "      <th>4</th>\n",
              "      <td>G Class</td>\n",
              "      <td>2016-01-01</td>\n",
              "      <td>73948</td>\n",
              "      <td>Automatic</td>\n",
              "      <td>4000</td>\n",
              "      <td>Petrol</td>\n",
              "      <td>325</td>\n",
              "      <td>30.1</td>\n",
              "      <td>4.0</td>\n",
              "    </tr>\n",
              "    <tr>\n",
              "      <th>5</th>\n",
              "      <td>SL CLASS</td>\n",
              "      <td>2011-01-01</td>\n",
              "      <td>149948</td>\n",
              "      <td>Automatic</td>\n",
              "      <td>3000</td>\n",
              "      <td>Petrol</td>\n",
              "      <td>570</td>\n",
              "      <td>21.4</td>\n",
              "      <td>6.2</td>\n",
              "    </tr>\n",
              "  </tbody>\n",
              "</table>\n",
              "</div>\n",
              "    <div class=\"colab-df-buttons\">\n",
              "\n",
              "  <div class=\"colab-df-container\">\n",
              "    <button class=\"colab-df-convert\" onclick=\"convertToInteractive('df-b1355dca-0e74-4200-bc33-a53a67ab54f2')\"\n",
              "            title=\"Convert this dataframe to an interactive table.\"\n",
              "            style=\"display:none;\">\n",
              "\n",
              "  <svg xmlns=\"http://www.w3.org/2000/svg\" height=\"24px\" viewBox=\"0 -960 960 960\">\n",
              "    <path d=\"M120-120v-720h720v720H120Zm60-500h600v-160H180v160Zm220 220h160v-160H400v160Zm0 220h160v-160H400v160ZM180-400h160v-160H180v160Zm440 0h160v-160H620v160ZM180-180h160v-160H180v160Zm440 0h160v-160H620v160Z\"/>\n",
              "  </svg>\n",
              "    </button>\n",
              "\n",
              "  <style>\n",
              "    .colab-df-container {\n",
              "      display:flex;\n",
              "      gap: 12px;\n",
              "    }\n",
              "\n",
              "    .colab-df-convert {\n",
              "      background-color: #E8F0FE;\n",
              "      border: none;\n",
              "      border-radius: 50%;\n",
              "      cursor: pointer;\n",
              "      display: none;\n",
              "      fill: #1967D2;\n",
              "      height: 32px;\n",
              "      padding: 0 0 0 0;\n",
              "      width: 32px;\n",
              "    }\n",
              "\n",
              "    .colab-df-convert:hover {\n",
              "      background-color: #E2EBFA;\n",
              "      box-shadow: 0px 1px 2px rgba(60, 64, 67, 0.3), 0px 1px 3px 1px rgba(60, 64, 67, 0.15);\n",
              "      fill: #174EA6;\n",
              "    }\n",
              "\n",
              "    .colab-df-buttons div {\n",
              "      margin-bottom: 4px;\n",
              "    }\n",
              "\n",
              "    [theme=dark] .colab-df-convert {\n",
              "      background-color: #3B4455;\n",
              "      fill: #D2E3FC;\n",
              "    }\n",
              "\n",
              "    [theme=dark] .colab-df-convert:hover {\n",
              "      background-color: #434B5C;\n",
              "      box-shadow: 0px 1px 3px 1px rgba(0, 0, 0, 0.15);\n",
              "      filter: drop-shadow(0px 1px 2px rgba(0, 0, 0, 0.3));\n",
              "      fill: #FFFFFF;\n",
              "    }\n",
              "  </style>\n",
              "\n",
              "    <script>\n",
              "      const buttonEl =\n",
              "        document.querySelector('#df-b1355dca-0e74-4200-bc33-a53a67ab54f2 button.colab-df-convert');\n",
              "      buttonEl.style.display =\n",
              "        google.colab.kernel.accessAllowed ? 'block' : 'none';\n",
              "\n",
              "      async function convertToInteractive(key) {\n",
              "        const element = document.querySelector('#df-b1355dca-0e74-4200-bc33-a53a67ab54f2');\n",
              "        const dataTable =\n",
              "          await google.colab.kernel.invokeFunction('convertToInteractive',\n",
              "                                                    [key], {});\n",
              "        if (!dataTable) return;\n",
              "\n",
              "        const docLinkHtml = 'Like what you see? Visit the ' +\n",
              "          '<a target=\"_blank\" href=https://colab.research.google.com/notebooks/data_table.ipynb>data table notebook</a>'\n",
              "          + ' to learn more about interactive tables.';\n",
              "        element.innerHTML = '';\n",
              "        dataTable['output_type'] = 'display_data';\n",
              "        await google.colab.output.renderOutput(dataTable, element);\n",
              "        const docLink = document.createElement('div');\n",
              "        docLink.innerHTML = docLinkHtml;\n",
              "        element.appendChild(docLink);\n",
              "      }\n",
              "    </script>\n",
              "  </div>\n",
              "\n",
              "\n",
              "    <div id=\"df-908d0507-0de5-4ac3-a44a-6efe7bae0387\">\n",
              "      <button class=\"colab-df-quickchart\" onclick=\"quickchart('df-908d0507-0de5-4ac3-a44a-6efe7bae0387')\"\n",
              "                title=\"Suggest charts\"\n",
              "                style=\"display:none;\">\n",
              "\n",
              "<svg xmlns=\"http://www.w3.org/2000/svg\" height=\"24px\"viewBox=\"0 0 24 24\"\n",
              "     width=\"24px\">\n",
              "    <g>\n",
              "        <path d=\"M19 3H5c-1.1 0-2 .9-2 2v14c0 1.1.9 2 2 2h14c1.1 0 2-.9 2-2V5c0-1.1-.9-2-2-2zM9 17H7v-7h2v7zm4 0h-2V7h2v10zm4 0h-2v-4h2v4z\"/>\n",
              "    </g>\n",
              "</svg>\n",
              "      </button>\n",
              "\n",
              "<style>\n",
              "  .colab-df-quickchart {\n",
              "      --bg-color: #E8F0FE;\n",
              "      --fill-color: #1967D2;\n",
              "      --hover-bg-color: #E2EBFA;\n",
              "      --hover-fill-color: #174EA6;\n",
              "      --disabled-fill-color: #AAA;\n",
              "      --disabled-bg-color: #DDD;\n",
              "  }\n",
              "\n",
              "  [theme=dark] .colab-df-quickchart {\n",
              "      --bg-color: #3B4455;\n",
              "      --fill-color: #D2E3FC;\n",
              "      --hover-bg-color: #434B5C;\n",
              "      --hover-fill-color: #FFFFFF;\n",
              "      --disabled-bg-color: #3B4455;\n",
              "      --disabled-fill-color: #666;\n",
              "  }\n",
              "\n",
              "  .colab-df-quickchart {\n",
              "    background-color: var(--bg-color);\n",
              "    border: none;\n",
              "    border-radius: 50%;\n",
              "    cursor: pointer;\n",
              "    display: none;\n",
              "    fill: var(--fill-color);\n",
              "    height: 32px;\n",
              "    padding: 0;\n",
              "    width: 32px;\n",
              "  }\n",
              "\n",
              "  .colab-df-quickchart:hover {\n",
              "    background-color: var(--hover-bg-color);\n",
              "    box-shadow: 0 1px 2px rgba(60, 64, 67, 0.3), 0 1px 3px 1px rgba(60, 64, 67, 0.15);\n",
              "    fill: var(--button-hover-fill-color);\n",
              "  }\n",
              "\n",
              "  .colab-df-quickchart-complete:disabled,\n",
              "  .colab-df-quickchart-complete:disabled:hover {\n",
              "    background-color: var(--disabled-bg-color);\n",
              "    fill: var(--disabled-fill-color);\n",
              "    box-shadow: none;\n",
              "  }\n",
              "\n",
              "  .colab-df-spinner {\n",
              "    border: 2px solid var(--fill-color);\n",
              "    border-color: transparent;\n",
              "    border-bottom-color: var(--fill-color);\n",
              "    animation:\n",
              "      spin 1s steps(1) infinite;\n",
              "  }\n",
              "\n",
              "  @keyframes spin {\n",
              "    0% {\n",
              "      border-color: transparent;\n",
              "      border-bottom-color: var(--fill-color);\n",
              "      border-left-color: var(--fill-color);\n",
              "    }\n",
              "    20% {\n",
              "      border-color: transparent;\n",
              "      border-left-color: var(--fill-color);\n",
              "      border-top-color: var(--fill-color);\n",
              "    }\n",
              "    30% {\n",
              "      border-color: transparent;\n",
              "      border-left-color: var(--fill-color);\n",
              "      border-top-color: var(--fill-color);\n",
              "      border-right-color: var(--fill-color);\n",
              "    }\n",
              "    40% {\n",
              "      border-color: transparent;\n",
              "      border-right-color: var(--fill-color);\n",
              "      border-top-color: var(--fill-color);\n",
              "    }\n",
              "    60% {\n",
              "      border-color: transparent;\n",
              "      border-right-color: var(--fill-color);\n",
              "    }\n",
              "    80% {\n",
              "      border-color: transparent;\n",
              "      border-right-color: var(--fill-color);\n",
              "      border-bottom-color: var(--fill-color);\n",
              "    }\n",
              "    90% {\n",
              "      border-color: transparent;\n",
              "      border-bottom-color: var(--fill-color);\n",
              "    }\n",
              "  }\n",
              "</style>\n",
              "\n",
              "      <script>\n",
              "        async function quickchart(key) {\n",
              "          const quickchartButtonEl =\n",
              "            document.querySelector('#' + key + ' button');\n",
              "          quickchartButtonEl.disabled = true;  // To prevent multiple clicks.\n",
              "          quickchartButtonEl.classList.add('colab-df-spinner');\n",
              "          try {\n",
              "            const charts = await google.colab.kernel.invokeFunction(\n",
              "                'suggestCharts', [key], {});\n",
              "          } catch (error) {\n",
              "            console.error('Error during call to suggestCharts:', error);\n",
              "          }\n",
              "          quickchartButtonEl.classList.remove('colab-df-spinner');\n",
              "          quickchartButtonEl.classList.add('colab-df-quickchart-complete');\n",
              "        }\n",
              "        (() => {\n",
              "          let quickchartButtonEl =\n",
              "            document.querySelector('#df-908d0507-0de5-4ac3-a44a-6efe7bae0387 button');\n",
              "          quickchartButtonEl.style.display =\n",
              "            google.colab.kernel.accessAllowed ? 'block' : 'none';\n",
              "        })();\n",
              "      </script>\n",
              "    </div>\n",
              "\n",
              "    </div>\n",
              "  </div>\n"
            ],
            "application/vnd.google.colaboratory.intrinsic+json": {
              "type": "dataframe",
              "variable_name": "df",
              "summary": "{\n  \"name\": \"df\",\n  \"rows\": 12990,\n  \"fields\": [\n    {\n      \"column\": \"model\",\n      \"properties\": {\n        \"dtype\": \"category\",\n        \"num_unique_values\": 25,\n        \"samples\": [\n          \" C Class\",\n          \" CL Class\",\n          \" S Class\"\n        ],\n        \"semantic_type\": \"\",\n        \"description\": \"\"\n      }\n    },\n    {\n      \"column\": \"year\",\n      \"properties\": {\n        \"dtype\": \"date\",\n        \"min\": \"2010-01-01 00:00:00\",\n        \"max\": \"2020-01-01 00:00:00\",\n        \"num_unique_values\": 11,\n        \"samples\": [\n          \"2019-01-01 00:00:00\",\n          \"2017-01-01 00:00:00\",\n          \"2010-01-01 00:00:00\"\n        ],\n        \"semantic_type\": \"\",\n        \"description\": \"\"\n      }\n    },\n    {\n      \"column\": \"price\",\n      \"properties\": {\n        \"dtype\": \"number\",\n        \"std\": 11749,\n        \"min\": 1350,\n        \"max\": 159999,\n        \"num_unique_values\": 4370,\n        \"samples\": [\n          24800,\n          38899,\n          71995\n        ],\n        \"semantic_type\": \"\",\n        \"description\": \"\"\n      }\n    },\n    {\n      \"column\": \"transmission\",\n      \"properties\": {\n        \"dtype\": \"category\",\n        \"num_unique_values\": 3,\n        \"samples\": [\n          \"Automatic\",\n          \"Manual\",\n          \"Semi-Auto\"\n        ],\n        \"semantic_type\": \"\",\n        \"description\": \"\"\n      }\n    },\n    {\n      \"column\": \"mileage\",\n      \"properties\": {\n        \"dtype\": \"number\",\n        \"std\": 20240,\n        \"min\": 1,\n        \"max\": 259000,\n        \"num_unique_values\": 9660,\n        \"samples\": [\n          13250,\n          37754,\n          15933\n        ],\n        \"semantic_type\": \"\",\n        \"description\": \"\"\n      }\n    },\n    {\n      \"column\": \"fuelType\",\n      \"properties\": {\n        \"dtype\": \"category\",\n        \"num_unique_values\": 3,\n        \"samples\": [\n          \"Hybrid\",\n          \"Petrol\",\n          \"Diesel\"\n        ],\n        \"semantic_type\": \"\",\n        \"description\": \"\"\n      }\n    },\n    {\n      \"column\": \"tax\",\n      \"properties\": {\n        \"dtype\": \"number\",\n        \"std\": 61,\n        \"min\": 0,\n        \"max\": 580,\n        \"num_unique_values\": 33,\n        \"samples\": [\n          250,\n          160,\n          10\n        ],\n        \"semantic_type\": \"\",\n        \"description\": \"\"\n      }\n    },\n    {\n      \"column\": \"mpg\",\n      \"properties\": {\n        \"dtype\": \"number\",\n        \"std\": 14.997665678075052,\n        \"min\": 1.1,\n        \"max\": 217.3,\n        \"num_unique_values\": 106,\n        \"samples\": [\n          53.5,\n          55.4,\n          21.4\n        ],\n        \"semantic_type\": \"\",\n        \"description\": \"\"\n      }\n    },\n    {\n      \"column\": \"engineSize\",\n      \"properties\": {\n        \"dtype\": \"number\",\n        \"std\": 0.5626997438072299,\n        \"min\": 0.0,\n        \"max\": 6.2,\n        \"num_unique_values\": 18,\n        \"samples\": [\n          2.1,\n          5.5,\n          1.3\n        ],\n        \"semantic_type\": \"\",\n        \"description\": \"\"\n      }\n    }\n  ]\n}"
            }
          },
          "metadata": {}
        }
      ],
      "source": [
        "df.intent = [\"price\",\"mileage\"]\n",
        "df.head()"
      ]
    },
    {
      "cell_type": "code",
      "source": [],
      "metadata": {
        "id": "pBfqJ8d8FDfQ"
      },
      "execution_count": null,
      "outputs": []
    },
    {
      "cell_type": "code",
      "execution_count": null,
      "metadata": {
        "id": "QgLgLnh2r3wv"
      },
      "outputs": [],
      "source": []
    }
  ],
  "metadata": {
    "colab": {
      "name": "04-VISUALIZATION-07-bonus.ipynb",
      "provenance": []
    },
    "language_info": {
      "name": "python"
    },
    "widgets": {
      "application/vnd.jupyter.widget-state+json": {
        "9962397ea75b46fbba206a5b4b92bc9a": {
          "model_module": "@jupyter-widgets/controls",
          "model_name": "ButtonModel",
          "model_module_version": "1.5.0",
          "state": {
            "_dom_classes": [],
            "_model_module": "@jupyter-widgets/controls",
            "_model_module_version": "1.5.0",
            "_model_name": "ButtonModel",
            "_view_count": null,
            "_view_module": "@jupyter-widgets/controls",
            "_view_module_version": "1.5.0",
            "_view_name": "ButtonView",
            "button_style": "",
            "description": "Toggle Pandas/Lux",
            "disabled": false,
            "icon": "",
            "layout": "IPY_MODEL_ff0bcb5d62ff439689910de09a125ab9",
            "style": "IPY_MODEL_15184ce4c2934971a3ee249c66fceef1",
            "tooltip": ""
          }
        },
        "ff0bcb5d62ff439689910de09a125ab9": {
          "model_module": "@jupyter-widgets/base",
          "model_name": "LayoutModel",
          "model_module_version": "1.2.0",
          "state": {
            "_model_module": "@jupyter-widgets/base",
            "_model_module_version": "1.2.0",
            "_model_name": "LayoutModel",
            "_view_count": null,
            "_view_module": "@jupyter-widgets/base",
            "_view_module_version": "1.2.0",
            "_view_name": "LayoutView",
            "align_content": null,
            "align_items": null,
            "align_self": null,
            "border": null,
            "bottom": null,
            "display": null,
            "flex": null,
            "flex_flow": null,
            "grid_area": null,
            "grid_auto_columns": null,
            "grid_auto_flow": null,
            "grid_auto_rows": null,
            "grid_column": null,
            "grid_gap": null,
            "grid_row": null,
            "grid_template_areas": null,
            "grid_template_columns": null,
            "grid_template_rows": null,
            "height": null,
            "justify_content": null,
            "justify_items": null,
            "left": null,
            "margin": null,
            "max_height": null,
            "max_width": null,
            "min_height": null,
            "min_width": null,
            "object_fit": null,
            "object_position": null,
            "order": null,
            "overflow": null,
            "overflow_x": null,
            "overflow_y": null,
            "padding": null,
            "right": null,
            "top": "5px",
            "visibility": null,
            "width": "140px"
          }
        },
        "15184ce4c2934971a3ee249c66fceef1": {
          "model_module": "@jupyter-widgets/controls",
          "model_name": "ButtonStyleModel",
          "model_module_version": "1.5.0",
          "state": {
            "_model_module": "@jupyter-widgets/controls",
            "_model_module_version": "1.5.0",
            "_model_name": "ButtonStyleModel",
            "_view_count": null,
            "_view_module": "@jupyter-widgets/base",
            "_view_module_version": "1.2.0",
            "_view_name": "StyleView",
            "button_color": null,
            "font_weight": ""
          }
        },
        "0f2bc97365634ee8b57470d0d87ddf85": {
          "model_module": "@jupyter-widgets/output",
          "model_name": "OutputModel",
          "model_module_version": "1.0.0",
          "state": {
            "_dom_classes": [],
            "_model_module": "@jupyter-widgets/output",
            "_model_module_version": "1.0.0",
            "_model_name": "OutputModel",
            "_view_count": null,
            "_view_module": "@jupyter-widgets/output",
            "_view_module_version": "1.0.0",
            "_view_name": "OutputView",
            "layout": "IPY_MODEL_cafdca5c8d04462a84c08f78d51cb57a",
            "msg_id": "",
            "outputs": [
              {
                "output_type": "display_data",
                "data": {
                  "text/plain": "LuxWidget(message='<ul><li>Large scatterplots detected: Lux is automatically binning scatterplots to heatmaps.…",
                  "application/vnd.jupyter.widget-view+json": {
                    "version_major": 2,
                    "version_minor": 0,
                    "model_id": "8e78cad6435e4769915f3e6b2b6975a7"
                  }
                },
                "metadata": {
                  "application/vnd.jupyter.widget-view+json": {
                    "colab": {
                      "custom_widget_manager": {
                        "url": "https://ssl.gstatic.com/colaboratory-static/widgets/colab-cdn-widget-manager/2b70e893a8ba7c0f/manager.min.js"
                      }
                    }
                  }
                }
              }
            ]
          }
        },
        "cafdca5c8d04462a84c08f78d51cb57a": {
          "model_module": "@jupyter-widgets/base",
          "model_name": "LayoutModel",
          "model_module_version": "1.2.0",
          "state": {
            "_model_module": "@jupyter-widgets/base",
            "_model_module_version": "1.2.0",
            "_model_name": "LayoutModel",
            "_view_count": null,
            "_view_module": "@jupyter-widgets/base",
            "_view_module_version": "1.2.0",
            "_view_name": "LayoutView",
            "align_content": null,
            "align_items": null,
            "align_self": null,
            "border": null,
            "bottom": null,
            "display": null,
            "flex": null,
            "flex_flow": null,
            "grid_area": null,
            "grid_auto_columns": null,
            "grid_auto_flow": null,
            "grid_auto_rows": null,
            "grid_column": null,
            "grid_gap": null,
            "grid_row": null,
            "grid_template_areas": null,
            "grid_template_columns": null,
            "grid_template_rows": null,
            "height": null,
            "justify_content": null,
            "justify_items": null,
            "left": null,
            "margin": null,
            "max_height": null,
            "max_width": null,
            "min_height": null,
            "min_width": null,
            "object_fit": null,
            "object_position": null,
            "order": null,
            "overflow": null,
            "overflow_x": null,
            "overflow_y": null,
            "padding": null,
            "right": null,
            "top": null,
            "visibility": null,
            "width": null
          }
        },
        "8e78cad6435e4769915f3e6b2b6975a7": {
          "model_module": "luxwidget",
          "model_name": "LuxModel",
          "model_module_version": "0.1.11",
          "state": {
            "_dom_classes": [],
            "_model_module": "luxwidget",
            "_model_module_version": "0.1.11",
            "_model_name": "LuxModel",
            "_selectedVisIdxs": {},
            "_view_count": null,
            "_view_module": "luxwidget",
            "_view_module_version": "0.1.11",
            "_view_name": "LuxWidgetView",
            "all_column": false,
            "current_vis": {},
            "data": [],
            "deletedIndices": {},
            "intent": "",
            "layout": "IPY_MODEL_965d1a6375f84007bec851e441fbf440",
            "message": "<ul><li>Large scatterplots detected: Lux is automatically binning scatterplots to heatmaps.</li><li>Lux is visualizing the previous version of the dataframe before you applied <code>head</code>.</li></ul>",
            "plotting_scale": 1,
            "recommendations": [
              {
                "action": "Correlation",
                "description": "Show relationships between two <p class='highlight-descriptor'>quantitative</p> attributes.",
                "long_description": "Correlation searches through all pairwise relationship between two quantitative attributes             (e.g., price, mpg). The visualizations are ranked from most to least linearly correlated based on                 their Pearson’s correlation score.",
                "vspec": [
                  {
                    "config": {
                      "view": {
                        "continuousWidth": 300,
                        "continuousHeight": 300
                      },
                      "axis": {
                        "labelColor": "#505050",
                        "labelFont": "Helvetica Neue",
                        "labelFontSize": 9,
                        "labelFontWeight": 400,
                        "titleFont": "Helvetica Neue",
                        "titleFontSize": 11,
                        "titleFontWeight": 500
                      },
                      "legend": {
                        "labelFont": "Helvetica Neue",
                        "labelFontSize": 9,
                        "labelFontWeight": 400,
                        "titleFont": "Helvetica Neue",
                        "titleFontSize": 10,
                        "titleFontWeight": 500
                      },
                      "mark": {
                        "tooltip": {
                          "content": "encoding"
                        }
                      },
                      "scale": {
                        "maxOpacity": 1,
                        "minOpacity": 0.1
                      },
                      "title": {
                        "font": "Helvetica Neue",
                        "fontSize": 13,
                        "fontWeight": 500
                      }
                    },
                    "data": {
                      "name": "data-dfa1d693ceb3c48c3d31df9c49b40a49"
                    },
                    "mark": {
                      "type": "rect"
                    },
                    "encoding": {
                      "opacity": {
                        "field": "count",
                        "legend": null,
                        "scale": {
                          "type": "log"
                        },
                        "type": "quantitative"
                      },
                      "x": {
                        "axis": {
                          "title": "tax"
                        },
                        "bin": {
                          "binned": true
                        },
                        "field": "xBinStart",
                        "type": "quantitative"
                      },
                      "x2": {
                        "field": "xBinEnd"
                      },
                      "y": {
                        "axis": {
                          "title": "price"
                        },
                        "bin": {
                          "binned": true
                        },
                        "field": "yBinStart",
                        "type": "quantitative"
                      },
                      "y2": {
                        "field": "yBinEnd"
                      }
                    },
                    "height": 150,
                    "params": [
                      {
                        "name": "param_1",
                        "select": {
                          "type": "interval",
                          "encodings": [
                            "x",
                            "y"
                          ]
                        },
                        "bind": "scales"
                      }
                    ],
                    "width": 160,
                    "$schema": "https://vega.github.io/schema/vega-lite/v5.20.1.json",
                    "datasets": {
                      "data-dfa1d693ceb3c48c3d31df9c49b40a49": [
                        {
                          "count": 5,
                          "xBinStart": -0.58,
                          "xBinEnd": 14.5,
                          "yBinStart": 5316.225,
                          "yBinEnd": 9282.45
                        },
                        {
                          "count": 46,
                          "xBinStart": -0.58,
                          "xBinEnd": 14.5,
                          "yBinStart": 9282.45,
                          "yBinEnd": 13248.675
                        },
                        {
                          "count": 52,
                          "xBinStart": -0.58,
                          "xBinEnd": 14.5,
                          "yBinStart": 13248.675,
                          "yBinEnd": 17214.9
                        },
                        {
                          "count": 63,
                          "xBinStart": -0.58,
                          "xBinEnd": 14.5,
                          "yBinStart": 17214.9,
                          "yBinEnd": 21181.125
                        },
                        {
                          "count": 2,
                          "xBinStart": -0.58,
                          "xBinEnd": 14.5,
                          "yBinStart": 21181.125,
                          "yBinEnd": 25147.35
                        },
                        {
                          "count": 1,
                          "xBinStart": -0.58,
                          "xBinEnd": 14.5,
                          "yBinStart": 25147.35,
                          "yBinEnd": 29113.575
                        },
                        {
                          "count": 14,
                          "xBinStart": 14.5,
                          "xBinEnd": 29,
                          "yBinStart": 5316.225,
                          "yBinEnd": 9282.45
                        },
                        {
                          "count": 286,
                          "xBinStart": 14.5,
                          "xBinEnd": 29,
                          "yBinStart": 9282.45,
                          "yBinEnd": 13248.675
                        },
                        {
                          "count": 657,
                          "xBinStart": 14.5,
                          "xBinEnd": 29,
                          "yBinStart": 13248.675,
                          "yBinEnd": 17214.9
                        },
                        {
                          "count": 261,
                          "xBinStart": 14.5,
                          "xBinEnd": 29,
                          "yBinStart": 17214.9,
                          "yBinEnd": 21181.125
                        },
                        {
                          "count": 30,
                          "xBinStart": 14.5,
                          "xBinEnd": 29,
                          "yBinStart": 21181.125,
                          "yBinEnd": 25147.35
                        },
                        {
                          "count": 1,
                          "xBinStart": 14.5,
                          "xBinEnd": 29,
                          "yBinStart": 25147.35,
                          "yBinEnd": 29113.575
                        },
                        {
                          "count": 2,
                          "xBinStart": 14.5,
                          "xBinEnd": 29,
                          "yBinStart": 33079.8,
                          "yBinEnd": 37046.025
                        },
                        {
                          "count": 25,
                          "xBinStart": 29,
                          "xBinEnd": 43.5,
                          "yBinStart": 5316.225,
                          "yBinEnd": 9282.45
                        },
                        {
                          "count": 141,
                          "xBinStart": 29,
                          "xBinEnd": 43.5,
                          "yBinStart": 9282.45,
                          "yBinEnd": 13248.675
                        },
                        {
                          "count": 367,
                          "xBinStart": 29,
                          "xBinEnd": 43.5,
                          "yBinStart": 13248.675,
                          "yBinEnd": 17214.9
                        },
                        {
                          "count": 380,
                          "xBinStart": 29,
                          "xBinEnd": 43.5,
                          "yBinStart": 17214.9,
                          "yBinEnd": 21181.125
                        },
                        {
                          "count": 71,
                          "xBinStart": 29,
                          "xBinEnd": 43.5,
                          "yBinStart": 21181.125,
                          "yBinEnd": 25147.35
                        },
                        {
                          "count": 5,
                          "xBinStart": 29,
                          "xBinEnd": 43.5,
                          "yBinStart": 25147.35,
                          "yBinEnd": 29113.575
                        },
                        {
                          "count": 2,
                          "xBinStart": 101.5,
                          "xBinEnd": 116,
                          "yBinStart": 13248.675,
                          "yBinEnd": 17214.9
                        },
                        {
                          "count": 16,
                          "xBinStart": 116,
                          "xBinEnd": 130.5,
                          "yBinStart": 5316.225,
                          "yBinEnd": 9282.45
                        },
                        {
                          "count": 98,
                          "xBinStart": 116,
                          "xBinEnd": 130.5,
                          "yBinStart": 9282.45,
                          "yBinEnd": 13248.675
                        },
                        {
                          "count": 350,
                          "xBinStart": 116,
                          "xBinEnd": 130.5,
                          "yBinStart": 13248.675,
                          "yBinEnd": 17214.9
                        },
                        {
                          "count": 363,
                          "xBinStart": 116,
                          "xBinEnd": 130.5,
                          "yBinStart": 17214.9,
                          "yBinEnd": 21181.125
                        },
                        {
                          "count": 145,
                          "xBinStart": 116,
                          "xBinEnd": 130.5,
                          "yBinStart": 21181.125,
                          "yBinEnd": 25147.35
                        },
                        {
                          "count": 40,
                          "xBinStart": 116,
                          "xBinEnd": 130.5,
                          "yBinStart": 25147.35,
                          "yBinEnd": 29113.575
                        },
                        {
                          "count": 4,
                          "xBinStart": 130.5,
                          "xBinEnd": 145,
                          "yBinStart": 1191.351,
                          "yBinEnd": 5316.225
                        },
                        {
                          "count": 26,
                          "xBinStart": 130.5,
                          "xBinEnd": 145,
                          "yBinStart": 5316.225,
                          "yBinEnd": 9282.45
                        },
                        {
                          "count": 146,
                          "xBinStart": 130.5,
                          "xBinEnd": 145,
                          "yBinStart": 9282.45,
                          "yBinEnd": 13248.675
                        },
                        {
                          "count": 439,
                          "xBinStart": 130.5,
                          "xBinEnd": 145,
                          "yBinStart": 13248.675,
                          "yBinEnd": 17214.9
                        },
                        {
                          "count": 1278,
                          "xBinStart": 130.5,
                          "xBinEnd": 145,
                          "yBinStart": 17214.9,
                          "yBinEnd": 21181.125
                        },
                        {
                          "count": 1574,
                          "xBinStart": 130.5,
                          "xBinEnd": 145,
                          "yBinStart": 21181.125,
                          "yBinEnd": 25147.35
                        },
                        {
                          "count": 1529,
                          "xBinStart": 130.5,
                          "xBinEnd": 145,
                          "yBinStart": 25147.35,
                          "yBinEnd": 29113.575
                        },
                        {
                          "count": 959,
                          "xBinStart": 130.5,
                          "xBinEnd": 145,
                          "yBinStart": 29113.575,
                          "yBinEnd": 33079.8
                        },
                        {
                          "count": 492,
                          "xBinStart": 130.5,
                          "xBinEnd": 145,
                          "yBinStart": 33079.8,
                          "yBinEnd": 37046.025
                        },
                        {
                          "count": 335,
                          "xBinStart": 130.5,
                          "xBinEnd": 145,
                          "yBinStart": 37046.025,
                          "yBinEnd": 41012.25
                        },
                        {
                          "count": 239,
                          "xBinStart": 130.5,
                          "xBinEnd": 145,
                          "yBinStart": 41012.25,
                          "yBinEnd": 44978.475
                        },
                        {
                          "count": 227,
                          "xBinStart": 130.5,
                          "xBinEnd": 145,
                          "yBinStart": 44978.475,
                          "yBinEnd": 48944.7
                        },
                        {
                          "count": 142,
                          "xBinStart": 130.5,
                          "xBinEnd": 145,
                          "yBinStart": 48944.7,
                          "yBinEnd": 52910.925
                        },
                        {
                          "count": 96,
                          "xBinStart": 130.5,
                          "xBinEnd": 145,
                          "yBinStart": 52910.925,
                          "yBinEnd": 56877.15
                        },
                        {
                          "count": 69,
                          "xBinStart": 130.5,
                          "xBinEnd": 145,
                          "yBinStart": 56877.15,
                          "yBinEnd": 60843.375
                        },
                        {
                          "count": 27,
                          "xBinStart": 130.5,
                          "xBinEnd": 145,
                          "yBinStart": 60843.375,
                          "yBinEnd": 64809.6
                        },
                        {
                          "count": 37,
                          "xBinStart": 130.5,
                          "xBinEnd": 145,
                          "yBinStart": 64809.6,
                          "yBinEnd": 68775.825
                        },
                        {
                          "count": 16,
                          "xBinStart": 130.5,
                          "xBinEnd": 145,
                          "yBinStart": 68775.825,
                          "yBinEnd": 72742.05
                        },
                        {
                          "count": 13,
                          "xBinStart": 130.5,
                          "xBinEnd": 145,
                          "yBinStart": 72742.05,
                          "yBinEnd": 76708.275
                        },
                        {
                          "count": 16,
                          "xBinStart": 130.5,
                          "xBinEnd": 145,
                          "yBinStart": 76708.275,
                          "yBinEnd": 80674.5
                        },
                        {
                          "count": 3,
                          "xBinStart": 130.5,
                          "xBinEnd": 145,
                          "yBinStart": 80674.5,
                          "yBinEnd": 84640.725
                        },
                        {
                          "count": 4,
                          "xBinStart": 130.5,
                          "xBinEnd": 145,
                          "yBinStart": 84640.725,
                          "yBinEnd": 88606.95
                        },
                        {
                          "count": 7,
                          "xBinStart": 130.5,
                          "xBinEnd": 145,
                          "yBinStart": 88606.95,
                          "yBinEnd": 92573.175
                        },
                        {
                          "count": 3,
                          "xBinStart": 130.5,
                          "xBinEnd": 145,
                          "yBinStart": 92573.175,
                          "yBinEnd": 96539.4
                        },
                        {
                          "count": 3,
                          "xBinStart": 130.5,
                          "xBinEnd": 145,
                          "yBinStart": 96539.4,
                          "yBinEnd": 100505.625
                        },
                        {
                          "count": 1,
                          "xBinStart": 130.5,
                          "xBinEnd": 145,
                          "yBinStart": 100505.625,
                          "yBinEnd": 104471.85
                        },
                        {
                          "count": 1,
                          "xBinStart": 130.5,
                          "xBinEnd": 145,
                          "yBinStart": 104471.85,
                          "yBinEnd": 108438.075
                        },
                        {
                          "count": 3,
                          "xBinStart": 130.5,
                          "xBinEnd": 145,
                          "yBinStart": 108438.075,
                          "yBinEnd": 112404.3
                        },
                        {
                          "count": 2,
                          "xBinStart": 130.5,
                          "xBinEnd": 145,
                          "yBinStart": 112404.3,
                          "yBinEnd": 116370.525
                        },
                        {
                          "count": 1,
                          "xBinStart": 130.5,
                          "xBinEnd": 145,
                          "yBinStart": 120336.75,
                          "yBinEnd": 124302.975
                        },
                        {
                          "count": 4,
                          "xBinStart": 130.5,
                          "xBinEnd": 145,
                          "yBinStart": 124302.975,
                          "yBinEnd": 128269.2
                        },
                        {
                          "count": 1,
                          "xBinStart": 130.5,
                          "xBinEnd": 145,
                          "yBinStart": 128269.2,
                          "yBinEnd": 132235.425
                        },
                        {
                          "count": 2,
                          "xBinStart": 130.5,
                          "xBinEnd": 145,
                          "yBinStart": 132235.425,
                          "yBinEnd": 136201.65
                        },
                        {
                          "count": 4,
                          "xBinStart": 130.5,
                          "xBinEnd": 145,
                          "yBinStart": 136201.65,
                          "yBinEnd": 140167.875
                        },
                        {
                          "count": 1,
                          "xBinStart": 130.5,
                          "xBinEnd": 145,
                          "yBinStart": 156032.775,
                          "yBinEnd": 159999
                        },
                        {
                          "count": 1,
                          "xBinStart": 145,
                          "xBinEnd": 159.5,
                          "yBinStart": 1191.351,
                          "yBinEnd": 5316.225
                        },
                        {
                          "count": 6,
                          "xBinStart": 145,
                          "xBinEnd": 159.5,
                          "yBinStart": 5316.225,
                          "yBinEnd": 9282.45
                        },
                        {
                          "count": 30,
                          "xBinStart": 145,
                          "xBinEnd": 159.5,
                          "yBinStart": 9282.45,
                          "yBinEnd": 13248.675
                        },
                        {
                          "count": 144,
                          "xBinStart": 145,
                          "xBinEnd": 159.5,
                          "yBinStart": 13248.675,
                          "yBinEnd": 17214.9
                        },
                        {
                          "count": 206,
                          "xBinStart": 145,
                          "xBinEnd": 159.5,
                          "yBinStart": 17214.9,
                          "yBinEnd": 21181.125
                        },
                        {
                          "count": 154,
                          "xBinStart": 145,
                          "xBinEnd": 159.5,
                          "yBinStart": 21181.125,
                          "yBinEnd": 25147.35
                        },
                        {
                          "count": 111,
                          "xBinStart": 145,
                          "xBinEnd": 159.5,
                          "yBinStart": 25147.35,
                          "yBinEnd": 29113.575
                        },
                        {
                          "count": 75,
                          "xBinStart": 145,
                          "xBinEnd": 159.5,
                          "yBinStart": 29113.575,
                          "yBinEnd": 33079.8
                        },
                        {
                          "count": 33,
                          "xBinStart": 145,
                          "xBinEnd": 159.5,
                          "yBinStart": 33079.8,
                          "yBinEnd": 37046.025
                        },
                        {
                          "count": 28,
                          "xBinStart": 145,
                          "xBinEnd": 159.5,
                          "yBinStart": 37046.025,
                          "yBinEnd": 41012.25
                        },
                        {
                          "count": 17,
                          "xBinStart": 145,
                          "xBinEnd": 159.5,
                          "yBinStart": 41012.25,
                          "yBinEnd": 44978.475
                        },
                        {
                          "count": 9,
                          "xBinStart": 145,
                          "xBinEnd": 159.5,
                          "yBinStart": 44978.475,
                          "yBinEnd": 48944.7
                        },
                        {
                          "count": 9,
                          "xBinStart": 145,
                          "xBinEnd": 159.5,
                          "yBinStart": 48944.7,
                          "yBinEnd": 52910.925
                        },
                        {
                          "count": 11,
                          "xBinStart": 145,
                          "xBinEnd": 159.5,
                          "yBinStart": 52910.925,
                          "yBinEnd": 56877.15
                        },
                        {
                          "count": 5,
                          "xBinStart": 145,
                          "xBinEnd": 159.5,
                          "yBinStart": 56877.15,
                          "yBinEnd": 60843.375
                        },
                        {
                          "count": 1,
                          "xBinStart": 145,
                          "xBinEnd": 159.5,
                          "yBinStart": 60843.375,
                          "yBinEnd": 64809.6
                        },
                        {
                          "count": 2,
                          "xBinStart": 145,
                          "xBinEnd": 159.5,
                          "yBinStart": 64809.6,
                          "yBinEnd": 68775.825
                        },
                        {
                          "count": 1,
                          "xBinStart": 145,
                          "xBinEnd": 159.5,
                          "yBinStart": 68775.825,
                          "yBinEnd": 72742.05
                        },
                        {
                          "count": 3,
                          "xBinStart": 145,
                          "xBinEnd": 159.5,
                          "yBinStart": 72742.05,
                          "yBinEnd": 76708.275
                        },
                        {
                          "count": 1,
                          "xBinStart": 145,
                          "xBinEnd": 159.5,
                          "yBinStart": 76708.275,
                          "yBinEnd": 80674.5
                        },
                        {
                          "count": 1,
                          "xBinStart": 145,
                          "xBinEnd": 159.5,
                          "yBinStart": 100505.625,
                          "yBinEnd": 104471.85
                        },
                        {
                          "count": 2,
                          "xBinStart": 145,
                          "xBinEnd": 159.5,
                          "yBinStart": 104471.85,
                          "yBinEnd": 108438.075
                        },
                        {
                          "count": 1,
                          "xBinStart": 145,
                          "xBinEnd": 159.5,
                          "yBinStart": 108438.075,
                          "yBinEnd": 112404.3
                        },
                        {
                          "count": 1,
                          "xBinStart": 145,
                          "xBinEnd": 159.5,
                          "yBinStart": 132235.425,
                          "yBinEnd": 136201.65
                        },
                        {
                          "count": 1,
                          "xBinStart": 145,
                          "xBinEnd": 159.5,
                          "yBinStart": 140167.875,
                          "yBinEnd": 144134.1
                        },
                        {
                          "count": 1,
                          "xBinStart": 145,
                          "xBinEnd": 159.5,
                          "yBinStart": 152066.55,
                          "yBinEnd": 156032.775
                        },
                        {
                          "count": 1,
                          "xBinStart": 159.5,
                          "xBinEnd": 174,
                          "yBinStart": 1191.351,
                          "yBinEnd": 5316.225
                        },
                        {
                          "count": 7,
                          "xBinStart": 159.5,
                          "xBinEnd": 174,
                          "yBinStart": 5316.225,
                          "yBinEnd": 9282.45
                        },
                        {
                          "count": 34,
                          "xBinStart": 159.5,
                          "xBinEnd": 174,
                          "yBinStart": 9282.45,
                          "yBinEnd": 13248.675
                        },
                        {
                          "count": 31,
                          "xBinStart": 159.5,
                          "xBinEnd": 174,
                          "yBinStart": 13248.675,
                          "yBinEnd": 17214.9
                        },
                        {
                          "count": 88,
                          "xBinStart": 159.5,
                          "xBinEnd": 174,
                          "yBinStart": 17214.9,
                          "yBinEnd": 21181.125
                        },
                        {
                          "count": 71,
                          "xBinStart": 159.5,
                          "xBinEnd": 174,
                          "yBinStart": 21181.125,
                          "yBinEnd": 25147.35
                        },
                        {
                          "count": 11,
                          "xBinStart": 159.5,
                          "xBinEnd": 174,
                          "yBinStart": 25147.35,
                          "yBinEnd": 29113.575
                        },
                        {
                          "count": 8,
                          "xBinStart": 159.5,
                          "xBinEnd": 174,
                          "yBinStart": 29113.575,
                          "yBinEnd": 33079.8
                        },
                        {
                          "count": 1,
                          "xBinStart": 174,
                          "xBinEnd": 188.5,
                          "yBinStart": 5316.225,
                          "yBinEnd": 9282.45
                        },
                        {
                          "count": 2,
                          "xBinStart": 188.5,
                          "xBinEnd": 203,
                          "yBinStart": 1191.351,
                          "yBinEnd": 5316.225
                        },
                        {
                          "count": 11,
                          "xBinStart": 188.5,
                          "xBinEnd": 203,
                          "yBinStart": 5316.225,
                          "yBinEnd": 9282.45
                        },
                        {
                          "count": 26,
                          "xBinStart": 188.5,
                          "xBinEnd": 203,
                          "yBinStart": 9282.45,
                          "yBinEnd": 13248.675
                        },
                        {
                          "count": 37,
                          "xBinStart": 188.5,
                          "xBinEnd": 203,
                          "yBinStart": 13248.675,
                          "yBinEnd": 17214.9
                        },
                        {
                          "count": 67,
                          "xBinStart": 188.5,
                          "xBinEnd": 203,
                          "yBinStart": 17214.9,
                          "yBinEnd": 21181.125
                        },
                        {
                          "count": 44,
                          "xBinStart": 188.5,
                          "xBinEnd": 203,
                          "yBinStart": 21181.125,
                          "yBinEnd": 25147.35
                        },
                        {
                          "count": 69,
                          "xBinStart": 188.5,
                          "xBinEnd": 203,
                          "yBinStart": 25147.35,
                          "yBinEnd": 29113.575
                        },
                        {
                          "count": 17,
                          "xBinStart": 188.5,
                          "xBinEnd": 203,
                          "yBinStart": 29113.575,
                          "yBinEnd": 33079.8
                        },
                        {
                          "count": 2,
                          "xBinStart": 188.5,
                          "xBinEnd": 203,
                          "yBinStart": 33079.8,
                          "yBinEnd": 37046.025
                        },
                        {
                          "count": 1,
                          "xBinStart": 203,
                          "xBinEnd": 217.5,
                          "yBinStart": 1191.351,
                          "yBinEnd": 5316.225
                        },
                        {
                          "count": 6,
                          "xBinStart": 203,
                          "xBinEnd": 217.5,
                          "yBinStart": 5316.225,
                          "yBinEnd": 9282.45
                        },
                        {
                          "count": 3,
                          "xBinStart": 203,
                          "xBinEnd": 217.5,
                          "yBinStart": 9282.45,
                          "yBinEnd": 13248.675
                        },
                        {
                          "count": 7,
                          "xBinStart": 203,
                          "xBinEnd": 217.5,
                          "yBinStart": 13248.675,
                          "yBinEnd": 17214.9
                        },
                        {
                          "count": 11,
                          "xBinStart": 203,
                          "xBinEnd": 217.5,
                          "yBinStart": 17214.9,
                          "yBinEnd": 21181.125
                        },
                        {
                          "count": 10,
                          "xBinStart": 203,
                          "xBinEnd": 217.5,
                          "yBinStart": 21181.125,
                          "yBinEnd": 25147.35
                        },
                        {
                          "count": 15,
                          "xBinStart": 203,
                          "xBinEnd": 217.5,
                          "yBinStart": 25147.35,
                          "yBinEnd": 29113.575
                        },
                        {
                          "count": 7,
                          "xBinStart": 203,
                          "xBinEnd": 217.5,
                          "yBinStart": 29113.575,
                          "yBinEnd": 33079.8
                        },
                        {
                          "count": 1,
                          "xBinStart": 203,
                          "xBinEnd": 217.5,
                          "yBinStart": 33079.8,
                          "yBinEnd": 37046.025
                        },
                        {
                          "count": 1,
                          "xBinStart": 217.5,
                          "xBinEnd": 232,
                          "yBinStart": 5316.225,
                          "yBinEnd": 9282.45
                        },
                        {
                          "count": 3,
                          "xBinStart": 232,
                          "xBinEnd": 246.5,
                          "yBinStart": 1191.351,
                          "yBinEnd": 5316.225
                        },
                        {
                          "count": 5,
                          "xBinStart": 232,
                          "xBinEnd": 246.5,
                          "yBinStart": 5316.225,
                          "yBinEnd": 9282.45
                        },
                        {
                          "count": 3,
                          "xBinStart": 232,
                          "xBinEnd": 246.5,
                          "yBinStart": 9282.45,
                          "yBinEnd": 13248.675
                        },
                        {
                          "count": 4,
                          "xBinStart": 232,
                          "xBinEnd": 246.5,
                          "yBinStart": 17214.9,
                          "yBinEnd": 21181.125
                        },
                        {
                          "count": 7,
                          "xBinStart": 232,
                          "xBinEnd": 246.5,
                          "yBinStart": 21181.125,
                          "yBinEnd": 25147.35
                        },
                        {
                          "count": 13,
                          "xBinStart": 232,
                          "xBinEnd": 246.5,
                          "yBinStart": 25147.35,
                          "yBinEnd": 29113.575
                        },
                        {
                          "count": 15,
                          "xBinStart": 232,
                          "xBinEnd": 246.5,
                          "yBinStart": 29113.575,
                          "yBinEnd": 33079.8
                        },
                        {
                          "count": 10,
                          "xBinStart": 232,
                          "xBinEnd": 246.5,
                          "yBinStart": 33079.8,
                          "yBinEnd": 37046.025
                        },
                        {
                          "count": 1,
                          "xBinStart": 232,
                          "xBinEnd": 246.5,
                          "yBinStart": 41012.25,
                          "yBinEnd": 44978.475
                        },
                        {
                          "count": 1,
                          "xBinStart": 246.5,
                          "xBinEnd": 261,
                          "yBinStart": 9282.45,
                          "yBinEnd": 13248.675
                        },
                        {
                          "count": 2,
                          "xBinStart": 246.5,
                          "xBinEnd": 261,
                          "yBinStart": 13248.675,
                          "yBinEnd": 17214.9
                        },
                        {
                          "count": 1,
                          "xBinStart": 246.5,
                          "xBinEnd": 261,
                          "yBinStart": 17214.9,
                          "yBinEnd": 21181.125
                        },
                        {
                          "count": 17,
                          "xBinStart": 246.5,
                          "xBinEnd": 261,
                          "yBinStart": 21181.125,
                          "yBinEnd": 25147.35
                        },
                        {
                          "count": 49,
                          "xBinStart": 246.5,
                          "xBinEnd": 261,
                          "yBinStart": 25147.35,
                          "yBinEnd": 29113.575
                        },
                        {
                          "count": 32,
                          "xBinStart": 246.5,
                          "xBinEnd": 261,
                          "yBinStart": 29113.575,
                          "yBinEnd": 33079.8
                        },
                        {
                          "count": 8,
                          "xBinStart": 246.5,
                          "xBinEnd": 261,
                          "yBinStart": 33079.8,
                          "yBinEnd": 37046.025
                        },
                        {
                          "count": 6,
                          "xBinStart": 246.5,
                          "xBinEnd": 261,
                          "yBinStart": 37046.025,
                          "yBinEnd": 41012.25
                        },
                        {
                          "count": 2,
                          "xBinStart": 246.5,
                          "xBinEnd": 261,
                          "yBinStart": 44978.475,
                          "yBinEnd": 48944.7
                        },
                        {
                          "count": 1,
                          "xBinStart": 261,
                          "xBinEnd": 275.5,
                          "yBinStart": 5316.225,
                          "yBinEnd": 9282.45
                        },
                        {
                          "count": 2,
                          "xBinStart": 261,
                          "xBinEnd": 275.5,
                          "yBinStart": 9282.45,
                          "yBinEnd": 13248.675
                        },
                        {
                          "count": 1,
                          "xBinStart": 261,
                          "xBinEnd": 275.5,
                          "yBinStart": 17214.9,
                          "yBinEnd": 21181.125
                        },
                        {
                          "count": 3,
                          "xBinStart": 261,
                          "xBinEnd": 275.5,
                          "yBinStart": 21181.125,
                          "yBinEnd": 25147.35
                        },
                        {
                          "count": 10,
                          "xBinStart": 261,
                          "xBinEnd": 275.5,
                          "yBinStart": 25147.35,
                          "yBinEnd": 29113.575
                        },
                        {
                          "count": 8,
                          "xBinStart": 261,
                          "xBinEnd": 275.5,
                          "yBinStart": 29113.575,
                          "yBinEnd": 33079.8
                        },
                        {
                          "count": 1,
                          "xBinStart": 261,
                          "xBinEnd": 275.5,
                          "yBinStart": 33079.8,
                          "yBinEnd": 37046.025
                        },
                        {
                          "count": 3,
                          "xBinStart": 261,
                          "xBinEnd": 275.5,
                          "yBinStart": 37046.025,
                          "yBinEnd": 41012.25
                        },
                        {
                          "count": 5,
                          "xBinStart": 290,
                          "xBinEnd": 304.5,
                          "yBinStart": 5316.225,
                          "yBinEnd": 9282.45
                        },
                        {
                          "count": 1,
                          "xBinStart": 290,
                          "xBinEnd": 304.5,
                          "yBinStart": 9282.45,
                          "yBinEnd": 13248.675
                        },
                        {
                          "count": 9,
                          "xBinStart": 290,
                          "xBinEnd": 304.5,
                          "yBinStart": 13248.675,
                          "yBinEnd": 17214.9
                        },
                        {
                          "count": 5,
                          "xBinStart": 290,
                          "xBinEnd": 304.5,
                          "yBinStart": 17214.9,
                          "yBinEnd": 21181.125
                        },
                        {
                          "count": 7,
                          "xBinStart": 290,
                          "xBinEnd": 304.5,
                          "yBinStart": 21181.125,
                          "yBinEnd": 25147.35
                        },
                        {
                          "count": 1,
                          "xBinStart": 290,
                          "xBinEnd": 304.5,
                          "yBinStart": 25147.35,
                          "yBinEnd": 29113.575
                        },
                        {
                          "count": 20,
                          "xBinStart": 290,
                          "xBinEnd": 304.5,
                          "yBinStart": 29113.575,
                          "yBinEnd": 33079.8
                        },
                        {
                          "count": 26,
                          "xBinStart": 290,
                          "xBinEnd": 304.5,
                          "yBinStart": 33079.8,
                          "yBinEnd": 37046.025
                        },
                        {
                          "count": 11,
                          "xBinStart": 290,
                          "xBinEnd": 304.5,
                          "yBinStart": 37046.025,
                          "yBinEnd": 41012.25
                        },
                        {
                          "count": 4,
                          "xBinStart": 290,
                          "xBinEnd": 304.5,
                          "yBinStart": 41012.25,
                          "yBinEnd": 44978.475
                        },
                        {
                          "count": 1,
                          "xBinStart": 290,
                          "xBinEnd": 304.5,
                          "yBinStart": 48944.7,
                          "yBinEnd": 52910.925
                        },
                        {
                          "count": 1,
                          "xBinStart": 304.5,
                          "xBinEnd": 319,
                          "yBinStart": 1191.351,
                          "yBinEnd": 5316.225
                        },
                        {
                          "count": 1,
                          "xBinStart": 304.5,
                          "xBinEnd": 319,
                          "yBinStart": 17214.9,
                          "yBinEnd": 21181.125
                        },
                        {
                          "count": 2,
                          "xBinStart": 304.5,
                          "xBinEnd": 319,
                          "yBinStart": 21181.125,
                          "yBinEnd": 25147.35
                        },
                        {
                          "count": 1,
                          "xBinStart": 304.5,
                          "xBinEnd": 319,
                          "yBinStart": 25147.35,
                          "yBinEnd": 29113.575
                        },
                        {
                          "count": 6,
                          "xBinStart": 304.5,
                          "xBinEnd": 319,
                          "yBinStart": 29113.575,
                          "yBinEnd": 33079.8
                        },
                        {
                          "count": 12,
                          "xBinStart": 304.5,
                          "xBinEnd": 319,
                          "yBinStart": 33079.8,
                          "yBinEnd": 37046.025
                        },
                        {
                          "count": 8,
                          "xBinStart": 304.5,
                          "xBinEnd": 319,
                          "yBinStart": 37046.025,
                          "yBinEnd": 41012.25
                        },
                        {
                          "count": 2,
                          "xBinStart": 304.5,
                          "xBinEnd": 319,
                          "yBinStart": 41012.25,
                          "yBinEnd": 44978.475
                        },
                        {
                          "count": 1,
                          "xBinStart": 319,
                          "xBinEnd": 333.5,
                          "yBinStart": 9282.45,
                          "yBinEnd": 13248.675
                        },
                        {
                          "count": 2,
                          "xBinStart": 319,
                          "xBinEnd": 333.5,
                          "yBinStart": 21181.125,
                          "yBinEnd": 25147.35
                        },
                        {
                          "count": 7,
                          "xBinStart": 319,
                          "xBinEnd": 333.5,
                          "yBinStart": 25147.35,
                          "yBinEnd": 29113.575
                        },
                        {
                          "count": 11,
                          "xBinStart": 319,
                          "xBinEnd": 333.5,
                          "yBinStart": 29113.575,
                          "yBinEnd": 33079.8
                        },
                        {
                          "count": 8,
                          "xBinStart": 319,
                          "xBinEnd": 333.5,
                          "yBinStart": 33079.8,
                          "yBinEnd": 37046.025
                        },
                        {
                          "count": 3,
                          "xBinStart": 319,
                          "xBinEnd": 333.5,
                          "yBinStart": 37046.025,
                          "yBinEnd": 41012.25
                        },
                        {
                          "count": 2,
                          "xBinStart": 319,
                          "xBinEnd": 333.5,
                          "yBinStart": 41012.25,
                          "yBinEnd": 44978.475
                        },
                        {
                          "count": 2,
                          "xBinStart": 319,
                          "xBinEnd": 333.5,
                          "yBinStart": 56877.15,
                          "yBinEnd": 60843.375
                        },
                        {
                          "count": 1,
                          "xBinStart": 319,
                          "xBinEnd": 333.5,
                          "yBinStart": 60843.375,
                          "yBinEnd": 64809.6
                        },
                        {
                          "count": 1,
                          "xBinStart": 319,
                          "xBinEnd": 333.5,
                          "yBinStart": 68775.825,
                          "yBinEnd": 72742.05
                        },
                        {
                          "count": 1,
                          "xBinStart": 319,
                          "xBinEnd": 333.5,
                          "yBinStart": 72742.05,
                          "yBinEnd": 76708.275
                        },
                        {
                          "count": 2,
                          "xBinStart": 536.5,
                          "xBinEnd": 551,
                          "yBinStart": 5316.225,
                          "yBinEnd": 9282.45
                        },
                        {
                          "count": 1,
                          "xBinStart": 536.5,
                          "xBinEnd": 551,
                          "yBinStart": 17214.9,
                          "yBinEnd": 21181.125
                        },
                        {
                          "count": 3,
                          "xBinStart": 551,
                          "xBinEnd": 565.5,
                          "yBinStart": 5316.225,
                          "yBinEnd": 9282.45
                        },
                        {
                          "count": 6,
                          "xBinStart": 551,
                          "xBinEnd": 565.5,
                          "yBinStart": 9282.45,
                          "yBinEnd": 13248.675
                        },
                        {
                          "count": 2,
                          "xBinStart": 551,
                          "xBinEnd": 565.5,
                          "yBinStart": 13248.675,
                          "yBinEnd": 17214.9
                        },
                        {
                          "count": 1,
                          "xBinStart": 551,
                          "xBinEnd": 565.5,
                          "yBinStart": 17214.9,
                          "yBinEnd": 21181.125
                        },
                        {
                          "count": 2,
                          "xBinStart": 551,
                          "xBinEnd": 565.5,
                          "yBinStart": 21181.125,
                          "yBinEnd": 25147.35
                        },
                        {
                          "count": 2,
                          "xBinStart": 551,
                          "xBinEnd": 565.5,
                          "yBinStart": 25147.35,
                          "yBinEnd": 29113.575
                        },
                        {
                          "count": 2,
                          "xBinStart": 551,
                          "xBinEnd": 565.5,
                          "yBinStart": 41012.25,
                          "yBinEnd": 44978.475
                        },
                        {
                          "count": 2,
                          "xBinStart": 551,
                          "xBinEnd": 565.5,
                          "yBinStart": 44978.475,
                          "yBinEnd": 48944.7
                        },
                        {
                          "count": 2,
                          "xBinStart": 551,
                          "xBinEnd": 565.5,
                          "yBinStart": 48944.7,
                          "yBinEnd": 52910.925
                        },
                        {
                          "count": 1,
                          "xBinStart": 551,
                          "xBinEnd": 565.5,
                          "yBinStart": 52910.925,
                          "yBinEnd": 56877.15
                        },
                        {
                          "count": 2,
                          "xBinStart": 551,
                          "xBinEnd": 565.5,
                          "yBinStart": 56877.15,
                          "yBinEnd": 60843.375
                        },
                        {
                          "count": 6,
                          "xBinStart": 565.5,
                          "xBinEnd": 580,
                          "yBinStart": 21181.125,
                          "yBinEnd": 25147.35
                        },
                        {
                          "count": 4,
                          "xBinStart": 565.5,
                          "xBinEnd": 580,
                          "yBinStart": 25147.35,
                          "yBinEnd": 29113.575
                        },
                        {
                          "count": 2,
                          "xBinStart": 565.5,
                          "xBinEnd": 580,
                          "yBinStart": 29113.575,
                          "yBinEnd": 33079.8
                        },
                        {
                          "count": 1,
                          "xBinStart": 565.5,
                          "xBinEnd": 580,
                          "yBinStart": 33079.8,
                          "yBinEnd": 37046.025
                        },
                        {
                          "count": 1,
                          "xBinStart": 565.5,
                          "xBinEnd": 580,
                          "yBinStart": 41012.25,
                          "yBinEnd": 44978.475
                        },
                        {
                          "count": 4,
                          "xBinStart": 565.5,
                          "xBinEnd": 580,
                          "yBinStart": 44978.475,
                          "yBinEnd": 48944.7
                        },
                        {
                          "count": 1,
                          "xBinStart": 565.5,
                          "xBinEnd": 580,
                          "yBinStart": 52910.925,
                          "yBinEnd": 56877.15
                        },
                        {
                          "count": 1,
                          "xBinStart": 565.5,
                          "xBinEnd": 580,
                          "yBinStart": 76708.275,
                          "yBinEnd": 80674.5
                        },
                        {
                          "count": 1,
                          "xBinStart": 565.5,
                          "xBinEnd": 580,
                          "yBinStart": 96539.4,
                          "yBinEnd": 100505.625
                        },
                        {
                          "count": 1,
                          "xBinStart": 565.5,
                          "xBinEnd": 580,
                          "yBinStart": 148100.325,
                          "yBinEnd": 152066.55
                        }
                      ]
                    },
                    "vislib": "vegalite"
                  },
                  {
                    "config": {
                      "view": {
                        "continuousWidth": 300,
                        "continuousHeight": 300
                      },
                      "axis": {
                        "labelColor": "#505050",
                        "labelFont": "Helvetica Neue",
                        "labelFontSize": 9,
                        "labelFontWeight": 400,
                        "titleFont": "Helvetica Neue",
                        "titleFontSize": 11,
                        "titleFontWeight": 500
                      },
                      "legend": {
                        "labelFont": "Helvetica Neue",
                        "labelFontSize": 9,
                        "labelFontWeight": 400,
                        "titleFont": "Helvetica Neue",
                        "titleFontSize": 10,
                        "titleFontWeight": 500
                      },
                      "mark": {
                        "tooltip": {
                          "content": "encoding"
                        }
                      },
                      "scale": {
                        "maxOpacity": 1,
                        "minOpacity": 0.1
                      },
                      "title": {
                        "font": "Helvetica Neue",
                        "fontSize": 13,
                        "fontWeight": 500
                      }
                    },
                    "data": {
                      "name": "data-b2d381fa0d89730e749f1624d288747c"
                    },
                    "mark": {
                      "type": "rect"
                    },
                    "encoding": {
                      "opacity": {
                        "field": "count",
                        "legend": null,
                        "scale": {
                          "type": "log"
                        },
                        "type": "quantitative"
                      },
                      "x": {
                        "axis": {
                          "title": "mileage"
                        },
                        "bin": {
                          "binned": true
                        },
                        "field": "xBinStart",
                        "type": "quantitative"
                      },
                      "x2": {
                        "field": "xBinEnd"
                      },
                      "y": {
                        "axis": {
                          "title": "mpg"
                        },
                        "bin": {
                          "binned": true
                        },
                        "field": "yBinStart",
                        "type": "quantitative"
                      },
                      "y2": {
                        "field": "yBinEnd"
                      }
                    },
                    "height": 150,
                    "params": [
                      {
                        "name": "param_2",
                        "select": {
                          "type": "interval",
                          "encodings": [
                            "x",
                            "y"
                          ]
                        },
                        "bind": "scales"
                      }
                    ],
                    "width": 160,
                    "$schema": "https://vega.github.io/schema/vega-lite/v5.20.1.json",
                    "datasets": {
                      "data-b2d381fa0d89730e749f1624d288747c": [
                        {
                          "count": 4,
                          "xBinStart": -257.999,
                          "xBinEnd": 6475.975,
                          "yBinStart": 0.884,
                          "yBinEnd": 6.505
                        },
                        {
                          "count": 30,
                          "xBinStart": -257.999,
                          "xBinEnd": 6475.975,
                          "yBinStart": 17.315,
                          "yBinEnd": 22.72
                        },
                        {
                          "count": 86,
                          "xBinStart": -257.999,
                          "xBinEnd": 6475.975,
                          "yBinStart": 22.72,
                          "yBinEnd": 28.125
                        },
                        {
                          "count": 367,
                          "xBinStart": -257.999,
                          "xBinEnd": 6475.975,
                          "yBinStart": 28.125,
                          "yBinEnd": 33.53
                        },
                        {
                          "count": 334,
                          "xBinStart": -257.999,
                          "xBinEnd": 6475.975,
                          "yBinStart": 33.53,
                          "yBinEnd": 38.935
                        },
                        {
                          "count": 481,
                          "xBinStart": -257.999,
                          "xBinEnd": 6475.975,
                          "yBinStart": 38.935,
                          "yBinEnd": 44.34
                        },
                        {
                          "count": 685,
                          "xBinStart": -257.999,
                          "xBinEnd": 6475.975,
                          "yBinStart": 44.34,
                          "yBinEnd": 49.745
                        },
                        {
                          "count": 322,
                          "xBinStart": -257.999,
                          "xBinEnd": 6475.975,
                          "yBinStart": 49.745,
                          "yBinEnd": 55.15
                        },
                        {
                          "count": 524,
                          "xBinStart": -257.999,
                          "xBinEnd": 6475.975,
                          "yBinStart": 55.15,
                          "yBinEnd": 60.555
                        },
                        {
                          "count": 381,
                          "xBinStart": -257.999,
                          "xBinEnd": 6475.975,
                          "yBinStart": 60.555,
                          "yBinEnd": 65.96
                        },
                        {
                          "count": 134,
                          "xBinStart": -257.999,
                          "xBinEnd": 6475.975,
                          "yBinStart": 65.96,
                          "yBinEnd": 71.365
                        },
                        {
                          "count": 21,
                          "xBinStart": -257.999,
                          "xBinEnd": 6475.975,
                          "yBinStart": 71.365,
                          "yBinEnd": 76.77
                        },
                        {
                          "count": 1,
                          "xBinStart": -257.999,
                          "xBinEnd": 6475.975,
                          "yBinStart": 98.39,
                          "yBinEnd": 103.795
                        },
                        {
                          "count": 1,
                          "xBinStart": -257.999,
                          "xBinEnd": 6475.975,
                          "yBinStart": 120.01,
                          "yBinEnd": 125.415
                        },
                        {
                          "count": 3,
                          "xBinStart": -257.999,
                          "xBinEnd": 6475.975,
                          "yBinStart": 130.82,
                          "yBinEnd": 136.225
                        },
                        {
                          "count": 3,
                          "xBinStart": -257.999,
                          "xBinEnd": 6475.975,
                          "yBinStart": 174.06,
                          "yBinEnd": 179.465
                        },
                        {
                          "count": 17,
                          "xBinStart": -257.999,
                          "xBinEnd": 6475.975,
                          "yBinStart": 184.87,
                          "yBinEnd": 190.275
                        },
                        {
                          "count": 1,
                          "xBinStart": -257.999,
                          "xBinEnd": 6475.975,
                          "yBinStart": 201.085,
                          "yBinEnd": 206.49
                        },
                        {
                          "count": 1,
                          "xBinStart": -257.999,
                          "xBinEnd": 6475.975,
                          "yBinStart": 211.895,
                          "yBinEnd": 217.3
                        },
                        {
                          "count": 1,
                          "xBinStart": 6475.975,
                          "xBinEnd": 12950.95,
                          "yBinStart": 6.505,
                          "yBinEnd": 11.91
                        },
                        {
                          "count": 3,
                          "xBinStart": 6475.975,
                          "xBinEnd": 12950.95,
                          "yBinStart": 17.315,
                          "yBinEnd": 22.72
                        },
                        {
                          "count": 14,
                          "xBinStart": 6475.975,
                          "xBinEnd": 12950.95,
                          "yBinStart": 22.72,
                          "yBinEnd": 28.125
                        },
                        {
                          "count": 175,
                          "xBinStart": 6475.975,
                          "xBinEnd": 12950.95,
                          "yBinStart": 28.125,
                          "yBinEnd": 33.53
                        },
                        {
                          "count": 137,
                          "xBinStart": 6475.975,
                          "xBinEnd": 12950.95,
                          "yBinStart": 33.53,
                          "yBinEnd": 38.935
                        },
                        {
                          "count": 228,
                          "xBinStart": 6475.975,
                          "xBinEnd": 12950.95,
                          "yBinStart": 38.935,
                          "yBinEnd": 44.34
                        },
                        {
                          "count": 385,
                          "xBinStart": 6475.975,
                          "xBinEnd": 12950.95,
                          "yBinStart": 44.34,
                          "yBinEnd": 49.745
                        },
                        {
                          "count": 291,
                          "xBinStart": 6475.975,
                          "xBinEnd": 12950.95,
                          "yBinStart": 49.745,
                          "yBinEnd": 55.15
                        },
                        {
                          "count": 374,
                          "xBinStart": 6475.975,
                          "xBinEnd": 12950.95,
                          "yBinStart": 55.15,
                          "yBinEnd": 60.555
                        },
                        {
                          "count": 251,
                          "xBinStart": 6475.975,
                          "xBinEnd": 12950.95,
                          "yBinStart": 60.555,
                          "yBinEnd": 65.96
                        },
                        {
                          "count": 259,
                          "xBinStart": 6475.975,
                          "xBinEnd": 12950.95,
                          "yBinStart": 65.96,
                          "yBinEnd": 71.365
                        },
                        {
                          "count": 86,
                          "xBinStart": 6475.975,
                          "xBinEnd": 12950.95,
                          "yBinStart": 71.365,
                          "yBinEnd": 76.77
                        },
                        {
                          "count": 1,
                          "xBinStart": 6475.975,
                          "xBinEnd": 12950.95,
                          "yBinStart": 76.77,
                          "yBinEnd": 82.175
                        },
                        {
                          "count": 1,
                          "xBinStart": 6475.975,
                          "xBinEnd": 12950.95,
                          "yBinStart": 98.39,
                          "yBinEnd": 103.795
                        },
                        {
                          "count": 3,
                          "xBinStart": 6475.975,
                          "xBinEnd": 12950.95,
                          "yBinStart": 130.82,
                          "yBinEnd": 136.225
                        },
                        {
                          "count": 4,
                          "xBinStart": 6475.975,
                          "xBinEnd": 12950.95,
                          "yBinStart": 184.87,
                          "yBinEnd": 190.275
                        },
                        {
                          "count": 3,
                          "xBinStart": 12950.95,
                          "xBinEnd": 19425.925,
                          "yBinStart": 17.315,
                          "yBinEnd": 22.72
                        },
                        {
                          "count": 6,
                          "xBinStart": 12950.95,
                          "xBinEnd": 19425.925,
                          "yBinStart": 22.72,
                          "yBinEnd": 28.125
                        },
                        {
                          "count": 36,
                          "xBinStart": 12950.95,
                          "xBinEnd": 19425.925,
                          "yBinStart": 28.125,
                          "yBinEnd": 33.53
                        },
                        {
                          "count": 73,
                          "xBinStart": 12950.95,
                          "xBinEnd": 19425.925,
                          "yBinStart": 33.53,
                          "yBinEnd": 38.935
                        },
                        {
                          "count": 124,
                          "xBinStart": 12950.95,
                          "xBinEnd": 19425.925,
                          "yBinStart": 38.935,
                          "yBinEnd": 44.34
                        },
                        {
                          "count": 335,
                          "xBinStart": 12950.95,
                          "xBinEnd": 19425.925,
                          "yBinStart": 44.34,
                          "yBinEnd": 49.745
                        },
                        {
                          "count": 214,
                          "xBinStart": 12950.95,
                          "xBinEnd": 19425.925,
                          "yBinStart": 49.745,
                          "yBinEnd": 55.15
                        },
                        {
                          "count": 229,
                          "xBinStart": 12950.95,
                          "xBinEnd": 19425.925,
                          "yBinStart": 55.15,
                          "yBinEnd": 60.555
                        },
                        {
                          "count": 379,
                          "xBinStart": 12950.95,
                          "xBinEnd": 19425.925,
                          "yBinStart": 60.555,
                          "yBinEnd": 65.96
                        },
                        {
                          "count": 275,
                          "xBinStart": 12950.95,
                          "xBinEnd": 19425.925,
                          "yBinStart": 65.96,
                          "yBinEnd": 71.365
                        },
                        {
                          "count": 170,
                          "xBinStart": 12950.95,
                          "xBinEnd": 19425.925,
                          "yBinStart": 71.365,
                          "yBinEnd": 76.77
                        },
                        {
                          "count": 6,
                          "xBinStart": 12950.95,
                          "xBinEnd": 19425.925,
                          "yBinStart": 76.77,
                          "yBinEnd": 82.175
                        },
                        {
                          "count": 7,
                          "xBinStart": 12950.95,
                          "xBinEnd": 19425.925,
                          "yBinStart": 130.82,
                          "yBinEnd": 136.225
                        },
                        {
                          "count": 1,
                          "xBinStart": 12950.95,
                          "xBinEnd": 19425.925,
                          "yBinStart": 174.06,
                          "yBinEnd": 179.465
                        },
                        {
                          "count": 9,
                          "xBinStart": 19425.925,
                          "xBinEnd": 25900.9,
                          "yBinStart": 22.72,
                          "yBinEnd": 28.125
                        },
                        {
                          "count": 12,
                          "xBinStart": 19425.925,
                          "xBinEnd": 25900.9,
                          "yBinStart": 28.125,
                          "yBinEnd": 33.53
                        },
                        {
                          "count": 65,
                          "xBinStart": 19425.925,
                          "xBinEnd": 25900.9,
                          "yBinStart": 33.53,
                          "yBinEnd": 38.935
                        },
                        {
                          "count": 74,
                          "xBinStart": 19425.925,
                          "xBinEnd": 25900.9,
                          "yBinStart": 38.935,
                          "yBinEnd": 44.34
                        },
                        {
                          "count": 149,
                          "xBinStart": 19425.925,
                          "xBinEnd": 25900.9,
                          "yBinStart": 44.34,
                          "yBinEnd": 49.745
                        },
                        {
                          "count": 158,
                          "xBinStart": 19425.925,
                          "xBinEnd": 25900.9,
                          "yBinStart": 49.745,
                          "yBinEnd": 55.15
                        },
                        {
                          "count": 215,
                          "xBinStart": 19425.925,
                          "xBinEnd": 25900.9,
                          "yBinStart": 55.15,
                          "yBinEnd": 60.555
                        },
                        {
                          "count": 314,
                          "xBinStart": 19425.925,
                          "xBinEnd": 25900.9,
                          "yBinStart": 60.555,
                          "yBinEnd": 65.96
                        },
                        {
                          "count": 218,
                          "xBinStart": 19425.925,
                          "xBinEnd": 25900.9,
                          "yBinStart": 65.96,
                          "yBinEnd": 71.365
                        },
                        {
                          "count": 108,
                          "xBinStart": 19425.925,
                          "xBinEnd": 25900.9,
                          "yBinStart": 71.365,
                          "yBinEnd": 76.77
                        },
                        {
                          "count": 6,
                          "xBinStart": 19425.925,
                          "xBinEnd": 25900.9,
                          "yBinStart": 76.77,
                          "yBinEnd": 82.175
                        },
                        {
                          "count": 1,
                          "xBinStart": 19425.925,
                          "xBinEnd": 25900.9,
                          "yBinStart": 120.01,
                          "yBinEnd": 125.415
                        },
                        {
                          "count": 10,
                          "xBinStart": 19425.925,
                          "xBinEnd": 25900.9,
                          "yBinStart": 130.82,
                          "yBinEnd": 136.225
                        },
                        {
                          "count": 1,
                          "xBinStart": 25900.9,
                          "xBinEnd": 32375.875,
                          "yBinStart": 22.72,
                          "yBinEnd": 28.125
                        },
                        {
                          "count": 7,
                          "xBinStart": 25900.9,
                          "xBinEnd": 32375.875,
                          "yBinStart": 28.125,
                          "yBinEnd": 33.53
                        },
                        {
                          "count": 33,
                          "xBinStart": 25900.9,
                          "xBinEnd": 32375.875,
                          "yBinStart": 33.53,
                          "yBinEnd": 38.935
                        },
                        {
                          "count": 73,
                          "xBinStart": 25900.9,
                          "xBinEnd": 32375.875,
                          "yBinStart": 38.935,
                          "yBinEnd": 44.34
                        },
                        {
                          "count": 91,
                          "xBinStart": 25900.9,
                          "xBinEnd": 32375.875,
                          "yBinStart": 44.34,
                          "yBinEnd": 49.745
                        },
                        {
                          "count": 121,
                          "xBinStart": 25900.9,
                          "xBinEnd": 32375.875,
                          "yBinStart": 49.745,
                          "yBinEnd": 55.15
                        },
                        {
                          "count": 218,
                          "xBinStart": 25900.9,
                          "xBinEnd": 32375.875,
                          "yBinStart": 55.15,
                          "yBinEnd": 60.555
                        },
                        {
                          "count": 283,
                          "xBinStart": 25900.9,
                          "xBinEnd": 32375.875,
                          "yBinStart": 60.555,
                          "yBinEnd": 65.96
                        },
                        {
                          "count": 185,
                          "xBinStart": 25900.9,
                          "xBinEnd": 32375.875,
                          "yBinStart": 65.96,
                          "yBinEnd": 71.365
                        },
                        {
                          "count": 96,
                          "xBinStart": 25900.9,
                          "xBinEnd": 32375.875,
                          "yBinStart": 71.365,
                          "yBinEnd": 76.77
                        },
                        {
                          "count": 4,
                          "xBinStart": 25900.9,
                          "xBinEnd": 32375.875,
                          "yBinStart": 76.77,
                          "yBinEnd": 82.175
                        },
                        {
                          "count": 12,
                          "xBinStart": 25900.9,
                          "xBinEnd": 32375.875,
                          "yBinStart": 130.82,
                          "yBinEnd": 136.225
                        },
                        {
                          "count": 2,
                          "xBinStart": 32375.875,
                          "xBinEnd": 38850.85,
                          "yBinStart": 17.315,
                          "yBinEnd": 22.72
                        },
                        {
                          "count": 3,
                          "xBinStart": 32375.875,
                          "xBinEnd": 38850.85,
                          "yBinStart": 22.72,
                          "yBinEnd": 28.125
                        },
                        {
                          "count": 3,
                          "xBinStart": 32375.875,
                          "xBinEnd": 38850.85,
                          "yBinStart": 28.125,
                          "yBinEnd": 33.53
                        },
                        {
                          "count": 22,
                          "xBinStart": 32375.875,
                          "xBinEnd": 38850.85,
                          "yBinStart": 33.53,
                          "yBinEnd": 38.935
                        },
                        {
                          "count": 49,
                          "xBinStart": 32375.875,
                          "xBinEnd": 38850.85,
                          "yBinStart": 38.935,
                          "yBinEnd": 44.34
                        },
                        {
                          "count": 73,
                          "xBinStart": 32375.875,
                          "xBinEnd": 38850.85,
                          "yBinStart": 44.34,
                          "yBinEnd": 49.745
                        },
                        {
                          "count": 84,
                          "xBinStart": 32375.875,
                          "xBinEnd": 38850.85,
                          "yBinStart": 49.745,
                          "yBinEnd": 55.15
                        },
                        {
                          "count": 168,
                          "xBinStart": 32375.875,
                          "xBinEnd": 38850.85,
                          "yBinStart": 55.15,
                          "yBinEnd": 60.555
                        },
                        {
                          "count": 239,
                          "xBinStart": 32375.875,
                          "xBinEnd": 38850.85,
                          "yBinStart": 60.555,
                          "yBinEnd": 65.96
                        },
                        {
                          "count": 141,
                          "xBinStart": 32375.875,
                          "xBinEnd": 38850.85,
                          "yBinStart": 65.96,
                          "yBinEnd": 71.365
                        },
                        {
                          "count": 61,
                          "xBinStart": 32375.875,
                          "xBinEnd": 38850.85,
                          "yBinStart": 71.365,
                          "yBinEnd": 76.77
                        },
                        {
                          "count": 5,
                          "xBinStart": 32375.875,
                          "xBinEnd": 38850.85,
                          "yBinStart": 76.77,
                          "yBinEnd": 82.175
                        },
                        {
                          "count": 1,
                          "xBinStart": 32375.875,
                          "xBinEnd": 38850.85,
                          "yBinStart": 98.39,
                          "yBinEnd": 103.795
                        },
                        {
                          "count": 10,
                          "xBinStart": 32375.875,
                          "xBinEnd": 38850.85,
                          "yBinStart": 130.82,
                          "yBinEnd": 136.225
                        },
                        {
                          "count": 8,
                          "xBinStart": 38850.85,
                          "xBinEnd": 45325.825,
                          "yBinStart": 22.72,
                          "yBinEnd": 28.125
                        },
                        {
                          "count": 7,
                          "xBinStart": 38850.85,
                          "xBinEnd": 45325.825,
                          "yBinStart": 28.125,
                          "yBinEnd": 33.53
                        },
                        {
                          "count": 18,
                          "xBinStart": 38850.85,
                          "xBinEnd": 45325.825,
                          "yBinStart": 33.53,
                          "yBinEnd": 38.935
                        },
                        {
                          "count": 48,
                          "xBinStart": 38850.85,
                          "xBinEnd": 45325.825,
                          "yBinStart": 38.935,
                          "yBinEnd": 44.34
                        },
                        {
                          "count": 44,
                          "xBinStart": 38850.85,
                          "xBinEnd": 45325.825,
                          "yBinStart": 44.34,
                          "yBinEnd": 49.745
                        },
                        {
                          "count": 57,
                          "xBinStart": 38850.85,
                          "xBinEnd": 45325.825,
                          "yBinStart": 49.745,
                          "yBinEnd": 55.15
                        },
                        {
                          "count": 141,
                          "xBinStart": 38850.85,
                          "xBinEnd": 45325.825,
                          "yBinStart": 55.15,
                          "yBinEnd": 60.555
                        },
                        {
                          "count": 187,
                          "xBinStart": 38850.85,
                          "xBinEnd": 45325.825,
                          "yBinStart": 60.555,
                          "yBinEnd": 65.96
                        },
                        {
                          "count": 106,
                          "xBinStart": 38850.85,
                          "xBinEnd": 45325.825,
                          "yBinStart": 65.96,
                          "yBinEnd": 71.365
                        },
                        {
                          "count": 66,
                          "xBinStart": 38850.85,
                          "xBinEnd": 45325.825,
                          "yBinStart": 71.365,
                          "yBinEnd": 76.77
                        },
                        {
                          "count": 10,
                          "xBinStart": 38850.85,
                          "xBinEnd": 45325.825,
                          "yBinStart": 76.77,
                          "yBinEnd": 82.175
                        },
                        {
                          "count": 11,
                          "xBinStart": 38850.85,
                          "xBinEnd": 45325.825,
                          "yBinStart": 130.82,
                          "yBinEnd": 136.225
                        },
                        {
                          "count": 1,
                          "xBinStart": 45325.825,
                          "xBinEnd": 51800.8,
                          "yBinStart": 22.72,
                          "yBinEnd": 28.125
                        },
                        {
                          "count": 3,
                          "xBinStart": 45325.825,
                          "xBinEnd": 51800.8,
                          "yBinStart": 28.125,
                          "yBinEnd": 33.53
                        },
                        {
                          "count": 10,
                          "xBinStart": 45325.825,
                          "xBinEnd": 51800.8,
                          "yBinStart": 33.53,
                          "yBinEnd": 38.935
                        },
                        {
                          "count": 22,
                          "xBinStart": 45325.825,
                          "xBinEnd": 51800.8,
                          "yBinStart": 38.935,
                          "yBinEnd": 44.34
                        },
                        {
                          "count": 35,
                          "xBinStart": 45325.825,
                          "xBinEnd": 51800.8,
                          "yBinStart": 44.34,
                          "yBinEnd": 49.745
                        },
                        {
                          "count": 53,
                          "xBinStart": 45325.825,
                          "xBinEnd": 51800.8,
                          "yBinStart": 49.745,
                          "yBinEnd": 55.15
                        },
                        {
                          "count": 93,
                          "xBinStart": 45325.825,
                          "xBinEnd": 51800.8,
                          "yBinStart": 55.15,
                          "yBinEnd": 60.555
                        },
                        {
                          "count": 123,
                          "xBinStart": 45325.825,
                          "xBinEnd": 51800.8,
                          "yBinStart": 60.555,
                          "yBinEnd": 65.96
                        },
                        {
                          "count": 60,
                          "xBinStart": 45325.825,
                          "xBinEnd": 51800.8,
                          "yBinStart": 65.96,
                          "yBinEnd": 71.365
                        },
                        {
                          "count": 38,
                          "xBinStart": 45325.825,
                          "xBinEnd": 51800.8,
                          "yBinStart": 71.365,
                          "yBinEnd": 76.77
                        },
                        {
                          "count": 4,
                          "xBinStart": 45325.825,
                          "xBinEnd": 51800.8,
                          "yBinStart": 76.77,
                          "yBinEnd": 82.175
                        },
                        {
                          "count": 9,
                          "xBinStart": 45325.825,
                          "xBinEnd": 51800.8,
                          "yBinStart": 130.82,
                          "yBinEnd": 136.225
                        },
                        {
                          "count": 3,
                          "xBinStart": 51800.8,
                          "xBinEnd": 58275.775,
                          "yBinStart": 22.72,
                          "yBinEnd": 28.125
                        },
                        {
                          "count": 2,
                          "xBinStart": 51800.8,
                          "xBinEnd": 58275.775,
                          "yBinStart": 28.125,
                          "yBinEnd": 33.53
                        },
                        {
                          "count": 4,
                          "xBinStart": 51800.8,
                          "xBinEnd": 58275.775,
                          "yBinStart": 33.53,
                          "yBinEnd": 38.935
                        },
                        {
                          "count": 11,
                          "xBinStart": 51800.8,
                          "xBinEnd": 58275.775,
                          "yBinStart": 38.935,
                          "yBinEnd": 44.34
                        },
                        {
                          "count": 25,
                          "xBinStart": 51800.8,
                          "xBinEnd": 58275.775,
                          "yBinStart": 44.34,
                          "yBinEnd": 49.745
                        },
                        {
                          "count": 33,
                          "xBinStart": 51800.8,
                          "xBinEnd": 58275.775,
                          "yBinStart": 49.745,
                          "yBinEnd": 55.15
                        },
                        {
                          "count": 72,
                          "xBinStart": 51800.8,
                          "xBinEnd": 58275.775,
                          "yBinStart": 55.15,
                          "yBinEnd": 60.555
                        },
                        {
                          "count": 88,
                          "xBinStart": 51800.8,
                          "xBinEnd": 58275.775,
                          "yBinStart": 60.555,
                          "yBinEnd": 65.96
                        },
                        {
                          "count": 57,
                          "xBinStart": 51800.8,
                          "xBinEnd": 58275.775,
                          "yBinStart": 65.96,
                          "yBinEnd": 71.365
                        },
                        {
                          "count": 18,
                          "xBinStart": 51800.8,
                          "xBinEnd": 58275.775,
                          "yBinStart": 71.365,
                          "yBinEnd": 76.77
                        },
                        {
                          "count": 7,
                          "xBinStart": 51800.8,
                          "xBinEnd": 58275.775,
                          "yBinStart": 76.77,
                          "yBinEnd": 82.175
                        },
                        {
                          "count": 1,
                          "xBinStart": 51800.8,
                          "xBinEnd": 58275.775,
                          "yBinStart": 130.82,
                          "yBinEnd": 136.225
                        },
                        {
                          "count": 1,
                          "xBinStart": 58275.775,
                          "xBinEnd": 64750.75,
                          "yBinStart": 28.125,
                          "yBinEnd": 33.53
                        },
                        {
                          "count": 7,
                          "xBinStart": 58275.775,
                          "xBinEnd": 64750.75,
                          "yBinStart": 33.53,
                          "yBinEnd": 38.935
                        },
                        {
                          "count": 12,
                          "xBinStart": 58275.775,
                          "xBinEnd": 64750.75,
                          "yBinStart": 38.935,
                          "yBinEnd": 44.34
                        },
                        {
                          "count": 13,
                          "xBinStart": 58275.775,
                          "xBinEnd": 64750.75,
                          "yBinStart": 44.34,
                          "yBinEnd": 49.745
                        },
                        {
                          "count": 23,
                          "xBinStart": 58275.775,
                          "xBinEnd": 64750.75,
                          "yBinStart": 49.745,
                          "yBinEnd": 55.15
                        },
                        {
                          "count": 47,
                          "xBinStart": 58275.775,
                          "xBinEnd": 64750.75,
                          "yBinStart": 55.15,
                          "yBinEnd": 60.555
                        },
                        {
                          "count": 61,
                          "xBinStart": 58275.775,
                          "xBinEnd": 64750.75,
                          "yBinStart": 60.555,
                          "yBinEnd": 65.96
                        },
                        {
                          "count": 28,
                          "xBinStart": 58275.775,
                          "xBinEnd": 64750.75,
                          "yBinStart": 65.96,
                          "yBinEnd": 71.365
                        },
                        {
                          "count": 13,
                          "xBinStart": 58275.775,
                          "xBinEnd": 64750.75,
                          "yBinStart": 71.365,
                          "yBinEnd": 76.77
                        },
                        {
                          "count": 1,
                          "xBinStart": 58275.775,
                          "xBinEnd": 64750.75,
                          "yBinStart": 76.77,
                          "yBinEnd": 82.175
                        },
                        {
                          "count": 1,
                          "xBinStart": 58275.775,
                          "xBinEnd": 64750.75,
                          "yBinStart": 120.01,
                          "yBinEnd": 125.415
                        },
                        {
                          "count": 5,
                          "xBinStart": 58275.775,
                          "xBinEnd": 64750.75,
                          "yBinStart": 130.82,
                          "yBinEnd": 136.225
                        },
                        {
                          "count": 1,
                          "xBinStart": 64750.75,
                          "xBinEnd": 71225.725,
                          "yBinStart": 28.125,
                          "yBinEnd": 33.53
                        },
                        {
                          "count": 3,
                          "xBinStart": 64750.75,
                          "xBinEnd": 71225.725,
                          "yBinStart": 33.53,
                          "yBinEnd": 38.935
                        },
                        {
                          "count": 10,
                          "xBinStart": 64750.75,
                          "xBinEnd": 71225.725,
                          "yBinStart": 38.935,
                          "yBinEnd": 44.34
                        },
                        {
                          "count": 13,
                          "xBinStart": 64750.75,
                          "xBinEnd": 71225.725,
                          "yBinStart": 44.34,
                          "yBinEnd": 49.745
                        },
                        {
                          "count": 19,
                          "xBinStart": 64750.75,
                          "xBinEnd": 71225.725,
                          "yBinStart": 49.745,
                          "yBinEnd": 55.15
                        },
                        {
                          "count": 35,
                          "xBinStart": 64750.75,
                          "xBinEnd": 71225.725,
                          "yBinStart": 55.15,
                          "yBinEnd": 60.555
                        },
                        {
                          "count": 39,
                          "xBinStart": 64750.75,
                          "xBinEnd": 71225.725,
                          "yBinStart": 60.555,
                          "yBinEnd": 65.96
                        },
                        {
                          "count": 19,
                          "xBinStart": 64750.75,
                          "xBinEnd": 71225.725,
                          "yBinStart": 65.96,
                          "yBinEnd": 71.365
                        },
                        {
                          "count": 17,
                          "xBinStart": 64750.75,
                          "xBinEnd": 71225.725,
                          "yBinStart": 71.365,
                          "yBinEnd": 76.77
                        },
                        {
                          "count": 1,
                          "xBinStart": 64750.75,
                          "xBinEnd": 71225.725,
                          "yBinStart": 76.77,
                          "yBinEnd": 82.175
                        },
                        {
                          "count": 4,
                          "xBinStart": 64750.75,
                          "xBinEnd": 71225.725,
                          "yBinStart": 130.82,
                          "yBinEnd": 136.225
                        },
                        {
                          "count": 2,
                          "xBinStart": 71225.725,
                          "xBinEnd": 77700.7,
                          "yBinStart": 28.125,
                          "yBinEnd": 33.53
                        },
                        {
                          "count": 1,
                          "xBinStart": 71225.725,
                          "xBinEnd": 77700.7,
                          "yBinStart": 33.53,
                          "yBinEnd": 38.935
                        },
                        {
                          "count": 7,
                          "xBinStart": 71225.725,
                          "xBinEnd": 77700.7,
                          "yBinStart": 38.935,
                          "yBinEnd": 44.34
                        },
                        {
                          "count": 9,
                          "xBinStart": 71225.725,
                          "xBinEnd": 77700.7,
                          "yBinStart": 44.34,
                          "yBinEnd": 49.745
                        },
                        {
                          "count": 16,
                          "xBinStart": 71225.725,
                          "xBinEnd": 77700.7,
                          "yBinStart": 49.745,
                          "yBinEnd": 55.15
                        },
                        {
                          "count": 15,
                          "xBinStart": 71225.725,
                          "xBinEnd": 77700.7,
                          "yBinStart": 55.15,
                          "yBinEnd": 60.555
                        },
                        {
                          "count": 24,
                          "xBinStart": 71225.725,
                          "xBinEnd": 77700.7,
                          "yBinStart": 60.555,
                          "yBinEnd": 65.96
                        },
                        {
                          "count": 10,
                          "xBinStart": 71225.725,
                          "xBinEnd": 77700.7,
                          "yBinStart": 65.96,
                          "yBinEnd": 71.365
                        },
                        {
                          "count": 7,
                          "xBinStart": 71225.725,
                          "xBinEnd": 77700.7,
                          "yBinStart": 71.365,
                          "yBinEnd": 76.77
                        },
                        {
                          "count": 1,
                          "xBinStart": 71225.725,
                          "xBinEnd": 77700.7,
                          "yBinStart": 76.77,
                          "yBinEnd": 82.175
                        },
                        {
                          "count": 3,
                          "xBinStart": 71225.725,
                          "xBinEnd": 77700.7,
                          "yBinStart": 130.82,
                          "yBinEnd": 136.225
                        },
                        {
                          "count": 2,
                          "xBinStart": 77700.7,
                          "xBinEnd": 84175.675,
                          "yBinStart": 28.125,
                          "yBinEnd": 33.53
                        },
                        {
                          "count": 3,
                          "xBinStart": 77700.7,
                          "xBinEnd": 84175.675,
                          "yBinStart": 33.53,
                          "yBinEnd": 38.935
                        },
                        {
                          "count": 3,
                          "xBinStart": 77700.7,
                          "xBinEnd": 84175.675,
                          "yBinStart": 38.935,
                          "yBinEnd": 44.34
                        },
                        {
                          "count": 4,
                          "xBinStart": 77700.7,
                          "xBinEnd": 84175.675,
                          "yBinStart": 44.34,
                          "yBinEnd": 49.745
                        },
                        {
                          "count": 11,
                          "xBinStart": 77700.7,
                          "xBinEnd": 84175.675,
                          "yBinStart": 49.745,
                          "yBinEnd": 55.15
                        },
                        {
                          "count": 14,
                          "xBinStart": 77700.7,
                          "xBinEnd": 84175.675,
                          "yBinStart": 55.15,
                          "yBinEnd": 60.555
                        },
                        {
                          "count": 26,
                          "xBinStart": 77700.7,
                          "xBinEnd": 84175.675,
                          "yBinStart": 60.555,
                          "yBinEnd": 65.96
                        },
                        {
                          "count": 17,
                          "xBinStart": 77700.7,
                          "xBinEnd": 84175.675,
                          "yBinStart": 65.96,
                          "yBinEnd": 71.365
                        },
                        {
                          "count": 5,
                          "xBinStart": 77700.7,
                          "xBinEnd": 84175.675,
                          "yBinStart": 71.365,
                          "yBinEnd": 76.77
                        },
                        {
                          "count": 2,
                          "xBinStart": 77700.7,
                          "xBinEnd": 84175.675,
                          "yBinStart": 76.77,
                          "yBinEnd": 82.175
                        },
                        {
                          "count": 2,
                          "xBinStart": 77700.7,
                          "xBinEnd": 84175.675,
                          "yBinStart": 130.82,
                          "yBinEnd": 136.225
                        },
                        {
                          "count": 1,
                          "xBinStart": 84175.675,
                          "xBinEnd": 90650.65,
                          "yBinStart": 28.125,
                          "yBinEnd": 33.53
                        },
                        {
                          "count": 2,
                          "xBinStart": 84175.675,
                          "xBinEnd": 90650.65,
                          "yBinStart": 33.53,
                          "yBinEnd": 38.935
                        },
                        {
                          "count": 2,
                          "xBinStart": 84175.675,
                          "xBinEnd": 90650.65,
                          "yBinStart": 38.935,
                          "yBinEnd": 44.34
                        },
                        {
                          "count": 7,
                          "xBinStart": 84175.675,
                          "xBinEnd": 90650.65,
                          "yBinStart": 44.34,
                          "yBinEnd": 49.745
                        },
                        {
                          "count": 7,
                          "xBinStart": 84175.675,
                          "xBinEnd": 90650.65,
                          "yBinStart": 49.745,
                          "yBinEnd": 55.15
                        },
                        {
                          "count": 6,
                          "xBinStart": 84175.675,
                          "xBinEnd": 90650.65,
                          "yBinStart": 55.15,
                          "yBinEnd": 60.555
                        },
                        {
                          "count": 17,
                          "xBinStart": 84175.675,
                          "xBinEnd": 90650.65,
                          "yBinStart": 60.555,
                          "yBinEnd": 65.96
                        },
                        {
                          "count": 2,
                          "xBinStart": 84175.675,
                          "xBinEnd": 90650.65,
                          "yBinStart": 65.96,
                          "yBinEnd": 71.365
                        },
                        {
                          "count": 3,
                          "xBinStart": 84175.675,
                          "xBinEnd": 90650.65,
                          "yBinStart": 71.365,
                          "yBinEnd": 76.77
                        },
                        {
                          "count": 1,
                          "xBinStart": 84175.675,
                          "xBinEnd": 90650.65,
                          "yBinStart": 120.01,
                          "yBinEnd": 125.415
                        },
                        {
                          "count": 3,
                          "xBinStart": 84175.675,
                          "xBinEnd": 90650.65,
                          "yBinStart": 130.82,
                          "yBinEnd": 136.225
                        },
                        {
                          "count": 1,
                          "xBinStart": 90650.65,
                          "xBinEnd": 97125.625,
                          "yBinStart": 28.125,
                          "yBinEnd": 33.53
                        },
                        {
                          "count": 1,
                          "xBinStart": 90650.65,
                          "xBinEnd": 97125.625,
                          "yBinStart": 33.53,
                          "yBinEnd": 38.935
                        },
                        {
                          "count": 1,
                          "xBinStart": 90650.65,
                          "xBinEnd": 97125.625,
                          "yBinStart": 38.935,
                          "yBinEnd": 44.34
                        },
                        {
                          "count": 2,
                          "xBinStart": 90650.65,
                          "xBinEnd": 97125.625,
                          "yBinStart": 44.34,
                          "yBinEnd": 49.745
                        },
                        {
                          "count": 4,
                          "xBinStart": 90650.65,
                          "xBinEnd": 97125.625,
                          "yBinStart": 49.745,
                          "yBinEnd": 55.15
                        },
                        {
                          "count": 5,
                          "xBinStart": 90650.65,
                          "xBinEnd": 97125.625,
                          "yBinStart": 55.15,
                          "yBinEnd": 60.555
                        },
                        {
                          "count": 9,
                          "xBinStart": 90650.65,
                          "xBinEnd": 97125.625,
                          "yBinStart": 60.555,
                          "yBinEnd": 65.96
                        },
                        {
                          "count": 9,
                          "xBinStart": 90650.65,
                          "xBinEnd": 97125.625,
                          "yBinStart": 65.96,
                          "yBinEnd": 71.365
                        },
                        {
                          "count": 1,
                          "xBinStart": 90650.65,
                          "xBinEnd": 97125.625,
                          "yBinStart": 71.365,
                          "yBinEnd": 76.77
                        },
                        {
                          "count": 1,
                          "xBinStart": 90650.65,
                          "xBinEnd": 97125.625,
                          "yBinStart": 130.82,
                          "yBinEnd": 136.225
                        },
                        {
                          "count": 1,
                          "xBinStart": 97125.625,
                          "xBinEnd": 103600.6,
                          "yBinStart": 38.935,
                          "yBinEnd": 44.34
                        },
                        {
                          "count": 3,
                          "xBinStart": 97125.625,
                          "xBinEnd": 103600.6,
                          "yBinStart": 44.34,
                          "yBinEnd": 49.745
                        },
                        {
                          "count": 1,
                          "xBinStart": 97125.625,
                          "xBinEnd": 103600.6,
                          "yBinStart": 49.745,
                          "yBinEnd": 55.15
                        },
                        {
                          "count": 3,
                          "xBinStart": 97125.625,
                          "xBinEnd": 103600.6,
                          "yBinStart": 55.15,
                          "yBinEnd": 60.555
                        },
                        {
                          "count": 9,
                          "xBinStart": 97125.625,
                          "xBinEnd": 103600.6,
                          "yBinStart": 60.555,
                          "yBinEnd": 65.96
                        },
                        {
                          "count": 3,
                          "xBinStart": 97125.625,
                          "xBinEnd": 103600.6,
                          "yBinStart": 65.96,
                          "yBinEnd": 71.365
                        },
                        {
                          "count": 1,
                          "xBinStart": 97125.625,
                          "xBinEnd": 103600.6,
                          "yBinStart": 130.82,
                          "yBinEnd": 136.225
                        },
                        {
                          "count": 1,
                          "xBinStart": 103600.6,
                          "xBinEnd": 110075.575,
                          "yBinStart": 28.125,
                          "yBinEnd": 33.53
                        },
                        {
                          "count": 1,
                          "xBinStart": 103600.6,
                          "xBinEnd": 110075.575,
                          "yBinStart": 33.53,
                          "yBinEnd": 38.935
                        },
                        {
                          "count": 2,
                          "xBinStart": 103600.6,
                          "xBinEnd": 110075.575,
                          "yBinStart": 38.935,
                          "yBinEnd": 44.34
                        },
                        {
                          "count": 1,
                          "xBinStart": 103600.6,
                          "xBinEnd": 110075.575,
                          "yBinStart": 44.34,
                          "yBinEnd": 49.745
                        },
                        {
                          "count": 1,
                          "xBinStart": 103600.6,
                          "xBinEnd": 110075.575,
                          "yBinStart": 55.15,
                          "yBinEnd": 60.555
                        },
                        {
                          "count": 3,
                          "xBinStart": 103600.6,
                          "xBinEnd": 110075.575,
                          "yBinStart": 60.555,
                          "yBinEnd": 65.96
                        },
                        {
                          "count": 3,
                          "xBinStart": 103600.6,
                          "xBinEnd": 110075.575,
                          "yBinStart": 65.96,
                          "yBinEnd": 71.365
                        },
                        {
                          "count": 3,
                          "xBinStart": 103600.6,
                          "xBinEnd": 110075.575,
                          "yBinStart": 71.365,
                          "yBinEnd": 76.77
                        },
                        {
                          "count": 3,
                          "xBinStart": 110075.575,
                          "xBinEnd": 116550.55,
                          "yBinStart": 49.745,
                          "yBinEnd": 55.15
                        },
                        {
                          "count": 3,
                          "xBinStart": 110075.575,
                          "xBinEnd": 116550.55,
                          "yBinStart": 60.555,
                          "yBinEnd": 65.96
                        },
                        {
                          "count": 5,
                          "xBinStart": 110075.575,
                          "xBinEnd": 116550.55,
                          "yBinStart": 65.96,
                          "yBinEnd": 71.365
                        },
                        {
                          "count": 1,
                          "xBinStart": 110075.575,
                          "xBinEnd": 116550.55,
                          "yBinStart": 76.77,
                          "yBinEnd": 82.175
                        },
                        {
                          "count": 2,
                          "xBinStart": 116550.55,
                          "xBinEnd": 123025.525,
                          "yBinStart": 38.935,
                          "yBinEnd": 44.34
                        },
                        {
                          "count": 1,
                          "xBinStart": 116550.55,
                          "xBinEnd": 123025.525,
                          "yBinStart": 44.34,
                          "yBinEnd": 49.745
                        },
                        {
                          "count": 3,
                          "xBinStart": 116550.55,
                          "xBinEnd": 123025.525,
                          "yBinStart": 60.555,
                          "yBinEnd": 65.96
                        },
                        {
                          "count": 1,
                          "xBinStart": 123025.525,
                          "xBinEnd": 129500.5,
                          "yBinStart": 28.125,
                          "yBinEnd": 33.53
                        },
                        {
                          "count": 2,
                          "xBinStart": 123025.525,
                          "xBinEnd": 129500.5,
                          "yBinStart": 49.745,
                          "yBinEnd": 55.15
                        },
                        {
                          "count": 1,
                          "xBinStart": 123025.525,
                          "xBinEnd": 129500.5,
                          "yBinStart": 55.15,
                          "yBinEnd": 60.555
                        },
                        {
                          "count": 3,
                          "xBinStart": 123025.525,
                          "xBinEnd": 129500.5,
                          "yBinStart": 60.555,
                          "yBinEnd": 65.96
                        },
                        {
                          "count": 4,
                          "xBinStart": 123025.525,
                          "xBinEnd": 129500.5,
                          "yBinStart": 65.96,
                          "yBinEnd": 71.365
                        },
                        {
                          "count": 1,
                          "xBinStart": 129500.5,
                          "xBinEnd": 135975.475,
                          "yBinStart": 28.125,
                          "yBinEnd": 33.53
                        },
                        {
                          "count": 1,
                          "xBinStart": 129500.5,
                          "xBinEnd": 135975.475,
                          "yBinStart": 55.15,
                          "yBinEnd": 60.555
                        },
                        {
                          "count": 1,
                          "xBinStart": 129500.5,
                          "xBinEnd": 135975.475,
                          "yBinStart": 71.365,
                          "yBinEnd": 76.77
                        },
                        {
                          "count": 1,
                          "xBinStart": 135975.475,
                          "xBinEnd": 142450.45,
                          "yBinStart": 49.745,
                          "yBinEnd": 55.15
                        },
                        {
                          "count": 2,
                          "xBinStart": 135975.475,
                          "xBinEnd": 142450.45,
                          "yBinStart": 60.555,
                          "yBinEnd": 65.96
                        },
                        {
                          "count": 1,
                          "xBinStart": 135975.475,
                          "xBinEnd": 142450.45,
                          "yBinStart": 65.96,
                          "yBinEnd": 71.365
                        },
                        {
                          "count": 1,
                          "xBinStart": 135975.475,
                          "xBinEnd": 142450.45,
                          "yBinStart": 71.365,
                          "yBinEnd": 76.77
                        },
                        {
                          "count": 1,
                          "xBinStart": 142450.45,
                          "xBinEnd": 148925.425,
                          "yBinStart": 38.935,
                          "yBinEnd": 44.34
                        },
                        {
                          "count": 2,
                          "xBinStart": 148925.425,
                          "xBinEnd": 155400.4,
                          "yBinStart": 55.15,
                          "yBinEnd": 60.555
                        },
                        {
                          "count": 1,
                          "xBinStart": 148925.425,
                          "xBinEnd": 155400.4,
                          "yBinStart": 65.96,
                          "yBinEnd": 71.365
                        },
                        {
                          "count": 1,
                          "xBinStart": 155400.4,
                          "xBinEnd": 161875.375,
                          "yBinStart": 28.125,
                          "yBinEnd": 33.53
                        },
                        {
                          "count": 1,
                          "xBinStart": 161875.375,
                          "xBinEnd": 168350.35,
                          "yBinStart": 60.555,
                          "yBinEnd": 65.96
                        },
                        {
                          "count": 1,
                          "xBinStart": 168350.35,
                          "xBinEnd": 174825.325,
                          "yBinStart": 49.745,
                          "yBinEnd": 55.15
                        },
                        {
                          "count": 1,
                          "xBinStart": 239575.075,
                          "xBinEnd": 246050.05,
                          "yBinStart": 65.96,
                          "yBinEnd": 71.365
                        },
                        {
                          "count": 1,
                          "xBinStart": 252525.025,
                          "xBinEnd": 259000,
                          "yBinStart": 28.125,
                          "yBinEnd": 33.53
                        }
                      ]
                    },
                    "vislib": "vegalite"
                  },
                  {
                    "config": {
                      "view": {
                        "continuousWidth": 300,
                        "continuousHeight": 300
                      },
                      "axis": {
                        "labelColor": "#505050",
                        "labelFont": "Helvetica Neue",
                        "labelFontSize": 9,
                        "labelFontWeight": 400,
                        "titleFont": "Helvetica Neue",
                        "titleFontSize": 11,
                        "titleFontWeight": 500
                      },
                      "legend": {
                        "labelFont": "Helvetica Neue",
                        "labelFontSize": 9,
                        "labelFontWeight": 400,
                        "titleFont": "Helvetica Neue",
                        "titleFontSize": 10,
                        "titleFontWeight": 500
                      },
                      "mark": {
                        "tooltip": {
                          "content": "encoding"
                        }
                      },
                      "scale": {
                        "maxOpacity": 1,
                        "minOpacity": 0.1
                      },
                      "title": {
                        "font": "Helvetica Neue",
                        "fontSize": 13,
                        "fontWeight": 500
                      }
                    },
                    "data": {
                      "name": "data-df14c249645d618b887743b29bbbe478"
                    },
                    "mark": {
                      "type": "rect"
                    },
                    "encoding": {
                      "opacity": {
                        "field": "count",
                        "legend": null,
                        "scale": {
                          "type": "log"
                        },
                        "type": "quantitative"
                      },
                      "x": {
                        "axis": {
                          "title": "tax"
                        },
                        "bin": {
                          "binned": true
                        },
                        "field": "xBinStart",
                        "type": "quantitative"
                      },
                      "x2": {
                        "field": "xBinEnd"
                      },
                      "y": {
                        "axis": {
                          "title": "mileage"
                        },
                        "bin": {
                          "binned": true
                        },
                        "field": "yBinStart",
                        "type": "quantitative"
                      },
                      "y2": {
                        "field": "yBinEnd"
                      }
                    },
                    "height": 150,
                    "params": [
                      {
                        "name": "param_3",
                        "select": {
                          "type": "interval",
                          "encodings": [
                            "x",
                            "y"
                          ]
                        },
                        "bind": "scales"
                      }
                    ],
                    "width": 160,
                    "$schema": "https://vega.github.io/schema/vega-lite/v5.20.1.json",
                    "datasets": {
                      "data-df14c249645d618b887743b29bbbe478": [
                        {
                          "count": 2,
                          "xBinStart": -0.58,
                          "xBinEnd": 14.5,
                          "yBinStart": 6475.975,
                          "yBinEnd": 12950.95
                        },
                        {
                          "count": 7,
                          "xBinStart": -0.58,
                          "xBinEnd": 14.5,
                          "yBinStart": 12950.95,
                          "yBinEnd": 19425.925
                        },
                        {
                          "count": 18,
                          "xBinStart": -0.58,
                          "xBinEnd": 14.5,
                          "yBinStart": 19425.925,
                          "yBinEnd": 25900.9
                        },
                        {
                          "count": 20,
                          "xBinStart": -0.58,
                          "xBinEnd": 14.5,
                          "yBinStart": 25900.9,
                          "yBinEnd": 32375.875
                        },
                        {
                          "count": 23,
                          "xBinStart": -0.58,
                          "xBinEnd": 14.5,
                          "yBinStart": 32375.875,
                          "yBinEnd": 38850.85
                        },
                        {
                          "count": 28,
                          "xBinStart": -0.58,
                          "xBinEnd": 14.5,
                          "yBinStart": 38850.85,
                          "yBinEnd": 45325.825
                        },
                        {
                          "count": 15,
                          "xBinStart": -0.58,
                          "xBinEnd": 14.5,
                          "yBinStart": 45325.825,
                          "yBinEnd": 51800.8
                        },
                        {
                          "count": 10,
                          "xBinStart": -0.58,
                          "xBinEnd": 14.5,
                          "yBinStart": 51800.8,
                          "yBinEnd": 58275.775
                        },
                        {
                          "count": 11,
                          "xBinStart": -0.58,
                          "xBinEnd": 14.5,
                          "yBinStart": 58275.775,
                          "yBinEnd": 64750.75
                        },
                        {
                          "count": 10,
                          "xBinStart": -0.58,
                          "xBinEnd": 14.5,
                          "yBinStart": 64750.75,
                          "yBinEnd": 71225.725
                        },
                        {
                          "count": 7,
                          "xBinStart": -0.58,
                          "xBinEnd": 14.5,
                          "yBinStart": 71225.725,
                          "yBinEnd": 77700.7
                        },
                        {
                          "count": 6,
                          "xBinStart": -0.58,
                          "xBinEnd": 14.5,
                          "yBinStart": 77700.7,
                          "yBinEnd": 84175.675
                        },
                        {
                          "count": 6,
                          "xBinStart": -0.58,
                          "xBinEnd": 14.5,
                          "yBinStart": 84175.675,
                          "yBinEnd": 90650.65
                        },
                        {
                          "count": 1,
                          "xBinStart": -0.58,
                          "xBinEnd": 14.5,
                          "yBinStart": 90650.65,
                          "yBinEnd": 97125.625
                        },
                        {
                          "count": 1,
                          "xBinStart": -0.58,
                          "xBinEnd": 14.5,
                          "yBinStart": 97125.625,
                          "yBinEnd": 103600.6
                        },
                        {
                          "count": 1,
                          "xBinStart": -0.58,
                          "xBinEnd": 14.5,
                          "yBinStart": 103600.6,
                          "yBinEnd": 110075.575
                        },
                        {
                          "count": 1,
                          "xBinStart": -0.58,
                          "xBinEnd": 14.5,
                          "yBinStart": 110075.575,
                          "yBinEnd": 116550.55
                        },
                        {
                          "count": 1,
                          "xBinStart": -0.58,
                          "xBinEnd": 14.5,
                          "yBinStart": 129500.5,
                          "yBinEnd": 135975.475
                        },
                        {
                          "count": 1,
                          "xBinStart": -0.58,
                          "xBinEnd": 14.5,
                          "yBinStart": 135975.475,
                          "yBinEnd": 142450.45
                        },
                        {
                          "count": 6,
                          "xBinStart": 14.5,
                          "xBinEnd": 29,
                          "yBinStart": -257.999,
                          "yBinEnd": 6475.975
                        },
                        {
                          "count": 45,
                          "xBinStart": 14.5,
                          "xBinEnd": 29,
                          "yBinStart": 6475.975,
                          "yBinEnd": 12950.95
                        },
                        {
                          "count": 102,
                          "xBinStart": 14.5,
                          "xBinEnd": 29,
                          "yBinStart": 12950.95,
                          "yBinEnd": 19425.925
                        },
                        {
                          "count": 188,
                          "xBinStart": 14.5,
                          "xBinEnd": 29,
                          "yBinStart": 19425.925,
                          "yBinEnd": 25900.9
                        },
                        {
                          "count": 197,
                          "xBinStart": 14.5,
                          "xBinEnd": 29,
                          "yBinStart": 25900.9,
                          "yBinEnd": 32375.875
                        },
                        {
                          "count": 178,
                          "xBinStart": 14.5,
                          "xBinEnd": 29,
                          "yBinStart": 32375.875,
                          "yBinEnd": 38850.85
                        },
                        {
                          "count": 170,
                          "xBinStart": 14.5,
                          "xBinEnd": 29,
                          "yBinStart": 38850.85,
                          "yBinEnd": 45325.825
                        },
                        {
                          "count": 111,
                          "xBinStart": 14.5,
                          "xBinEnd": 29,
                          "yBinStart": 45325.825,
                          "yBinEnd": 51800.8
                        },
                        {
                          "count": 86,
                          "xBinStart": 14.5,
                          "xBinEnd": 29,
                          "yBinStart": 51800.8,
                          "yBinEnd": 58275.775
                        },
                        {
                          "count": 45,
                          "xBinStart": 14.5,
                          "xBinEnd": 29,
                          "yBinStart": 58275.775,
                          "yBinEnd": 64750.75
                        },
                        {
                          "count": 34,
                          "xBinStart": 14.5,
                          "xBinEnd": 29,
                          "yBinStart": 64750.75,
                          "yBinEnd": 71225.725
                        },
                        {
                          "count": 16,
                          "xBinStart": 14.5,
                          "xBinEnd": 29,
                          "yBinStart": 71225.725,
                          "yBinEnd": 77700.7
                        },
                        {
                          "count": 26,
                          "xBinStart": 14.5,
                          "xBinEnd": 29,
                          "yBinStart": 77700.7,
                          "yBinEnd": 84175.675
                        },
                        {
                          "count": 8,
                          "xBinStart": 14.5,
                          "xBinEnd": 29,
                          "yBinStart": 84175.675,
                          "yBinEnd": 90650.65
                        },
                        {
                          "count": 11,
                          "xBinStart": 14.5,
                          "xBinEnd": 29,
                          "yBinStart": 90650.65,
                          "yBinEnd": 97125.625
                        },
                        {
                          "count": 6,
                          "xBinStart": 14.5,
                          "xBinEnd": 29,
                          "yBinStart": 97125.625,
                          "yBinEnd": 103600.6
                        },
                        {
                          "count": 5,
                          "xBinStart": 14.5,
                          "xBinEnd": 29,
                          "yBinStart": 103600.6,
                          "yBinEnd": 110075.575
                        },
                        {
                          "count": 6,
                          "xBinStart": 14.5,
                          "xBinEnd": 29,
                          "yBinStart": 110075.575,
                          "yBinEnd": 116550.55
                        },
                        {
                          "count": 2,
                          "xBinStart": 14.5,
                          "xBinEnd": 29,
                          "yBinStart": 116550.55,
                          "yBinEnd": 123025.525
                        },
                        {
                          "count": 6,
                          "xBinStart": 14.5,
                          "xBinEnd": 29,
                          "yBinStart": 123025.525,
                          "yBinEnd": 129500.5
                        },
                        {
                          "count": 1,
                          "xBinStart": 14.5,
                          "xBinEnd": 29,
                          "yBinStart": 135975.475,
                          "yBinEnd": 142450.45
                        },
                        {
                          "count": 1,
                          "xBinStart": 14.5,
                          "xBinEnd": 29,
                          "yBinStart": 148925.425,
                          "yBinEnd": 155400.4
                        },
                        {
                          "count": 1,
                          "xBinStart": 14.5,
                          "xBinEnd": 29,
                          "yBinStart": 239575.075,
                          "yBinEnd": 246050.05
                        },
                        {
                          "count": 4,
                          "xBinStart": 29,
                          "xBinEnd": 43.5,
                          "yBinStart": -257.999,
                          "yBinEnd": 6475.975
                        },
                        {
                          "count": 34,
                          "xBinStart": 29,
                          "xBinEnd": 43.5,
                          "yBinStart": 6475.975,
                          "yBinEnd": 12950.95
                        },
                        {
                          "count": 76,
                          "xBinStart": 29,
                          "xBinEnd": 43.5,
                          "yBinStart": 12950.95,
                          "yBinEnd": 19425.925
                        },
                        {
                          "count": 149,
                          "xBinStart": 29,
                          "xBinEnd": 43.5,
                          "yBinStart": 19425.925,
                          "yBinEnd": 25900.9
                        },
                        {
                          "count": 174,
                          "xBinStart": 29,
                          "xBinEnd": 43.5,
                          "yBinStart": 25900.9,
                          "yBinEnd": 32375.875
                        },
                        {
                          "count": 156,
                          "xBinStart": 29,
                          "xBinEnd": 43.5,
                          "yBinStart": 32375.875,
                          "yBinEnd": 38850.85
                        },
                        {
                          "count": 125,
                          "xBinStart": 29,
                          "xBinEnd": 43.5,
                          "yBinStart": 38850.85,
                          "yBinEnd": 45325.825
                        },
                        {
                          "count": 68,
                          "xBinStart": 29,
                          "xBinEnd": 43.5,
                          "yBinStart": 45325.825,
                          "yBinEnd": 51800.8
                        },
                        {
                          "count": 59,
                          "xBinStart": 29,
                          "xBinEnd": 43.5,
                          "yBinStart": 51800.8,
                          "yBinEnd": 58275.775
                        },
                        {
                          "count": 46,
                          "xBinStart": 29,
                          "xBinEnd": 43.5,
                          "yBinStart": 58275.775,
                          "yBinEnd": 64750.75
                        },
                        {
                          "count": 29,
                          "xBinStart": 29,
                          "xBinEnd": 43.5,
                          "yBinStart": 64750.75,
                          "yBinEnd": 71225.725
                        },
                        {
                          "count": 18,
                          "xBinStart": 29,
                          "xBinEnd": 43.5,
                          "yBinStart": 71225.725,
                          "yBinEnd": 77700.7
                        },
                        {
                          "count": 20,
                          "xBinStart": 29,
                          "xBinEnd": 43.5,
                          "yBinStart": 77700.7,
                          "yBinEnd": 84175.675
                        },
                        {
                          "count": 9,
                          "xBinStart": 29,
                          "xBinEnd": 43.5,
                          "yBinStart": 84175.675,
                          "yBinEnd": 90650.65
                        },
                        {
                          "count": 8,
                          "xBinStart": 29,
                          "xBinEnd": 43.5,
                          "yBinStart": 90650.65,
                          "yBinEnd": 97125.625
                        },
                        {
                          "count": 5,
                          "xBinStart": 29,
                          "xBinEnd": 43.5,
                          "yBinStart": 97125.625,
                          "yBinEnd": 103600.6
                        },
                        {
                          "count": 3,
                          "xBinStart": 29,
                          "xBinEnd": 43.5,
                          "yBinStart": 103600.6,
                          "yBinEnd": 110075.575
                        },
                        {
                          "count": 1,
                          "xBinStart": 29,
                          "xBinEnd": 43.5,
                          "yBinStart": 110075.575,
                          "yBinEnd": 116550.55
                        },
                        {
                          "count": 2,
                          "xBinStart": 29,
                          "xBinEnd": 43.5,
                          "yBinStart": 135975.475,
                          "yBinEnd": 142450.45
                        },
                        {
                          "count": 2,
                          "xBinStart": 29,
                          "xBinEnd": 43.5,
                          "yBinStart": 148925.425,
                          "yBinEnd": 155400.4
                        },
                        {
                          "count": 1,
                          "xBinStart": 29,
                          "xBinEnd": 43.5,
                          "yBinStart": 161875.375,
                          "yBinEnd": 168350.35
                        },
                        {
                          "count": 1,
                          "xBinStart": 101.5,
                          "xBinEnd": 116,
                          "yBinStart": 19425.925,
                          "yBinEnd": 25900.9
                        },
                        {
                          "count": 1,
                          "xBinStart": 101.5,
                          "xBinEnd": 116,
                          "yBinStart": 38850.85,
                          "yBinEnd": 45325.825
                        },
                        {
                          "count": 5,
                          "xBinStart": 116,
                          "xBinEnd": 130.5,
                          "yBinStart": -257.999,
                          "yBinEnd": 6475.975
                        },
                        {
                          "count": 29,
                          "xBinStart": 116,
                          "xBinEnd": 130.5,
                          "yBinStart": 6475.975,
                          "yBinEnd": 12950.95
                        },
                        {
                          "count": 106,
                          "xBinStart": 116,
                          "xBinEnd": 130.5,
                          "yBinStart": 12950.95,
                          "yBinEnd": 19425.925
                        },
                        {
                          "count": 158,
                          "xBinStart": 116,
                          "xBinEnd": 130.5,
                          "yBinStart": 19425.925,
                          "yBinEnd": 25900.9
                        },
                        {
                          "count": 174,
                          "xBinStart": 116,
                          "xBinEnd": 130.5,
                          "yBinStart": 25900.9,
                          "yBinEnd": 32375.875
                        },
                        {
                          "count": 154,
                          "xBinStart": 116,
                          "xBinEnd": 130.5,
                          "yBinStart": 32375.875,
                          "yBinEnd": 38850.85
                        },
                        {
                          "count": 111,
                          "xBinStart": 116,
                          "xBinEnd": 130.5,
                          "yBinStart": 38850.85,
                          "yBinEnd": 45325.825
                        },
                        {
                          "count": 98,
                          "xBinStart": 116,
                          "xBinEnd": 130.5,
                          "yBinStart": 45325.825,
                          "yBinEnd": 51800.8
                        },
                        {
                          "count": 68,
                          "xBinStart": 116,
                          "xBinEnd": 130.5,
                          "yBinStart": 51800.8,
                          "yBinEnd": 58275.775
                        },
                        {
                          "count": 31,
                          "xBinStart": 116,
                          "xBinEnd": 130.5,
                          "yBinStart": 58275.775,
                          "yBinEnd": 64750.75
                        },
                        {
                          "count": 35,
                          "xBinStart": 116,
                          "xBinEnd": 130.5,
                          "yBinStart": 64750.75,
                          "yBinEnd": 71225.725
                        },
                        {
                          "count": 13,
                          "xBinStart": 116,
                          "xBinEnd": 130.5,
                          "yBinStart": 71225.725,
                          "yBinEnd": 77700.7
                        },
                        {
                          "count": 12,
                          "xBinStart": 116,
                          "xBinEnd": 130.5,
                          "yBinStart": 77700.7,
                          "yBinEnd": 84175.675
                        },
                        {
                          "count": 6,
                          "xBinStart": 116,
                          "xBinEnd": 130.5,
                          "yBinStart": 84175.675,
                          "yBinEnd": 90650.65
                        },
                        {
                          "count": 3,
                          "xBinStart": 116,
                          "xBinEnd": 130.5,
                          "yBinStart": 90650.65,
                          "yBinEnd": 97125.625
                        },
                        {
                          "count": 3,
                          "xBinStart": 116,
                          "xBinEnd": 130.5,
                          "yBinStart": 97125.625,
                          "yBinEnd": 103600.6
                        },
                        {
                          "count": 1,
                          "xBinStart": 116,
                          "xBinEnd": 130.5,
                          "yBinStart": 103600.6,
                          "yBinEnd": 110075.575
                        },
                        {
                          "count": 1,
                          "xBinStart": 116,
                          "xBinEnd": 130.5,
                          "yBinStart": 110075.575,
                          "yBinEnd": 116550.55
                        },
                        {
                          "count": 1,
                          "xBinStart": 116,
                          "xBinEnd": 130.5,
                          "yBinStart": 116550.55,
                          "yBinEnd": 123025.525
                        },
                        {
                          "count": 2,
                          "xBinStart": 116,
                          "xBinEnd": 130.5,
                          "yBinStart": 123025.525,
                          "yBinEnd": 129500.5
                        },
                        {
                          "count": 1,
                          "xBinStart": 116,
                          "xBinEnd": 130.5,
                          "yBinStart": 129500.5,
                          "yBinEnd": 135975.475
                        },
                        {
                          "count": 3184,
                          "xBinStart": 130.5,
                          "xBinEnd": 145,
                          "yBinStart": -257.999,
                          "yBinEnd": 6475.975
                        },
                        {
                          "count": 1842,
                          "xBinStart": 130.5,
                          "xBinEnd": 145,
                          "yBinStart": 6475.975,
                          "yBinEnd": 12950.95
                        },
                        {
                          "count": 1288,
                          "xBinStart": 130.5,
                          "xBinEnd": 145,
                          "yBinStart": 12950.95,
                          "yBinEnd": 19425.925
                        },
                        {
                          "count": 549,
                          "xBinStart": 130.5,
                          "xBinEnd": 145,
                          "yBinStart": 19425.925,
                          "yBinEnd": 25900.9
                        },
                        {
                          "count": 323,
                          "xBinStart": 130.5,
                          "xBinEnd": 145,
                          "yBinStart": 25900.9,
                          "yBinEnd": 32375.875
                        },
                        {
                          "count": 181,
                          "xBinStart": 130.5,
                          "xBinEnd": 145,
                          "yBinStart": 32375.875,
                          "yBinEnd": 38850.85
                        },
                        {
                          "count": 122,
                          "xBinStart": 130.5,
                          "xBinEnd": 145,
                          "yBinStart": 38850.85,
                          "yBinEnd": 45325.825
                        },
                        {
                          "count": 74,
                          "xBinStart": 130.5,
                          "xBinEnd": 145,
                          "yBinStart": 45325.825,
                          "yBinEnd": 51800.8
                        },
                        {
                          "count": 43,
                          "xBinStart": 130.5,
                          "xBinEnd": 145,
                          "yBinStart": 51800.8,
                          "yBinEnd": 58275.775
                        },
                        {
                          "count": 32,
                          "xBinStart": 130.5,
                          "xBinEnd": 145,
                          "yBinStart": 58275.775,
                          "yBinEnd": 64750.75
                        },
                        {
                          "count": 22,
                          "xBinStart": 130.5,
                          "xBinEnd": 145,
                          "yBinStart": 64750.75,
                          "yBinEnd": 71225.725
                        },
                        {
                          "count": 15,
                          "xBinStart": 130.5,
                          "xBinEnd": 145,
                          "yBinStart": 71225.725,
                          "yBinEnd": 77700.7
                        },
                        {
                          "count": 10,
                          "xBinStart": 130.5,
                          "xBinEnd": 145,
                          "yBinStart": 77700.7,
                          "yBinEnd": 84175.675
                        },
                        {
                          "count": 8,
                          "xBinStart": 130.5,
                          "xBinEnd": 145,
                          "yBinStart": 84175.675,
                          "yBinEnd": 90650.65
                        },
                        {
                          "count": 5,
                          "xBinStart": 130.5,
                          "xBinEnd": 145,
                          "yBinStart": 90650.65,
                          "yBinEnd": 97125.625
                        },
                        {
                          "count": 1,
                          "xBinStart": 130.5,
                          "xBinEnd": 145,
                          "yBinStart": 97125.625,
                          "yBinEnd": 103600.6
                        },
                        {
                          "count": 2,
                          "xBinStart": 130.5,
                          "xBinEnd": 145,
                          "yBinStart": 110075.575,
                          "yBinEnd": 116550.55
                        },
                        {
                          "count": 1,
                          "xBinStart": 130.5,
                          "xBinEnd": 145,
                          "yBinStart": 116550.55,
                          "yBinEnd": 123025.525
                        },
                        {
                          "count": 1,
                          "xBinStart": 130.5,
                          "xBinEnd": 145,
                          "yBinStart": 123025.525,
                          "yBinEnd": 129500.5
                        },
                        {
                          "count": 1,
                          "xBinStart": 130.5,
                          "xBinEnd": 145,
                          "yBinStart": 168350.35,
                          "yBinEnd": 174825.325
                        },
                        {
                          "count": 152,
                          "xBinStart": 145,
                          "xBinEnd": 159.5,
                          "yBinStart": -257.999,
                          "yBinEnd": 6475.975
                        },
                        {
                          "count": 184,
                          "xBinStart": 145,
                          "xBinEnd": 159.5,
                          "yBinStart": 6475.975,
                          "yBinEnd": 12950.95
                        },
                        {
                          "count": 152,
                          "xBinStart": 145,
                          "xBinEnd": 159.5,
                          "yBinStart": 12950.95,
                          "yBinEnd": 19425.925
                        },
                        {
                          "count": 141,
                          "xBinStart": 145,
                          "xBinEnd": 159.5,
                          "yBinStart": 19425.925,
                          "yBinEnd": 25900.9
                        },
                        {
                          "count": 90,
                          "xBinStart": 145,
                          "xBinEnd": 159.5,
                          "yBinStart": 25900.9,
                          "yBinEnd": 32375.875
                        },
                        {
                          "count": 52,
                          "xBinStart": 145,
                          "xBinEnd": 159.5,
                          "yBinStart": 32375.875,
                          "yBinEnd": 38850.85
                        },
                        {
                          "count": 35,
                          "xBinStart": 145,
                          "xBinEnd": 159.5,
                          "yBinStart": 38850.85,
                          "yBinEnd": 45325.825
                        },
                        {
                          "count": 16,
                          "xBinStart": 145,
                          "xBinEnd": 159.5,
                          "yBinStart": 45325.825,
                          "yBinEnd": 51800.8
                        },
                        {
                          "count": 8,
                          "xBinStart": 145,
                          "xBinEnd": 159.5,
                          "yBinStart": 51800.8,
                          "yBinEnd": 58275.775
                        },
                        {
                          "count": 11,
                          "xBinStart": 145,
                          "xBinEnd": 159.5,
                          "yBinStart": 58275.775,
                          "yBinEnd": 64750.75
                        },
                        {
                          "count": 5,
                          "xBinStart": 145,
                          "xBinEnd": 159.5,
                          "yBinStart": 64750.75,
                          "yBinEnd": 71225.725
                        },
                        {
                          "count": 3,
                          "xBinStart": 145,
                          "xBinEnd": 159.5,
                          "yBinStart": 71225.725,
                          "yBinEnd": 77700.7
                        },
                        {
                          "count": 1,
                          "xBinStart": 145,
                          "xBinEnd": 159.5,
                          "yBinStart": 77700.7,
                          "yBinEnd": 84175.675
                        },
                        {
                          "count": 1,
                          "xBinStart": 145,
                          "xBinEnd": 159.5,
                          "yBinStart": 84175.675,
                          "yBinEnd": 90650.65
                        },
                        {
                          "count": 1,
                          "xBinStart": 145,
                          "xBinEnd": 159.5,
                          "yBinStart": 90650.65,
                          "yBinEnd": 97125.625
                        },
                        {
                          "count": 1,
                          "xBinStart": 145,
                          "xBinEnd": 159.5,
                          "yBinStart": 123025.525,
                          "yBinEnd": 129500.5
                        },
                        {
                          "count": 1,
                          "xBinStart": 145,
                          "xBinEnd": 159.5,
                          "yBinStart": 135975.475,
                          "yBinEnd": 142450.45
                        },
                        {
                          "count": 13,
                          "xBinStart": 159.5,
                          "xBinEnd": 174,
                          "yBinStart": 6475.975,
                          "yBinEnd": 12950.95
                        },
                        {
                          "count": 31,
                          "xBinStart": 159.5,
                          "xBinEnd": 174,
                          "yBinStart": 12950.95,
                          "yBinEnd": 19425.925
                        },
                        {
                          "count": 44,
                          "xBinStart": 159.5,
                          "xBinEnd": 174,
                          "yBinStart": 19425.925,
                          "yBinEnd": 25900.9
                        },
                        {
                          "count": 56,
                          "xBinStart": 159.5,
                          "xBinEnd": 174,
                          "yBinStart": 25900.9,
                          "yBinEnd": 32375.875
                        },
                        {
                          "count": 29,
                          "xBinStart": 159.5,
                          "xBinEnd": 174,
                          "yBinStart": 32375.875,
                          "yBinEnd": 38850.85
                        },
                        {
                          "count": 31,
                          "xBinStart": 159.5,
                          "xBinEnd": 174,
                          "yBinStart": 38850.85,
                          "yBinEnd": 45325.825
                        },
                        {
                          "count": 16,
                          "xBinStart": 159.5,
                          "xBinEnd": 174,
                          "yBinStart": 45325.825,
                          "yBinEnd": 51800.8
                        },
                        {
                          "count": 10,
                          "xBinStart": 159.5,
                          "xBinEnd": 174,
                          "yBinStart": 51800.8,
                          "yBinEnd": 58275.775
                        },
                        {
                          "count": 6,
                          "xBinStart": 159.5,
                          "xBinEnd": 174,
                          "yBinStart": 58275.775,
                          "yBinEnd": 64750.75
                        },
                        {
                          "count": 2,
                          "xBinStart": 159.5,
                          "xBinEnd": 174,
                          "yBinStart": 64750.75,
                          "yBinEnd": 71225.725
                        },
                        {
                          "count": 6,
                          "xBinStart": 159.5,
                          "xBinEnd": 174,
                          "yBinStart": 71225.725,
                          "yBinEnd": 77700.7
                        },
                        {
                          "count": 2,
                          "xBinStart": 159.5,
                          "xBinEnd": 174,
                          "yBinStart": 77700.7,
                          "yBinEnd": 84175.675
                        },
                        {
                          "count": 3,
                          "xBinStart": 159.5,
                          "xBinEnd": 174,
                          "yBinStart": 84175.675,
                          "yBinEnd": 90650.65
                        },
                        {
                          "count": 1,
                          "xBinStart": 159.5,
                          "xBinEnd": 174,
                          "yBinStart": 97125.625,
                          "yBinEnd": 103600.6
                        },
                        {
                          "count": 1,
                          "xBinStart": 159.5,
                          "xBinEnd": 174,
                          "yBinStart": 110075.575,
                          "yBinEnd": 116550.55
                        },
                        {
                          "count": 1,
                          "xBinStart": 174,
                          "xBinEnd": 188.5,
                          "yBinStart": 58275.775,
                          "yBinEnd": 64750.75
                        },
                        {
                          "count": 3,
                          "xBinStart": 188.5,
                          "xBinEnd": 203,
                          "yBinStart": -257.999,
                          "yBinEnd": 6475.975
                        },
                        {
                          "count": 12,
                          "xBinStart": 188.5,
                          "xBinEnd": 203,
                          "yBinStart": 6475.975,
                          "yBinEnd": 12950.95
                        },
                        {
                          "count": 29,
                          "xBinStart": 188.5,
                          "xBinEnd": 203,
                          "yBinStart": 12950.95,
                          "yBinEnd": 19425.925
                        },
                        {
                          "count": 32,
                          "xBinStart": 188.5,
                          "xBinEnd": 203,
                          "yBinStart": 19425.925,
                          "yBinEnd": 25900.9
                        },
                        {
                          "count": 40,
                          "xBinStart": 188.5,
                          "xBinEnd": 203,
                          "yBinStart": 25900.9,
                          "yBinEnd": 32375.875
                        },
                        {
                          "count": 36,
                          "xBinStart": 188.5,
                          "xBinEnd": 203,
                          "yBinStart": 32375.875,
                          "yBinEnd": 38850.85
                        },
                        {
                          "count": 28,
                          "xBinStart": 188.5,
                          "xBinEnd": 203,
                          "yBinStart": 38850.85,
                          "yBinEnd": 45325.825
                        },
                        {
                          "count": 25,
                          "xBinStart": 188.5,
                          "xBinEnd": 203,
                          "yBinStart": 45325.825,
                          "yBinEnd": 51800.8
                        },
                        {
                          "count": 21,
                          "xBinStart": 188.5,
                          "xBinEnd": 203,
                          "yBinStart": 51800.8,
                          "yBinEnd": 58275.775
                        },
                        {
                          "count": 16,
                          "xBinStart": 188.5,
                          "xBinEnd": 203,
                          "yBinStart": 58275.775,
                          "yBinEnd": 64750.75
                        },
                        {
                          "count": 9,
                          "xBinStart": 188.5,
                          "xBinEnd": 203,
                          "yBinStart": 64750.75,
                          "yBinEnd": 71225.725
                        },
                        {
                          "count": 9,
                          "xBinStart": 188.5,
                          "xBinEnd": 203,
                          "yBinStart": 71225.725,
                          "yBinEnd": 77700.7
                        },
                        {
                          "count": 5,
                          "xBinStart": 188.5,
                          "xBinEnd": 203,
                          "yBinStart": 77700.7,
                          "yBinEnd": 84175.675
                        },
                        {
                          "count": 3,
                          "xBinStart": 188.5,
                          "xBinEnd": 203,
                          "yBinStart": 84175.675,
                          "yBinEnd": 90650.65
                        },
                        {
                          "count": 2,
                          "xBinStart": 188.5,
                          "xBinEnd": 203,
                          "yBinStart": 90650.65,
                          "yBinEnd": 97125.625
                        },
                        {
                          "count": 4,
                          "xBinStart": 188.5,
                          "xBinEnd": 203,
                          "yBinStart": 97125.625,
                          "yBinEnd": 103600.6
                        },
                        {
                          "count": 1,
                          "xBinStart": 188.5,
                          "xBinEnd": 203,
                          "yBinStart": 116550.55,
                          "yBinEnd": 123025.525
                        },
                        {
                          "count": 3,
                          "xBinStart": 203,
                          "xBinEnd": 217.5,
                          "yBinStart": 6475.975,
                          "yBinEnd": 12950.95
                        },
                        {
                          "count": 7,
                          "xBinStart": 203,
                          "xBinEnd": 217.5,
                          "yBinStart": 12950.95,
                          "yBinEnd": 19425.925
                        },
                        {
                          "count": 6,
                          "xBinStart": 203,
                          "xBinEnd": 217.5,
                          "yBinStart": 19425.925,
                          "yBinEnd": 25900.9
                        },
                        {
                          "count": 8,
                          "xBinStart": 203,
                          "xBinEnd": 217.5,
                          "yBinStart": 25900.9,
                          "yBinEnd": 32375.875
                        },
                        {
                          "count": 7,
                          "xBinStart": 203,
                          "xBinEnd": 217.5,
                          "yBinStart": 32375.875,
                          "yBinEnd": 38850.85
                        },
                        {
                          "count": 10,
                          "xBinStart": 203,
                          "xBinEnd": 217.5,
                          "yBinStart": 38850.85,
                          "yBinEnd": 45325.825
                        },
                        {
                          "count": 6,
                          "xBinStart": 203,
                          "xBinEnd": 217.5,
                          "yBinStart": 45325.825,
                          "yBinEnd": 51800.8
                        },
                        {
                          "count": 2,
                          "xBinStart": 203,
                          "xBinEnd": 217.5,
                          "yBinStart": 51800.8,
                          "yBinEnd": 58275.775
                        },
                        {
                          "count": 1,
                          "xBinStart": 203,
                          "xBinEnd": 217.5,
                          "yBinStart": 58275.775,
                          "yBinEnd": 64750.75
                        },
                        {
                          "count": 3,
                          "xBinStart": 203,
                          "xBinEnd": 217.5,
                          "yBinStart": 64750.75,
                          "yBinEnd": 71225.725
                        },
                        {
                          "count": 1,
                          "xBinStart": 203,
                          "xBinEnd": 217.5,
                          "yBinStart": 71225.725,
                          "yBinEnd": 77700.7
                        },
                        {
                          "count": 2,
                          "xBinStart": 203,
                          "xBinEnd": 217.5,
                          "yBinStart": 77700.7,
                          "yBinEnd": 84175.675
                        },
                        {
                          "count": 2,
                          "xBinStart": 203,
                          "xBinEnd": 217.5,
                          "yBinStart": 84175.675,
                          "yBinEnd": 90650.65
                        },
                        {
                          "count": 2,
                          "xBinStart": 203,
                          "xBinEnd": 217.5,
                          "yBinStart": 103600.6,
                          "yBinEnd": 110075.575
                        },
                        {
                          "count": 1,
                          "xBinStart": 203,
                          "xBinEnd": 217.5,
                          "yBinStart": 142450.45,
                          "yBinEnd": 148925.425
                        },
                        {
                          "count": 1,
                          "xBinStart": 217.5,
                          "xBinEnd": 232,
                          "yBinStart": 90650.65,
                          "yBinEnd": 97125.625
                        },
                        {
                          "count": 1,
                          "xBinStart": 232,
                          "xBinEnd": 246.5,
                          "yBinStart": -257.999,
                          "yBinEnd": 6475.975
                        },
                        {
                          "count": 4,
                          "xBinStart": 232,
                          "xBinEnd": 246.5,
                          "yBinStart": 6475.975,
                          "yBinEnd": 12950.95
                        },
                        {
                          "count": 12,
                          "xBinStart": 232,
                          "xBinEnd": 246.5,
                          "yBinStart": 12950.95,
                          "yBinEnd": 19425.925
                        },
                        {
                          "count": 8,
                          "xBinStart": 232,
                          "xBinEnd": 246.5,
                          "yBinStart": 19425.925,
                          "yBinEnd": 25900.9
                        },
                        {
                          "count": 4,
                          "xBinStart": 232,
                          "xBinEnd": 246.5,
                          "yBinStart": 25900.9,
                          "yBinEnd": 32375.875
                        },
                        {
                          "count": 6,
                          "xBinStart": 232,
                          "xBinEnd": 246.5,
                          "yBinStart": 32375.875,
                          "yBinEnd": 38850.85
                        },
                        {
                          "count": 6,
                          "xBinStart": 232,
                          "xBinEnd": 246.5,
                          "yBinStart": 38850.85,
                          "yBinEnd": 45325.825
                        },
                        {
                          "count": 6,
                          "xBinStart": 232,
                          "xBinEnd": 246.5,
                          "yBinStart": 45325.825,
                          "yBinEnd": 51800.8
                        },
                        {
                          "count": 4,
                          "xBinStart": 232,
                          "xBinEnd": 246.5,
                          "yBinStart": 51800.8,
                          "yBinEnd": 58275.775
                        },
                        {
                          "count": 2,
                          "xBinStart": 232,
                          "xBinEnd": 246.5,
                          "yBinStart": 58275.775,
                          "yBinEnd": 64750.75
                        },
                        {
                          "count": 3,
                          "xBinStart": 232,
                          "xBinEnd": 246.5,
                          "yBinStart": 64750.75,
                          "yBinEnd": 71225.725
                        },
                        {
                          "count": 2,
                          "xBinStart": 232,
                          "xBinEnd": 246.5,
                          "yBinStart": 71225.725,
                          "yBinEnd": 77700.7
                        },
                        {
                          "count": 1,
                          "xBinStart": 232,
                          "xBinEnd": 246.5,
                          "yBinStart": 77700.7,
                          "yBinEnd": 84175.675
                        },
                        {
                          "count": 2,
                          "xBinStart": 232,
                          "xBinEnd": 246.5,
                          "yBinStart": 84175.675,
                          "yBinEnd": 90650.65
                        },
                        {
                          "count": 34,
                          "xBinStart": 246.5,
                          "xBinEnd": 261,
                          "yBinStart": -257.999,
                          "yBinEnd": 6475.975
                        },
                        {
                          "count": 25,
                          "xBinStart": 246.5,
                          "xBinEnd": 261,
                          "yBinStart": 6475.975,
                          "yBinEnd": 12950.95
                        },
                        {
                          "count": 11,
                          "xBinStart": 246.5,
                          "xBinEnd": 261,
                          "yBinStart": 12950.95,
                          "yBinEnd": 19425.925
                        },
                        {
                          "count": 13,
                          "xBinStart": 246.5,
                          "xBinEnd": 261,
                          "yBinStart": 19425.925,
                          "yBinEnd": 25900.9
                        },
                        {
                          "count": 8,
                          "xBinStart": 246.5,
                          "xBinEnd": 261,
                          "yBinStart": 25900.9,
                          "yBinEnd": 32375.875
                        },
                        {
                          "count": 17,
                          "xBinStart": 246.5,
                          "xBinEnd": 261,
                          "yBinStart": 32375.875,
                          "yBinEnd": 38850.85
                        },
                        {
                          "count": 4,
                          "xBinStart": 246.5,
                          "xBinEnd": 261,
                          "yBinStart": 38850.85,
                          "yBinEnd": 45325.825
                        },
                        {
                          "count": 3,
                          "xBinStart": 246.5,
                          "xBinEnd": 261,
                          "yBinStart": 45325.825,
                          "yBinEnd": 51800.8
                        },
                        {
                          "count": 2,
                          "xBinStart": 246.5,
                          "xBinEnd": 261,
                          "yBinStart": 51800.8,
                          "yBinEnd": 58275.775
                        },
                        {
                          "count": 1,
                          "xBinStart": 246.5,
                          "xBinEnd": 261,
                          "yBinStart": 64750.75,
                          "yBinEnd": 71225.725
                        },
                        {
                          "count": 4,
                          "xBinStart": 261,
                          "xBinEnd": 275.5,
                          "yBinStart": -257.999,
                          "yBinEnd": 6475.975
                        },
                        {
                          "count": 8,
                          "xBinStart": 261,
                          "xBinEnd": 275.5,
                          "yBinStart": 6475.975,
                          "yBinEnd": 12950.95
                        },
                        {
                          "count": 7,
                          "xBinStart": 261,
                          "xBinEnd": 275.5,
                          "yBinStart": 12950.95,
                          "yBinEnd": 19425.925
                        },
                        {
                          "count": 3,
                          "xBinStart": 261,
                          "xBinEnd": 275.5,
                          "yBinStart": 19425.925,
                          "yBinEnd": 25900.9
                        },
                        {
                          "count": 1,
                          "xBinStart": 261,
                          "xBinEnd": 275.5,
                          "yBinStart": 25900.9,
                          "yBinEnd": 32375.875
                        },
                        {
                          "count": 2,
                          "xBinStart": 261,
                          "xBinEnd": 275.5,
                          "yBinStart": 38850.85,
                          "yBinEnd": 45325.825
                        },
                        {
                          "count": 2,
                          "xBinStart": 261,
                          "xBinEnd": 275.5,
                          "yBinStart": 64750.75,
                          "yBinEnd": 71225.725
                        },
                        {
                          "count": 2,
                          "xBinStart": 261,
                          "xBinEnd": 275.5,
                          "yBinStart": 103600.6,
                          "yBinEnd": 110075.575
                        },
                        {
                          "count": 4,
                          "xBinStart": 290,
                          "xBinEnd": 304.5,
                          "yBinStart": 6475.975,
                          "yBinEnd": 12950.95
                        },
                        {
                          "count": 13,
                          "xBinStart": 290,
                          "xBinEnd": 304.5,
                          "yBinStart": 12950.95,
                          "yBinEnd": 19425.925
                        },
                        {
                          "count": 12,
                          "xBinStart": 290,
                          "xBinEnd": 304.5,
                          "yBinStart": 19425.925,
                          "yBinEnd": 25900.9
                        },
                        {
                          "count": 16,
                          "xBinStart": 290,
                          "xBinEnd": 304.5,
                          "yBinStart": 25900.9,
                          "yBinEnd": 32375.875
                        },
                        {
                          "count": 8,
                          "xBinStart": 290,
                          "xBinEnd": 304.5,
                          "yBinStart": 32375.875,
                          "yBinEnd": 38850.85
                        },
                        {
                          "count": 14,
                          "xBinStart": 290,
                          "xBinEnd": 304.5,
                          "yBinStart": 38850.85,
                          "yBinEnd": 45325.825
                        },
                        {
                          "count": 7,
                          "xBinStart": 290,
                          "xBinEnd": 304.5,
                          "yBinStart": 45325.825,
                          "yBinEnd": 51800.8
                        },
                        {
                          "count": 1,
                          "xBinStart": 290,
                          "xBinEnd": 304.5,
                          "yBinStart": 51800.8,
                          "yBinEnd": 58275.775
                        },
                        {
                          "count": 5,
                          "xBinStart": 290,
                          "xBinEnd": 304.5,
                          "yBinStart": 58275.775,
                          "yBinEnd": 64750.75
                        },
                        {
                          "count": 3,
                          "xBinStart": 290,
                          "xBinEnd": 304.5,
                          "yBinStart": 64750.75,
                          "yBinEnd": 71225.725
                        },
                        {
                          "count": 3,
                          "xBinStart": 290,
                          "xBinEnd": 304.5,
                          "yBinStart": 71225.725,
                          "yBinEnd": 77700.7
                        },
                        {
                          "count": 2,
                          "xBinStart": 290,
                          "xBinEnd": 304.5,
                          "yBinStart": 77700.7,
                          "yBinEnd": 84175.675
                        },
                        {
                          "count": 1,
                          "xBinStart": 290,
                          "xBinEnd": 304.5,
                          "yBinStart": 90650.65,
                          "yBinEnd": 97125.625
                        },
                        {
                          "count": 1,
                          "xBinStart": 290,
                          "xBinEnd": 304.5,
                          "yBinStart": 116550.55,
                          "yBinEnd": 123025.525
                        },
                        {
                          "count": 2,
                          "xBinStart": 304.5,
                          "xBinEnd": 319,
                          "yBinStart": 6475.975,
                          "yBinEnd": 12950.95
                        },
                        {
                          "count": 5,
                          "xBinStart": 304.5,
                          "xBinEnd": 319,
                          "yBinStart": 12950.95,
                          "yBinEnd": 19425.925
                        },
                        {
                          "count": 8,
                          "xBinStart": 304.5,
                          "xBinEnd": 319,
                          "yBinStart": 19425.925,
                          "yBinEnd": 25900.9
                        },
                        {
                          "count": 6,
                          "xBinStart": 304.5,
                          "xBinEnd": 319,
                          "yBinStart": 25900.9,
                          "yBinEnd": 32375.875
                        },
                        {
                          "count": 4,
                          "xBinStart": 304.5,
                          "xBinEnd": 319,
                          "yBinStart": 32375.875,
                          "yBinEnd": 38850.85
                        },
                        {
                          "count": 3,
                          "xBinStart": 304.5,
                          "xBinEnd": 319,
                          "yBinStart": 38850.85,
                          "yBinEnd": 45325.825
                        },
                        {
                          "count": 1,
                          "xBinStart": 304.5,
                          "xBinEnd": 319,
                          "yBinStart": 51800.8,
                          "yBinEnd": 58275.775
                        },
                        {
                          "count": 2,
                          "xBinStart": 304.5,
                          "xBinEnd": 319,
                          "yBinStart": 58275.775,
                          "yBinEnd": 64750.75
                        },
                        {
                          "count": 1,
                          "xBinStart": 304.5,
                          "xBinEnd": 319,
                          "yBinStart": 64750.75,
                          "yBinEnd": 71225.725
                        },
                        {
                          "count": 1,
                          "xBinStart": 304.5,
                          "xBinEnd": 319,
                          "yBinStart": 84175.675,
                          "yBinEnd": 90650.65
                        },
                        {
                          "count": 1,
                          "xBinStart": 319,
                          "xBinEnd": 333.5,
                          "yBinStart": -257.999,
                          "yBinEnd": 6475.975
                        },
                        {
                          "count": 4,
                          "xBinStart": 319,
                          "xBinEnd": 333.5,
                          "yBinStart": 6475.975,
                          "yBinEnd": 12950.95
                        },
                        {
                          "count": 7,
                          "xBinStart": 319,
                          "xBinEnd": 333.5,
                          "yBinStart": 12950.95,
                          "yBinEnd": 19425.925
                        },
                        {
                          "count": 2,
                          "xBinStart": 319,
                          "xBinEnd": 333.5,
                          "yBinStart": 19425.925,
                          "yBinEnd": 25900.9
                        },
                        {
                          "count": 5,
                          "xBinStart": 319,
                          "xBinEnd": 333.5,
                          "yBinStart": 25900.9,
                          "yBinEnd": 32375.875
                        },
                        {
                          "count": 5,
                          "xBinStart": 319,
                          "xBinEnd": 333.5,
                          "yBinStart": 32375.875,
                          "yBinEnd": 38850.85
                        },
                        {
                          "count": 5,
                          "xBinStart": 319,
                          "xBinEnd": 333.5,
                          "yBinStart": 38850.85,
                          "yBinEnd": 45325.825
                        },
                        {
                          "count": 3,
                          "xBinStart": 319,
                          "xBinEnd": 333.5,
                          "yBinStart": 45325.825,
                          "yBinEnd": 51800.8
                        },
                        {
                          "count": 1,
                          "xBinStart": 319,
                          "xBinEnd": 333.5,
                          "yBinStart": 51800.8,
                          "yBinEnd": 58275.775
                        },
                        {
                          "count": 3,
                          "xBinStart": 319,
                          "xBinEnd": 333.5,
                          "yBinStart": 58275.775,
                          "yBinEnd": 64750.75
                        },
                        {
                          "count": 1,
                          "xBinStart": 319,
                          "xBinEnd": 333.5,
                          "yBinStart": 64750.75,
                          "yBinEnd": 71225.725
                        },
                        {
                          "count": 1,
                          "xBinStart": 319,
                          "xBinEnd": 333.5,
                          "yBinStart": 71225.725,
                          "yBinEnd": 77700.7
                        },
                        {
                          "count": 1,
                          "xBinStart": 319,
                          "xBinEnd": 333.5,
                          "yBinStart": 84175.675,
                          "yBinEnd": 90650.65
                        },
                        {
                          "count": 1,
                          "xBinStart": 536.5,
                          "xBinEnd": 551,
                          "yBinStart": 32375.875,
                          "yBinEnd": 38850.85
                        },
                        {
                          "count": 1,
                          "xBinStart": 536.5,
                          "xBinEnd": 551,
                          "yBinStart": 155400.4,
                          "yBinEnd": 161875.375
                        },
                        {
                          "count": 1,
                          "xBinStart": 536.5,
                          "xBinEnd": 551,
                          "yBinStart": 252525.025,
                          "yBinEnd": 259000
                        },
                        {
                          "count": 1,
                          "xBinStart": 551,
                          "xBinEnd": 565.5,
                          "yBinStart": -257.999,
                          "yBinEnd": 6475.975
                        },
                        {
                          "count": 1,
                          "xBinStart": 551,
                          "xBinEnd": 565.5,
                          "yBinStart": 6475.975,
                          "yBinEnd": 12950.95
                        },
                        {
                          "count": 3,
                          "xBinStart": 551,
                          "xBinEnd": 565.5,
                          "yBinStart": 12950.95,
                          "yBinEnd": 19425.925
                        },
                        {
                          "count": 3,
                          "xBinStart": 551,
                          "xBinEnd": 565.5,
                          "yBinStart": 19425.925,
                          "yBinEnd": 25900.9
                        },
                        {
                          "count": 2,
                          "xBinStart": 551,
                          "xBinEnd": 565.5,
                          "yBinStart": 25900.9,
                          "yBinEnd": 32375.875
                        },
                        {
                          "count": 2,
                          "xBinStart": 551,
                          "xBinEnd": 565.5,
                          "yBinStart": 38850.85,
                          "yBinEnd": 45325.825
                        },
                        {
                          "count": 2,
                          "xBinStart": 551,
                          "xBinEnd": 565.5,
                          "yBinStart": 45325.825,
                          "yBinEnd": 51800.8
                        },
                        {
                          "count": 2,
                          "xBinStart": 551,
                          "xBinEnd": 565.5,
                          "yBinStart": 51800.8,
                          "yBinEnd": 58275.775
                        },
                        {
                          "count": 1,
                          "xBinStart": 551,
                          "xBinEnd": 565.5,
                          "yBinStart": 64750.75,
                          "yBinEnd": 71225.725
                        },
                        {
                          "count": 1,
                          "xBinStart": 551,
                          "xBinEnd": 565.5,
                          "yBinStart": 71225.725,
                          "yBinEnd": 77700.7
                        },
                        {
                          "count": 2,
                          "xBinStart": 551,
                          "xBinEnd": 565.5,
                          "yBinStart": 77700.7,
                          "yBinEnd": 84175.675
                        },
                        {
                          "count": 1,
                          "xBinStart": 551,
                          "xBinEnd": 565.5,
                          "yBinStart": 84175.675,
                          "yBinEnd": 90650.65
                        },
                        {
                          "count": 1,
                          "xBinStart": 551,
                          "xBinEnd": 565.5,
                          "yBinStart": 90650.65,
                          "yBinEnd": 97125.625
                        },
                        {
                          "count": 1,
                          "xBinStart": 551,
                          "xBinEnd": 565.5,
                          "yBinStart": 103600.6,
                          "yBinEnd": 110075.575
                        },
                        {
                          "count": 1,
                          "xBinStart": 551,
                          "xBinEnd": 565.5,
                          "yBinStart": 123025.525,
                          "yBinEnd": 129500.5
                        },
                        {
                          "count": 1,
                          "xBinStart": 551,
                          "xBinEnd": 565.5,
                          "yBinStart": 129500.5,
                          "yBinEnd": 135975.475
                        },
                        {
                          "count": 1,
                          "xBinStart": 565.5,
                          "xBinEnd": 580,
                          "yBinStart": -257.999,
                          "yBinEnd": 6475.975
                        },
                        {
                          "count": 1,
                          "xBinStart": 565.5,
                          "xBinEnd": 580,
                          "yBinStart": 6475.975,
                          "yBinEnd": 12950.95
                        },
                        {
                          "count": 2,
                          "xBinStart": 565.5,
                          "xBinEnd": 580,
                          "yBinStart": 12950.95,
                          "yBinEnd": 19425.925
                        },
                        {
                          "count": 4,
                          "xBinStart": 565.5,
                          "xBinEnd": 580,
                          "yBinStart": 19425.925,
                          "yBinEnd": 25900.9
                        },
                        {
                          "count": 4,
                          "xBinStart": 565.5,
                          "xBinEnd": 580,
                          "yBinStart": 32375.875,
                          "yBinEnd": 38850.85
                        },
                        {
                          "count": 6,
                          "xBinStart": 565.5,
                          "xBinEnd": 580,
                          "yBinStart": 38850.85,
                          "yBinEnd": 45325.825
                        },
                        {
                          "count": 1,
                          "xBinStart": 565.5,
                          "xBinEnd": 580,
                          "yBinStart": 45325.825,
                          "yBinEnd": 51800.8
                        },
                        {
                          "count": 3,
                          "xBinStart": 565.5,
                          "xBinEnd": 580,
                          "yBinStart": 51800.8,
                          "yBinEnd": 58275.775
                        }
                      ]
                    },
                    "vislib": "vegalite"
                  },
                  {
                    "config": {
                      "view": {
                        "continuousWidth": 300,
                        "continuousHeight": 300
                      },
                      "axis": {
                        "labelColor": "#505050",
                        "labelFont": "Helvetica Neue",
                        "labelFontSize": 9,
                        "labelFontWeight": 400,
                        "titleFont": "Helvetica Neue",
                        "titleFontSize": 11,
                        "titleFontWeight": 500
                      },
                      "legend": {
                        "labelFont": "Helvetica Neue",
                        "labelFontSize": 9,
                        "labelFontWeight": 400,
                        "titleFont": "Helvetica Neue",
                        "titleFontSize": 10,
                        "titleFontWeight": 500
                      },
                      "mark": {
                        "tooltip": {
                          "content": "encoding"
                        }
                      },
                      "scale": {
                        "maxOpacity": 1,
                        "minOpacity": 0.1
                      },
                      "title": {
                        "font": "Helvetica Neue",
                        "fontSize": 13,
                        "fontWeight": 500
                      }
                    },
                    "data": {
                      "name": "data-96594c219b8399a5808a3d359ebaec8f"
                    },
                    "mark": {
                      "type": "rect"
                    },
                    "encoding": {
                      "opacity": {
                        "field": "count",
                        "legend": null,
                        "scale": {
                          "type": "log"
                        },
                        "type": "quantitative"
                      },
                      "x": {
                        "axis": {
                          "title": "mpg"
                        },
                        "bin": {
                          "binned": true
                        },
                        "field": "xBinStart",
                        "type": "quantitative"
                      },
                      "x2": {
                        "field": "xBinEnd"
                      },
                      "y": {
                        "axis": {
                          "title": "price"
                        },
                        "bin": {
                          "binned": true
                        },
                        "field": "yBinStart",
                        "type": "quantitative"
                      },
                      "y2": {
                        "field": "yBinEnd"
                      }
                    },
                    "height": 150,
                    "params": [
                      {
                        "name": "param_4",
                        "select": {
                          "type": "interval",
                          "encodings": [
                            "x",
                            "y"
                          ]
                        },
                        "bind": "scales"
                      }
                    ],
                    "width": 160,
                    "$schema": "https://vega.github.io/schema/vega-lite/v5.20.1.json",
                    "datasets": {
                      "data-96594c219b8399a5808a3d359ebaec8f": [
                        {
                          "count": 3,
                          "xBinStart": 0.884,
                          "xBinEnd": 6.505,
                          "yBinStart": 29113.575,
                          "yBinEnd": 33079.8
                        },
                        {
                          "count": 1,
                          "xBinStart": 0.884,
                          "xBinEnd": 6.505,
                          "yBinStart": 33079.8,
                          "yBinEnd": 37046.025
                        },
                        {
                          "count": 1,
                          "xBinStart": 6.505,
                          "xBinEnd": 11.91,
                          "yBinStart": 100505.625,
                          "yBinEnd": 104471.85
                        },
                        {
                          "count": 1,
                          "xBinStart": 17.315,
                          "xBinEnd": 22.72,
                          "yBinStart": 25147.35,
                          "yBinEnd": 29113.575
                        },
                        {
                          "count": 2,
                          "xBinStart": 17.315,
                          "xBinEnd": 22.72,
                          "yBinStart": 60843.375,
                          "yBinEnd": 64809.6
                        },
                        {
                          "count": 4,
                          "xBinStart": 17.315,
                          "xBinEnd": 22.72,
                          "yBinStart": 64809.6,
                          "yBinEnd": 68775.825
                        },
                        {
                          "count": 4,
                          "xBinStart": 17.315,
                          "xBinEnd": 22.72,
                          "yBinStart": 68775.825,
                          "yBinEnd": 72742.05
                        },
                        {
                          "count": 9,
                          "xBinStart": 17.315,
                          "xBinEnd": 22.72,
                          "yBinStart": 72742.05,
                          "yBinEnd": 76708.275
                        },
                        {
                          "count": 1,
                          "xBinStart": 17.315,
                          "xBinEnd": 22.72,
                          "yBinStart": 76708.275,
                          "yBinEnd": 80674.5
                        },
                        {
                          "count": 2,
                          "xBinStart": 17.315,
                          "xBinEnd": 22.72,
                          "yBinStart": 96539.4,
                          "yBinEnd": 100505.625
                        },
                        {
                          "count": 2,
                          "xBinStart": 17.315,
                          "xBinEnd": 22.72,
                          "yBinStart": 104471.85,
                          "yBinEnd": 108438.075
                        },
                        {
                          "count": 1,
                          "xBinStart": 17.315,
                          "xBinEnd": 22.72,
                          "yBinStart": 108438.075,
                          "yBinEnd": 112404.3
                        },
                        {
                          "count": 1,
                          "xBinStart": 17.315,
                          "xBinEnd": 22.72,
                          "yBinStart": 112404.3,
                          "yBinEnd": 116370.525
                        },
                        {
                          "count": 1,
                          "xBinStart": 17.315,
                          "xBinEnd": 22.72,
                          "yBinStart": 120336.75,
                          "yBinEnd": 124302.975
                        },
                        {
                          "count": 2,
                          "xBinStart": 17.315,
                          "xBinEnd": 22.72,
                          "yBinStart": 132235.425,
                          "yBinEnd": 136201.65
                        },
                        {
                          "count": 4,
                          "xBinStart": 17.315,
                          "xBinEnd": 22.72,
                          "yBinStart": 136201.65,
                          "yBinEnd": 140167.875
                        },
                        {
                          "count": 1,
                          "xBinStart": 17.315,
                          "xBinEnd": 22.72,
                          "yBinStart": 140167.875,
                          "yBinEnd": 144134.1
                        },
                        {
                          "count": 1,
                          "xBinStart": 17.315,
                          "xBinEnd": 22.72,
                          "yBinStart": 148100.325,
                          "yBinEnd": 152066.55
                        },
                        {
                          "count": 1,
                          "xBinStart": 17.315,
                          "xBinEnd": 22.72,
                          "yBinStart": 152066.55,
                          "yBinEnd": 156032.775
                        },
                        {
                          "count": 1,
                          "xBinStart": 17.315,
                          "xBinEnd": 22.72,
                          "yBinStart": 156032.775,
                          "yBinEnd": 159999
                        },
                        {
                          "count": 6,
                          "xBinStart": 22.72,
                          "xBinEnd": 28.125,
                          "yBinStart": 21181.125,
                          "yBinEnd": 25147.35
                        },
                        {
                          "count": 3,
                          "xBinStart": 22.72,
                          "xBinEnd": 28.125,
                          "yBinStart": 25147.35,
                          "yBinEnd": 29113.575
                        },
                        {
                          "count": 2,
                          "xBinStart": 22.72,
                          "xBinEnd": 28.125,
                          "yBinStart": 29113.575,
                          "yBinEnd": 33079.8
                        },
                        {
                          "count": 1,
                          "xBinStart": 22.72,
                          "xBinEnd": 28.125,
                          "yBinStart": 33079.8,
                          "yBinEnd": 37046.025
                        },
                        {
                          "count": 4,
                          "xBinStart": 22.72,
                          "xBinEnd": 28.125,
                          "yBinStart": 41012.25,
                          "yBinEnd": 44978.475
                        },
                        {
                          "count": 15,
                          "xBinStart": 22.72,
                          "xBinEnd": 28.125,
                          "yBinStart": 44978.475,
                          "yBinEnd": 48944.7
                        },
                        {
                          "count": 21,
                          "xBinStart": 22.72,
                          "xBinEnd": 28.125,
                          "yBinStart": 48944.7,
                          "yBinEnd": 52910.925
                        },
                        {
                          "count": 13,
                          "xBinStart": 22.72,
                          "xBinEnd": 28.125,
                          "yBinStart": 52910.925,
                          "yBinEnd": 56877.15
                        },
                        {
                          "count": 9,
                          "xBinStart": 22.72,
                          "xBinEnd": 28.125,
                          "yBinStart": 56877.15,
                          "yBinEnd": 60843.375
                        },
                        {
                          "count": 6,
                          "xBinStart": 22.72,
                          "xBinEnd": 28.125,
                          "yBinStart": 60843.375,
                          "yBinEnd": 64809.6
                        },
                        {
                          "count": 17,
                          "xBinStart": 22.72,
                          "xBinEnd": 28.125,
                          "yBinStart": 64809.6,
                          "yBinEnd": 68775.825
                        },
                        {
                          "count": 8,
                          "xBinStart": 22.72,
                          "xBinEnd": 28.125,
                          "yBinStart": 68775.825,
                          "yBinEnd": 72742.05
                        },
                        {
                          "count": 3,
                          "xBinStart": 22.72,
                          "xBinEnd": 28.125,
                          "yBinStart": 72742.05,
                          "yBinEnd": 76708.275
                        },
                        {
                          "count": 8,
                          "xBinStart": 22.72,
                          "xBinEnd": 28.125,
                          "yBinStart": 76708.275,
                          "yBinEnd": 80674.5
                        },
                        {
                          "count": 1,
                          "xBinStart": 22.72,
                          "xBinEnd": 28.125,
                          "yBinStart": 80674.5,
                          "yBinEnd": 84640.725
                        },
                        {
                          "count": 1,
                          "xBinStart": 22.72,
                          "xBinEnd": 28.125,
                          "yBinStart": 84640.725,
                          "yBinEnd": 88606.95
                        },
                        {
                          "count": 4,
                          "xBinStart": 22.72,
                          "xBinEnd": 28.125,
                          "yBinStart": 88606.95,
                          "yBinEnd": 92573.175
                        },
                        {
                          "count": 1,
                          "xBinStart": 22.72,
                          "xBinEnd": 28.125,
                          "yBinStart": 92573.175,
                          "yBinEnd": 96539.4
                        },
                        {
                          "count": 1,
                          "xBinStart": 22.72,
                          "xBinEnd": 28.125,
                          "yBinStart": 96539.4,
                          "yBinEnd": 100505.625
                        },
                        {
                          "count": 2,
                          "xBinStart": 22.72,
                          "xBinEnd": 28.125,
                          "yBinStart": 108438.075,
                          "yBinEnd": 112404.3
                        },
                        {
                          "count": 3,
                          "xBinStart": 22.72,
                          "xBinEnd": 28.125,
                          "yBinStart": 124302.975,
                          "yBinEnd": 128269.2
                        },
                        {
                          "count": 1,
                          "xBinStart": 22.72,
                          "xBinEnd": 28.125,
                          "yBinStart": 128269.2,
                          "yBinEnd": 132235.425
                        },
                        {
                          "count": 1,
                          "xBinStart": 22.72,
                          "xBinEnd": 28.125,
                          "yBinStart": 132235.425,
                          "yBinEnd": 136201.65
                        },
                        {
                          "count": 5,
                          "xBinStart": 28.125,
                          "xBinEnd": 33.53,
                          "yBinStart": 5316.225,
                          "yBinEnd": 9282.45
                        },
                        {
                          "count": 7,
                          "xBinStart": 28.125,
                          "xBinEnd": 33.53,
                          "yBinStart": 9282.45,
                          "yBinEnd": 13248.675
                        },
                        {
                          "count": 2,
                          "xBinStart": 28.125,
                          "xBinEnd": 33.53,
                          "yBinStart": 13248.675,
                          "yBinEnd": 17214.9
                        },
                        {
                          "count": 54,
                          "xBinStart": 28.125,
                          "xBinEnd": 33.53,
                          "yBinStart": 17214.9,
                          "yBinEnd": 21181.125
                        },
                        {
                          "count": 45,
                          "xBinStart": 28.125,
                          "xBinEnd": 33.53,
                          "yBinStart": 21181.125,
                          "yBinEnd": 25147.35
                        },
                        {
                          "count": 27,
                          "xBinStart": 28.125,
                          "xBinEnd": 33.53,
                          "yBinStart": 25147.35,
                          "yBinEnd": 29113.575
                        },
                        {
                          "count": 12,
                          "xBinStart": 28.125,
                          "xBinEnd": 33.53,
                          "yBinStart": 29113.575,
                          "yBinEnd": 33079.8
                        },
                        {
                          "count": 22,
                          "xBinStart": 28.125,
                          "xBinEnd": 33.53,
                          "yBinStart": 33079.8,
                          "yBinEnd": 37046.025
                        },
                        {
                          "count": 81,
                          "xBinStart": 28.125,
                          "xBinEnd": 33.53,
                          "yBinStart": 37046.025,
                          "yBinEnd": 41012.25
                        },
                        {
                          "count": 85,
                          "xBinStart": 28.125,
                          "xBinEnd": 33.53,
                          "yBinStart": 41012.25,
                          "yBinEnd": 44978.475
                        },
                        {
                          "count": 57,
                          "xBinStart": 28.125,
                          "xBinEnd": 33.53,
                          "yBinStart": 44978.475,
                          "yBinEnd": 48944.7
                        },
                        {
                          "count": 66,
                          "xBinStart": 28.125,
                          "xBinEnd": 33.53,
                          "yBinStart": 48944.7,
                          "yBinEnd": 52910.925
                        },
                        {
                          "count": 66,
                          "xBinStart": 28.125,
                          "xBinEnd": 33.53,
                          "yBinStart": 52910.925,
                          "yBinEnd": 56877.15
                        },
                        {
                          "count": 48,
                          "xBinStart": 28.125,
                          "xBinEnd": 33.53,
                          "yBinStart": 56877.15,
                          "yBinEnd": 60843.375
                        },
                        {
                          "count": 11,
                          "xBinStart": 28.125,
                          "xBinEnd": 33.53,
                          "yBinStart": 60843.375,
                          "yBinEnd": 64809.6
                        },
                        {
                          "count": 12,
                          "xBinStart": 28.125,
                          "xBinEnd": 33.53,
                          "yBinStart": 64809.6,
                          "yBinEnd": 68775.825
                        },
                        {
                          "count": 6,
                          "xBinStart": 28.125,
                          "xBinEnd": 33.53,
                          "yBinStart": 68775.825,
                          "yBinEnd": 72742.05
                        },
                        {
                          "count": 4,
                          "xBinStart": 28.125,
                          "xBinEnd": 33.53,
                          "yBinStart": 72742.05,
                          "yBinEnd": 76708.275
                        },
                        {
                          "count": 7,
                          "xBinStart": 28.125,
                          "xBinEnd": 33.53,
                          "yBinStart": 76708.275,
                          "yBinEnd": 80674.5
                        },
                        {
                          "count": 1,
                          "xBinStart": 28.125,
                          "xBinEnd": 33.53,
                          "yBinStart": 80674.5,
                          "yBinEnd": 84640.725
                        },
                        {
                          "count": 1,
                          "xBinStart": 28.125,
                          "xBinEnd": 33.53,
                          "yBinStart": 88606.95,
                          "yBinEnd": 92573.175
                        },
                        {
                          "count": 1,
                          "xBinStart": 28.125,
                          "xBinEnd": 33.53,
                          "yBinStart": 96539.4,
                          "yBinEnd": 100505.625
                        },
                        {
                          "count": 1,
                          "xBinStart": 28.125,
                          "xBinEnd": 33.53,
                          "yBinStart": 100505.625,
                          "yBinEnd": 104471.85
                        },
                        {
                          "count": 1,
                          "xBinStart": 28.125,
                          "xBinEnd": 33.53,
                          "yBinStart": 104471.85,
                          "yBinEnd": 108438.075
                        },
                        {
                          "count": 1,
                          "xBinStart": 28.125,
                          "xBinEnd": 33.53,
                          "yBinStart": 108438.075,
                          "yBinEnd": 112404.3
                        },
                        {
                          "count": 1,
                          "xBinStart": 28.125,
                          "xBinEnd": 33.53,
                          "yBinStart": 112404.3,
                          "yBinEnd": 116370.525
                        },
                        {
                          "count": 1,
                          "xBinStart": 28.125,
                          "xBinEnd": 33.53,
                          "yBinStart": 124302.975,
                          "yBinEnd": 128269.2
                        },
                        {
                          "count": 1,
                          "xBinStart": 33.53,
                          "xBinEnd": 38.935,
                          "yBinStart": 1191.351,
                          "yBinEnd": 5316.225
                        },
                        {
                          "count": 6,
                          "xBinStart": 33.53,
                          "xBinEnd": 38.935,
                          "yBinStart": 5316.225,
                          "yBinEnd": 9282.45
                        },
                        {
                          "count": 2,
                          "xBinStart": 33.53,
                          "xBinEnd": 38.935,
                          "yBinStart": 9282.45,
                          "yBinEnd": 13248.675
                        },
                        {
                          "count": 3,
                          "xBinStart": 33.53,
                          "xBinEnd": 38.935,
                          "yBinStart": 13248.675,
                          "yBinEnd": 17214.9
                        },
                        {
                          "count": 6,
                          "xBinStart": 33.53,
                          "xBinEnd": 38.935,
                          "yBinStart": 17214.9,
                          "yBinEnd": 21181.125
                        },
                        {
                          "count": 57,
                          "xBinStart": 33.53,
                          "xBinEnd": 38.935,
                          "yBinStart": 21181.125,
                          "yBinEnd": 25147.35
                        },
                        {
                          "count": 126,
                          "xBinStart": 33.53,
                          "xBinEnd": 38.935,
                          "yBinStart": 25147.35,
                          "yBinEnd": 29113.575
                        },
                        {
                          "count": 117,
                          "xBinStart": 33.53,
                          "xBinEnd": 38.935,
                          "yBinStart": 29113.575,
                          "yBinEnd": 33079.8
                        },
                        {
                          "count": 108,
                          "xBinStart": 33.53,
                          "xBinEnd": 38.935,
                          "yBinStart": 33079.8,
                          "yBinEnd": 37046.025
                        },
                        {
                          "count": 51,
                          "xBinStart": 33.53,
                          "xBinEnd": 38.935,
                          "yBinStart": 37046.025,
                          "yBinEnd": 41012.25
                        },
                        {
                          "count": 54,
                          "xBinStart": 33.53,
                          "xBinEnd": 38.935,
                          "yBinStart": 41012.25,
                          "yBinEnd": 44978.475
                        },
                        {
                          "count": 104,
                          "xBinStart": 33.53,
                          "xBinEnd": 38.935,
                          "yBinStart": 44978.475,
                          "yBinEnd": 48944.7
                        },
                        {
                          "count": 52,
                          "xBinStart": 33.53,
                          "xBinEnd": 38.935,
                          "yBinStart": 48944.7,
                          "yBinEnd": 52910.925
                        },
                        {
                          "count": 7,
                          "xBinStart": 33.53,
                          "xBinEnd": 38.935,
                          "yBinStart": 52910.925,
                          "yBinEnd": 56877.15
                        },
                        {
                          "count": 6,
                          "xBinStart": 33.53,
                          "xBinEnd": 38.935,
                          "yBinStart": 56877.15,
                          "yBinEnd": 60843.375
                        },
                        {
                          "count": 2,
                          "xBinStart": 33.53,
                          "xBinEnd": 38.935,
                          "yBinStart": 60843.375,
                          "yBinEnd": 64809.6
                        },
                        {
                          "count": 1,
                          "xBinStart": 33.53,
                          "xBinEnd": 38.935,
                          "yBinStart": 64809.6,
                          "yBinEnd": 68775.825
                        },
                        {
                          "count": 1,
                          "xBinStart": 33.53,
                          "xBinEnd": 38.935,
                          "yBinStart": 72742.05,
                          "yBinEnd": 76708.275
                        },
                        {
                          "count": 2,
                          "xBinStart": 33.53,
                          "xBinEnd": 38.935,
                          "yBinStart": 76708.275,
                          "yBinEnd": 80674.5
                        },
                        {
                          "count": 1,
                          "xBinStart": 33.53,
                          "xBinEnd": 38.935,
                          "yBinStart": 80674.5,
                          "yBinEnd": 84640.725
                        },
                        {
                          "count": 3,
                          "xBinStart": 33.53,
                          "xBinEnd": 38.935,
                          "yBinStart": 84640.725,
                          "yBinEnd": 88606.95
                        },
                        {
                          "count": 2,
                          "xBinStart": 33.53,
                          "xBinEnd": 38.935,
                          "yBinStart": 88606.95,
                          "yBinEnd": 92573.175
                        },
                        {
                          "count": 2,
                          "xBinStart": 33.53,
                          "xBinEnd": 38.935,
                          "yBinStart": 92573.175,
                          "yBinEnd": 96539.4
                        },
                        {
                          "count": 5,
                          "xBinStart": 38.935,
                          "xBinEnd": 44.34,
                          "yBinStart": 1191.351,
                          "yBinEnd": 5316.225
                        },
                        {
                          "count": 15,
                          "xBinStart": 38.935,
                          "xBinEnd": 44.34,
                          "yBinStart": 5316.225,
                          "yBinEnd": 9282.45
                        },
                        {
                          "count": 17,
                          "xBinStart": 38.935,
                          "xBinEnd": 44.34,
                          "yBinStart": 9282.45,
                          "yBinEnd": 13248.675
                        },
                        {
                          "count": 35,
                          "xBinStart": 38.935,
                          "xBinEnd": 44.34,
                          "yBinStart": 13248.675,
                          "yBinEnd": 17214.9
                        },
                        {
                          "count": 103,
                          "xBinStart": 38.935,
                          "xBinEnd": 44.34,
                          "yBinStart": 17214.9,
                          "yBinEnd": 21181.125
                        },
                        {
                          "count": 143,
                          "xBinStart": 38.935,
                          "xBinEnd": 44.34,
                          "yBinStart": 21181.125,
                          "yBinEnd": 25147.35
                        },
                        {
                          "count": 240,
                          "xBinStart": 38.935,
                          "xBinEnd": 44.34,
                          "yBinStart": 25147.35,
                          "yBinEnd": 29113.575
                        },
                        {
                          "count": 260,
                          "xBinStart": 38.935,
                          "xBinEnd": 44.34,
                          "yBinStart": 29113.575,
                          "yBinEnd": 33079.8
                        },
                        {
                          "count": 145,
                          "xBinStart": 38.935,
                          "xBinEnd": 44.34,
                          "yBinStart": 33079.8,
                          "yBinEnd": 37046.025
                        },
                        {
                          "count": 101,
                          "xBinStart": 38.935,
                          "xBinEnd": 44.34,
                          "yBinStart": 37046.025,
                          "yBinEnd": 41012.25
                        },
                        {
                          "count": 60,
                          "xBinStart": 38.935,
                          "xBinEnd": 44.34,
                          "yBinStart": 41012.25,
                          "yBinEnd": 44978.475
                        },
                        {
                          "count": 14,
                          "xBinStart": 38.935,
                          "xBinEnd": 44.34,
                          "yBinStart": 44978.475,
                          "yBinEnd": 48944.7
                        },
                        {
                          "count": 3,
                          "xBinStart": 38.935,
                          "xBinEnd": 44.34,
                          "yBinStart": 48944.7,
                          "yBinEnd": 52910.925
                        },
                        {
                          "count": 4,
                          "xBinStart": 38.935,
                          "xBinEnd": 44.34,
                          "yBinStart": 52910.925,
                          "yBinEnd": 56877.15
                        },
                        {
                          "count": 2,
                          "xBinStart": 38.935,
                          "xBinEnd": 44.34,
                          "yBinStart": 56877.15,
                          "yBinEnd": 60843.375
                        },
                        {
                          "count": 1,
                          "xBinStart": 38.935,
                          "xBinEnd": 44.34,
                          "yBinStart": 60843.375,
                          "yBinEnd": 64809.6
                        },
                        {
                          "count": 3,
                          "xBinStart": 38.935,
                          "xBinEnd": 44.34,
                          "yBinStart": 64809.6,
                          "yBinEnd": 68775.825
                        },
                        {
                          "count": 1,
                          "xBinStart": 44.34,
                          "xBinEnd": 49.745,
                          "yBinStart": 1191.351,
                          "yBinEnd": 5316.225
                        },
                        {
                          "count": 18,
                          "xBinStart": 44.34,
                          "xBinEnd": 49.745,
                          "yBinStart": 5316.225,
                          "yBinEnd": 9282.45
                        },
                        {
                          "count": 60,
                          "xBinStart": 44.34,
                          "xBinEnd": 49.745,
                          "yBinStart": 9282.45,
                          "yBinEnd": 13248.675
                        },
                        {
                          "count": 104,
                          "xBinStart": 44.34,
                          "xBinEnd": 49.745,
                          "yBinStart": 13248.675,
                          "yBinEnd": 17214.9
                        },
                        {
                          "count": 329,
                          "xBinStart": 44.34,
                          "xBinEnd": 49.745,
                          "yBinStart": 17214.9,
                          "yBinEnd": 21181.125
                        },
                        {
                          "count": 423,
                          "xBinStart": 44.34,
                          "xBinEnd": 49.745,
                          "yBinStart": 21181.125,
                          "yBinEnd": 25147.35
                        },
                        {
                          "count": 355,
                          "xBinStart": 44.34,
                          "xBinEnd": 49.745,
                          "yBinStart": 25147.35,
                          "yBinEnd": 29113.575
                        },
                        {
                          "count": 235,
                          "xBinStart": 44.34,
                          "xBinEnd": 49.745,
                          "yBinStart": 29113.575,
                          "yBinEnd": 33079.8
                        },
                        {
                          "count": 166,
                          "xBinStart": 44.34,
                          "xBinEnd": 49.745,
                          "yBinStart": 33079.8,
                          "yBinEnd": 37046.025
                        },
                        {
                          "count": 90,
                          "xBinStart": 44.34,
                          "xBinEnd": 49.745,
                          "yBinStart": 37046.025,
                          "yBinEnd": 41012.25
                        },
                        {
                          "count": 37,
                          "xBinStart": 44.34,
                          "xBinEnd": 49.745,
                          "yBinStart": 41012.25,
                          "yBinEnd": 44978.475
                        },
                        {
                          "count": 35,
                          "xBinStart": 44.34,
                          "xBinEnd": 49.745,
                          "yBinStart": 44978.475,
                          "yBinEnd": 48944.7
                        },
                        {
                          "count": 8,
                          "xBinStart": 44.34,
                          "xBinEnd": 49.745,
                          "yBinStart": 48944.7,
                          "yBinEnd": 52910.925
                        },
                        {
                          "count": 2,
                          "xBinStart": 44.34,
                          "xBinEnd": 49.745,
                          "yBinStart": 52910.925,
                          "yBinEnd": 56877.15
                        },
                        {
                          "count": 7,
                          "xBinStart": 44.34,
                          "xBinEnd": 49.745,
                          "yBinStart": 56877.15,
                          "yBinEnd": 60843.375
                        },
                        {
                          "count": 5,
                          "xBinStart": 44.34,
                          "xBinEnd": 49.745,
                          "yBinStart": 60843.375,
                          "yBinEnd": 64809.6
                        },
                        {
                          "count": 6,
                          "xBinStart": 49.745,
                          "xBinEnd": 55.15,
                          "yBinStart": 1191.351,
                          "yBinEnd": 5316.225
                        },
                        {
                          "count": 13,
                          "xBinStart": 49.745,
                          "xBinEnd": 55.15,
                          "yBinStart": 5316.225,
                          "yBinEnd": 9282.45
                        },
                        {
                          "count": 139,
                          "xBinStart": 49.745,
                          "xBinEnd": 55.15,
                          "yBinStart": 9282.45,
                          "yBinEnd": 13248.675
                        },
                        {
                          "count": 279,
                          "xBinStart": 49.745,
                          "xBinEnd": 55.15,
                          "yBinStart": 13248.675,
                          "yBinEnd": 17214.9
                        },
                        {
                          "count": 347,
                          "xBinStart": 49.745,
                          "xBinEnd": 55.15,
                          "yBinStart": 17214.9,
                          "yBinEnd": 21181.125
                        },
                        {
                          "count": 222,
                          "xBinStart": 49.745,
                          "xBinEnd": 55.15,
                          "yBinStart": 21181.125,
                          "yBinEnd": 25147.35
                        },
                        {
                          "count": 237,
                          "xBinStart": 49.745,
                          "xBinEnd": 55.15,
                          "yBinStart": 25147.35,
                          "yBinEnd": 29113.575
                        },
                        {
                          "count": 92,
                          "xBinStart": 49.745,
                          "xBinEnd": 55.15,
                          "yBinStart": 29113.575,
                          "yBinEnd": 33079.8
                        },
                        {
                          "count": 16,
                          "xBinStart": 49.745,
                          "xBinEnd": 55.15,
                          "yBinStart": 33079.8,
                          "yBinEnd": 37046.025
                        },
                        {
                          "count": 20,
                          "xBinStart": 49.745,
                          "xBinEnd": 55.15,
                          "yBinStart": 37046.025,
                          "yBinEnd": 41012.25
                        },
                        {
                          "count": 7,
                          "xBinStart": 49.745,
                          "xBinEnd": 55.15,
                          "yBinStart": 41012.25,
                          "yBinEnd": 44978.475
                        },
                        {
                          "count": 15,
                          "xBinStart": 49.745,
                          "xBinEnd": 55.15,
                          "yBinStart": 44978.475,
                          "yBinEnd": 48944.7
                        },
                        {
                          "count": 4,
                          "xBinStart": 49.745,
                          "xBinEnd": 55.15,
                          "yBinStart": 48944.7,
                          "yBinEnd": 52910.925
                        },
                        {
                          "count": 16,
                          "xBinStart": 49.745,
                          "xBinEnd": 55.15,
                          "yBinStart": 52910.925,
                          "yBinEnd": 56877.15
                        },
                        {
                          "count": 4,
                          "xBinStart": 49.745,
                          "xBinEnd": 55.15,
                          "yBinStart": 56877.15,
                          "yBinEnd": 60843.375
                        },
                        {
                          "count": 2,
                          "xBinStart": 49.745,
                          "xBinEnd": 55.15,
                          "yBinStart": 60843.375,
                          "yBinEnd": 64809.6
                        },
                        {
                          "count": 2,
                          "xBinStart": 49.745,
                          "xBinEnd": 55.15,
                          "yBinStart": 64809.6,
                          "yBinEnd": 68775.825
                        },
                        {
                          "count": 27,
                          "xBinStart": 55.15,
                          "xBinEnd": 60.555,
                          "yBinStart": 5316.225,
                          "yBinEnd": 9282.45
                        },
                        {
                          "count": 104,
                          "xBinStart": 55.15,
                          "xBinEnd": 60.555,
                          "yBinStart": 9282.45,
                          "yBinEnd": 13248.675
                        },
                        {
                          "count": 260,
                          "xBinStart": 55.15,
                          "xBinEnd": 60.555,
                          "yBinStart": 13248.675,
                          "yBinEnd": 17214.9
                        },
                        {
                          "count": 438,
                          "xBinStart": 55.15,
                          "xBinEnd": 60.555,
                          "yBinStart": 17214.9,
                          "yBinEnd": 21181.125
                        },
                        {
                          "count": 434,
                          "xBinStart": 55.15,
                          "xBinEnd": 60.555,
                          "yBinStart": 21181.125,
                          "yBinEnd": 25147.35
                        },
                        {
                          "count": 510,
                          "xBinStart": 55.15,
                          "xBinEnd": 60.555,
                          "yBinStart": 25147.35,
                          "yBinEnd": 29113.575
                        },
                        {
                          "count": 278,
                          "xBinStart": 55.15,
                          "xBinEnd": 60.555,
                          "yBinStart": 29113.575,
                          "yBinEnd": 33079.8
                        },
                        {
                          "count": 74,
                          "xBinStart": 55.15,
                          "xBinEnd": 60.555,
                          "yBinStart": 33079.8,
                          "yBinEnd": 37046.025
                        },
                        {
                          "count": 26,
                          "xBinStart": 55.15,
                          "xBinEnd": 60.555,
                          "yBinStart": 37046.025,
                          "yBinEnd": 41012.25
                        },
                        {
                          "count": 12,
                          "xBinStart": 55.15,
                          "xBinEnd": 60.555,
                          "yBinStart": 41012.25,
                          "yBinEnd": 44978.475
                        },
                        {
                          "count": 1,
                          "xBinStart": 55.15,
                          "xBinEnd": 60.555,
                          "yBinStart": 44978.475,
                          "yBinEnd": 48944.7
                        },
                        {
                          "count": 32,
                          "xBinStart": 60.555,
                          "xBinEnd": 65.96,
                          "yBinStart": 5316.225,
                          "yBinEnd": 9282.45
                        },
                        {
                          "count": 183,
                          "xBinStart": 60.555,
                          "xBinEnd": 65.96,
                          "yBinStart": 9282.45,
                          "yBinEnd": 13248.675
                        },
                        {
                          "count": 648,
                          "xBinStart": 60.555,
                          "xBinEnd": 65.96,
                          "yBinStart": 13248.675,
                          "yBinEnd": 17214.9
                        },
                        {
                          "count": 759,
                          "xBinStart": 60.555,
                          "xBinEnd": 65.96,
                          "yBinStart": 17214.9,
                          "yBinEnd": 21181.125
                        },
                        {
                          "count": 423,
                          "xBinStart": 60.555,
                          "xBinEnd": 65.96,
                          "yBinStart": 21181.125,
                          "yBinEnd": 25147.35
                        },
                        {
                          "count": 226,
                          "xBinStart": 60.555,
                          "xBinEnd": 65.96,
                          "yBinStart": 25147.35,
                          "yBinEnd": 29113.575
                        },
                        {
                          "count": 135,
                          "xBinStart": 60.555,
                          "xBinEnd": 65.96,
                          "yBinStart": 29113.575,
                          "yBinEnd": 33079.8
                        },
                        {
                          "count": 35,
                          "xBinStart": 60.555,
                          "xBinEnd": 65.96,
                          "yBinStart": 33079.8,
                          "yBinEnd": 37046.025
                        },
                        {
                          "count": 4,
                          "xBinStart": 60.555,
                          "xBinEnd": 65.96,
                          "yBinStart": 37046.025,
                          "yBinEnd": 41012.25
                        },
                        {
                          "count": 8,
                          "xBinStart": 65.96,
                          "xBinEnd": 71.365,
                          "yBinStart": 5316.225,
                          "yBinEnd": 9282.45
                        },
                        {
                          "count": 181,
                          "xBinStart": 65.96,
                          "xBinEnd": 71.365,
                          "yBinStart": 9282.45,
                          "yBinEnd": 13248.675
                        },
                        {
                          "count": 520,
                          "xBinStart": 65.96,
                          "xBinEnd": 71.365,
                          "yBinStart": 13248.675,
                          "yBinEnd": 17214.9
                        },
                        {
                          "count": 451,
                          "xBinStart": 65.96,
                          "xBinEnd": 71.365,
                          "yBinStart": 17214.9,
                          "yBinEnd": 21181.125
                        },
                        {
                          "count": 268,
                          "xBinStart": 65.96,
                          "xBinEnd": 71.365,
                          "yBinStart": 21181.125,
                          "yBinEnd": 25147.35
                        },
                        {
                          "count": 59,
                          "xBinStart": 65.96,
                          "xBinEnd": 71.365,
                          "yBinStart": 25147.35,
                          "yBinEnd": 29113.575
                        },
                        {
                          "count": 24,
                          "xBinStart": 65.96,
                          "xBinEnd": 71.365,
                          "yBinStart": 29113.575,
                          "yBinEnd": 33079.8
                        },
                        {
                          "count": 19,
                          "xBinStart": 65.96,
                          "xBinEnd": 71.365,
                          "yBinStart": 33079.8,
                          "yBinEnd": 37046.025
                        },
                        {
                          "count": 5,
                          "xBinStart": 65.96,
                          "xBinEnd": 71.365,
                          "yBinStart": 37046.025,
                          "yBinEnd": 41012.25
                        },
                        {
                          "count": 1,
                          "xBinStart": 65.96,
                          "xBinEnd": 71.365,
                          "yBinStart": 41012.25,
                          "yBinEnd": 44978.475
                        },
                        {
                          "count": 2,
                          "xBinStart": 65.96,
                          "xBinEnd": 71.365,
                          "yBinStart": 44978.475,
                          "yBinEnd": 48944.7
                        },
                        {
                          "count": 9,
                          "xBinStart": 71.365,
                          "xBinEnd": 76.77,
                          "yBinStart": 5316.225,
                          "yBinEnd": 9282.45
                        },
                        {
                          "count": 97,
                          "xBinStart": 71.365,
                          "xBinEnd": 76.77,
                          "yBinStart": 9282.45,
                          "yBinEnd": 13248.675
                        },
                        {
                          "count": 211,
                          "xBinStart": 71.365,
                          "xBinEnd": 76.77,
                          "yBinStart": 13248.675,
                          "yBinEnd": 17214.9
                        },
                        {
                          "count": 184,
                          "xBinStart": 71.365,
                          "xBinEnd": 76.77,
                          "yBinStart": 17214.9,
                          "yBinEnd": 21181.125
                        },
                        {
                          "count": 124,
                          "xBinStart": 71.365,
                          "xBinEnd": 76.77,
                          "yBinStart": 21181.125,
                          "yBinEnd": 25147.35
                        },
                        {
                          "count": 85,
                          "xBinStart": 71.365,
                          "xBinEnd": 76.77,
                          "yBinStart": 25147.35,
                          "yBinEnd": 29113.575
                        },
                        {
                          "count": 2,
                          "xBinStart": 71.365,
                          "xBinEnd": 76.77,
                          "yBinStart": 29113.575,
                          "yBinEnd": 33079.8
                        },
                        {
                          "count": 1,
                          "xBinStart": 71.365,
                          "xBinEnd": 76.77,
                          "yBinStart": 33079.8,
                          "yBinEnd": 37046.025
                        },
                        {
                          "count": 2,
                          "xBinStart": 71.365,
                          "xBinEnd": 76.77,
                          "yBinStart": 37046.025,
                          "yBinEnd": 41012.25
                        },
                        {
                          "count": 1,
                          "xBinStart": 76.77,
                          "xBinEnd": 82.175,
                          "yBinStart": 5316.225,
                          "yBinEnd": 9282.45
                        },
                        {
                          "count": 33,
                          "xBinStart": 76.77,
                          "xBinEnd": 82.175,
                          "yBinStart": 9282.45,
                          "yBinEnd": 13248.675
                        },
                        {
                          "count": 11,
                          "xBinStart": 76.77,
                          "xBinEnd": 82.175,
                          "yBinStart": 13248.675,
                          "yBinEnd": 17214.9
                        },
                        {
                          "count": 4,
                          "xBinStart": 76.77,
                          "xBinEnd": 82.175,
                          "yBinStart": 17214.9,
                          "yBinEnd": 21181.125
                        },
                        {
                          "count": 1,
                          "xBinStart": 98.39,
                          "xBinEnd": 103.795,
                          "yBinStart": 44978.475,
                          "yBinEnd": 48944.7
                        },
                        {
                          "count": 2,
                          "xBinStart": 98.39,
                          "xBinEnd": 103.795,
                          "yBinStart": 56877.15,
                          "yBinEnd": 60843.375
                        },
                        {
                          "count": 2,
                          "xBinStart": 120.01,
                          "xBinEnd": 125.415,
                          "yBinStart": 13248.675,
                          "yBinEnd": 17214.9
                        },
                        {
                          "count": 1,
                          "xBinStart": 120.01,
                          "xBinEnd": 125.415,
                          "yBinStart": 17214.9,
                          "yBinEnd": 21181.125
                        },
                        {
                          "count": 1,
                          "xBinStart": 120.01,
                          "xBinEnd": 125.415,
                          "yBinStart": 52910.925,
                          "yBinEnd": 56877.15
                        },
                        {
                          "count": 1,
                          "xBinStart": 130.82,
                          "xBinEnd": 136.225,
                          "yBinStart": 9282.45,
                          "yBinEnd": 13248.675
                        },
                        {
                          "count": 24,
                          "xBinStart": 130.82,
                          "xBinEnd": 136.225,
                          "yBinStart": 13248.675,
                          "yBinEnd": 17214.9
                        },
                        {
                          "count": 55,
                          "xBinStart": 130.82,
                          "xBinEnd": 136.225,
                          "yBinStart": 17214.9,
                          "yBinEnd": 21181.125
                        },
                        {
                          "count": 2,
                          "xBinStart": 130.82,
                          "xBinEnd": 136.225,
                          "yBinStart": 21181.125,
                          "yBinEnd": 25147.35
                        },
                        {
                          "count": 2,
                          "xBinStart": 130.82,
                          "xBinEnd": 136.225,
                          "yBinStart": 33079.8,
                          "yBinEnd": 37046.025
                        },
                        {
                          "count": 1,
                          "xBinStart": 130.82,
                          "xBinEnd": 136.225,
                          "yBinStart": 37046.025,
                          "yBinEnd": 41012.25
                        },
                        {
                          "count": 1,
                          "xBinStart": 174.06,
                          "xBinEnd": 179.465,
                          "yBinStart": 33079.8,
                          "yBinEnd": 37046.025
                        },
                        {
                          "count": 3,
                          "xBinStart": 174.06,
                          "xBinEnd": 179.465,
                          "yBinStart": 41012.25,
                          "yBinEnd": 44978.475
                        },
                        {
                          "count": 3,
                          "xBinStart": 184.87,
                          "xBinEnd": 190.275,
                          "yBinStart": 33079.8,
                          "yBinEnd": 37046.025
                        },
                        {
                          "count": 13,
                          "xBinStart": 184.87,
                          "xBinEnd": 190.275,
                          "yBinStart": 37046.025,
                          "yBinEnd": 41012.25
                        },
                        {
                          "count": 5,
                          "xBinStart": 184.87,
                          "xBinEnd": 190.275,
                          "yBinStart": 41012.25,
                          "yBinEnd": 44978.475
                        },
                        {
                          "count": 1,
                          "xBinStart": 201.085,
                          "xBinEnd": 206.49,
                          "yBinStart": 33079.8,
                          "yBinEnd": 37046.025
                        },
                        {
                          "count": 1,
                          "xBinStart": 211.895,
                          "xBinEnd": 217.3,
                          "yBinStart": 33079.8,
                          "yBinEnd": 37046.025
                        }
                      ]
                    },
                    "vislib": "vegalite"
                  },
                  {
                    "config": {
                      "view": {
                        "continuousWidth": 300,
                        "continuousHeight": 300
                      },
                      "axis": {
                        "labelColor": "#505050",
                        "labelFont": "Helvetica Neue",
                        "labelFontSize": 9,
                        "labelFontWeight": 400,
                        "titleFont": "Helvetica Neue",
                        "titleFontSize": 11,
                        "titleFontWeight": 500
                      },
                      "legend": {
                        "labelFont": "Helvetica Neue",
                        "labelFontSize": 9,
                        "labelFontWeight": 400,
                        "titleFont": "Helvetica Neue",
                        "titleFontSize": 10,
                        "titleFontWeight": 500
                      },
                      "mark": {
                        "tooltip": {
                          "content": "encoding"
                        }
                      },
                      "scale": {
                        "maxOpacity": 1,
                        "minOpacity": 0.1
                      },
                      "title": {
                        "font": "Helvetica Neue",
                        "fontSize": 13,
                        "fontWeight": 500
                      }
                    },
                    "data": {
                      "name": "data-182475b22f33a21e349ee9444bae8fcb"
                    },
                    "mark": {
                      "type": "rect"
                    },
                    "encoding": {
                      "opacity": {
                        "field": "count",
                        "legend": null,
                        "scale": {
                          "type": "log"
                        },
                        "type": "quantitative"
                      },
                      "x": {
                        "axis": {
                          "title": "tax"
                        },
                        "bin": {
                          "binned": true
                        },
                        "field": "xBinStart",
                        "type": "quantitative"
                      },
                      "x2": {
                        "field": "xBinEnd"
                      },
                      "y": {
                        "axis": {
                          "title": "mpg"
                        },
                        "bin": {
                          "binned": true
                        },
                        "field": "yBinStart",
                        "type": "quantitative"
                      },
                      "y2": {
                        "field": "yBinEnd"
                      }
                    },
                    "height": 150,
                    "params": [
                      {
                        "name": "param_5",
                        "select": {
                          "type": "interval",
                          "encodings": [
                            "x",
                            "y"
                          ]
                        },
                        "bind": "scales"
                      }
                    ],
                    "width": 160,
                    "$schema": "https://vega.github.io/schema/vega-lite/v5.20.1.json",
                    "datasets": {
                      "data-182475b22f33a21e349ee9444bae8fcb": [
                        {
                          "count": 4,
                          "xBinStart": -0.58,
                          "xBinEnd": 14.5,
                          "yBinStart": 65.96,
                          "yBinEnd": 71.365
                        },
                        {
                          "count": 49,
                          "xBinStart": -0.58,
                          "xBinEnd": 14.5,
                          "yBinStart": 71.365,
                          "yBinEnd": 76.77
                        },
                        {
                          "count": 40,
                          "xBinStart": -0.58,
                          "xBinEnd": 14.5,
                          "yBinStart": 76.77,
                          "yBinEnd": 82.175
                        },
                        {
                          "count": 3,
                          "xBinStart": -0.58,
                          "xBinEnd": 14.5,
                          "yBinStart": 120.01,
                          "yBinEnd": 125.415
                        },
                        {
                          "count": 73,
                          "xBinStart": -0.58,
                          "xBinEnd": 14.5,
                          "yBinStart": 130.82,
                          "yBinEnd": 136.225
                        },
                        {
                          "count": 272,
                          "xBinStart": 14.5,
                          "xBinEnd": 29,
                          "yBinStart": 60.555,
                          "yBinEnd": 65.96
                        },
                        {
                          "count": 695,
                          "xBinStart": 14.5,
                          "xBinEnd": 29,
                          "yBinStart": 65.96,
                          "yBinEnd": 71.365
                        },
                        {
                          "count": 284,
                          "xBinStart": 14.5,
                          "xBinEnd": 29,
                          "yBinStart": 71.365,
                          "yBinEnd": 76.77
                        },
                        {
                          "count": 1,
                          "xBinStart": 29,
                          "xBinEnd": 43.5,
                          "yBinStart": 49.745,
                          "yBinEnd": 55.15
                        },
                        {
                          "count": 30,
                          "xBinStart": 29,
                          "xBinEnd": 43.5,
                          "yBinStart": 55.15,
                          "yBinEnd": 60.555
                        },
                        {
                          "count": 884,
                          "xBinStart": 29,
                          "xBinEnd": 43.5,
                          "yBinStart": 60.555,
                          "yBinEnd": 65.96
                        },
                        {
                          "count": 74,
                          "xBinStart": 29,
                          "xBinEnd": 43.5,
                          "yBinStart": 65.96,
                          "yBinEnd": 71.365
                        },
                        {
                          "count": 1,
                          "xBinStart": 101.5,
                          "xBinEnd": 116,
                          "yBinStart": 49.745,
                          "yBinEnd": 55.15
                        },
                        {
                          "count": 1,
                          "xBinStart": 101.5,
                          "xBinEnd": 116,
                          "yBinStart": 55.15,
                          "yBinEnd": 60.555
                        },
                        {
                          "count": 2,
                          "xBinStart": 116,
                          "xBinEnd": 130.5,
                          "yBinStart": 44.34,
                          "yBinEnd": 49.745
                        },
                        {
                          "count": 243,
                          "xBinStart": 116,
                          "xBinEnd": 130.5,
                          "yBinStart": 49.745,
                          "yBinEnd": 55.15
                        },
                        {
                          "count": 705,
                          "xBinStart": 116,
                          "xBinEnd": 130.5,
                          "yBinStart": 55.15,
                          "yBinEnd": 60.555
                        },
                        {
                          "count": 62,
                          "xBinStart": 116,
                          "xBinEnd": 130.5,
                          "yBinStart": 60.555,
                          "yBinEnd": 65.96
                        },
                        {
                          "count": 4,
                          "xBinStart": 130.5,
                          "xBinEnd": 145,
                          "yBinStart": 0.884,
                          "yBinEnd": 6.505
                        },
                        {
                          "count": 29,
                          "xBinStart": 130.5,
                          "xBinEnd": 145,
                          "yBinStart": 17.315,
                          "yBinEnd": 22.72
                        },
                        {
                          "count": 102,
                          "xBinStart": 130.5,
                          "xBinEnd": 145,
                          "yBinStart": 22.72,
                          "yBinEnd": 28.125
                        },
                        {
                          "count": 501,
                          "xBinStart": 130.5,
                          "xBinEnd": 145,
                          "yBinStart": 28.125,
                          "yBinEnd": 33.53
                        },
                        {
                          "count": 452,
                          "xBinStart": 130.5,
                          "xBinEnd": 145,
                          "yBinStart": 33.53,
                          "yBinEnd": 38.935
                        },
                        {
                          "count": 801,
                          "xBinStart": 130.5,
                          "xBinEnd": 145,
                          "yBinStart": 38.935,
                          "yBinEnd": 44.34
                        },
                        {
                          "count": 1455,
                          "xBinStart": 130.5,
                          "xBinEnd": 145,
                          "yBinStart": 44.34,
                          "yBinEnd": 49.745
                        },
                        {
                          "count": 883,
                          "xBinStart": 130.5,
                          "xBinEnd": 145,
                          "yBinStart": 49.745,
                          "yBinEnd": 55.15
                        },
                        {
                          "count": 1283,
                          "xBinStart": 130.5,
                          "xBinEnd": 145,
                          "yBinStart": 55.15,
                          "yBinEnd": 60.555
                        },
                        {
                          "count": 1141,
                          "xBinStart": 130.5,
                          "xBinEnd": 145,
                          "yBinStart": 60.555,
                          "yBinEnd": 65.96
                        },
                        {
                          "count": 680,
                          "xBinStart": 130.5,
                          "xBinEnd": 145,
                          "yBinStart": 65.96,
                          "yBinEnd": 71.365
                        },
                        {
                          "count": 322,
                          "xBinStart": 130.5,
                          "xBinEnd": 145,
                          "yBinStart": 71.365,
                          "yBinEnd": 76.77
                        },
                        {
                          "count": 8,
                          "xBinStart": 130.5,
                          "xBinEnd": 145,
                          "yBinStart": 76.77,
                          "yBinEnd": 82.175
                        },
                        {
                          "count": 3,
                          "xBinStart": 130.5,
                          "xBinEnd": 145,
                          "yBinStart": 98.39,
                          "yBinEnd": 103.795
                        },
                        {
                          "count": 1,
                          "xBinStart": 130.5,
                          "xBinEnd": 145,
                          "yBinStart": 120.01,
                          "yBinEnd": 125.415
                        },
                        {
                          "count": 12,
                          "xBinStart": 130.5,
                          "xBinEnd": 145,
                          "yBinStart": 130.82,
                          "yBinEnd": 136.225
                        },
                        {
                          "count": 4,
                          "xBinStart": 130.5,
                          "xBinEnd": 145,
                          "yBinStart": 174.06,
                          "yBinEnd": 179.465
                        },
                        {
                          "count": 21,
                          "xBinStart": 130.5,
                          "xBinEnd": 145,
                          "yBinStart": 184.87,
                          "yBinEnd": 190.275
                        },
                        {
                          "count": 1,
                          "xBinStart": 130.5,
                          "xBinEnd": 145,
                          "yBinStart": 201.085,
                          "yBinEnd": 206.49
                        },
                        {
                          "count": 1,
                          "xBinStart": 130.5,
                          "xBinEnd": 145,
                          "yBinStart": 211.895,
                          "yBinEnd": 217.3
                        },
                        {
                          "count": 1,
                          "xBinStart": 145,
                          "xBinEnd": 159.5,
                          "yBinStart": 6.505,
                          "yBinEnd": 11.91
                        },
                        {
                          "count": 6,
                          "xBinStart": 145,
                          "xBinEnd": 159.5,
                          "yBinStart": 17.315,
                          "yBinEnd": 22.72
                        },
                        {
                          "count": 3,
                          "xBinStart": 145,
                          "xBinEnd": 159.5,
                          "yBinStart": 22.72,
                          "yBinEnd": 28.125
                        },
                        {
                          "count": 57,
                          "xBinStart": 145,
                          "xBinEnd": 159.5,
                          "yBinStart": 28.125,
                          "yBinEnd": 33.53
                        },
                        {
                          "count": 63,
                          "xBinStart": 145,
                          "xBinEnd": 159.5,
                          "yBinStart": 33.53,
                          "yBinEnd": 38.935
                        },
                        {
                          "count": 63,
                          "xBinStart": 145,
                          "xBinEnd": 159.5,
                          "yBinStart": 38.935,
                          "yBinEnd": 44.34
                        },
                        {
                          "count": 146,
                          "xBinStart": 145,
                          "xBinEnd": 159.5,
                          "yBinStart": 44.34,
                          "yBinEnd": 49.745
                        },
                        {
                          "count": 138,
                          "xBinStart": 145,
                          "xBinEnd": 159.5,
                          "yBinStart": 49.745,
                          "yBinEnd": 55.15
                        },
                        {
                          "count": 145,
                          "xBinStart": 145,
                          "xBinEnd": 159.5,
                          "yBinStart": 55.15,
                          "yBinEnd": 60.555
                        },
                        {
                          "count": 86,
                          "xBinStart": 145,
                          "xBinEnd": 159.5,
                          "yBinStart": 60.555,
                          "yBinEnd": 65.96
                        },
                        {
                          "count": 85,
                          "xBinStart": 145,
                          "xBinEnd": 159.5,
                          "yBinStart": 65.96,
                          "yBinEnd": 71.365
                        },
                        {
                          "count": 60,
                          "xBinStart": 145,
                          "xBinEnd": 159.5,
                          "yBinStart": 71.365,
                          "yBinEnd": 76.77
                        },
                        {
                          "count": 1,
                          "xBinStart": 145,
                          "xBinEnd": 159.5,
                          "yBinStart": 76.77,
                          "yBinEnd": 82.175
                        },
                        {
                          "count": 28,
                          "xBinStart": 159.5,
                          "xBinEnd": 174,
                          "yBinStart": 38.935,
                          "yBinEnd": 44.34
                        },
                        {
                          "count": 68,
                          "xBinStart": 159.5,
                          "xBinEnd": 174,
                          "yBinStart": 44.34,
                          "yBinEnd": 49.745
                        },
                        {
                          "count": 155,
                          "xBinStart": 159.5,
                          "xBinEnd": 174,
                          "yBinStart": 49.745,
                          "yBinEnd": 55.15
                        },
                        {
                          "count": 1,
                          "xBinStart": 174,
                          "xBinEnd": 188.5,
                          "yBinStart": 44.34,
                          "yBinEnd": 49.745
                        },
                        {
                          "count": 120,
                          "xBinStart": 188.5,
                          "xBinEnd": 203,
                          "yBinStart": 38.935,
                          "yBinEnd": 44.34
                        },
                        {
                          "count": 155,
                          "xBinStart": 188.5,
                          "xBinEnd": 203,
                          "yBinStart": 44.34,
                          "yBinEnd": 49.745
                        },
                        {
                          "count": 26,
                          "xBinStart": 203,
                          "xBinEnd": 217.5,
                          "yBinStart": 38.935,
                          "yBinEnd": 44.34
                        },
                        {
                          "count": 35,
                          "xBinStart": 203,
                          "xBinEnd": 217.5,
                          "yBinStart": 44.34,
                          "yBinEnd": 49.745
                        },
                        {
                          "count": 1,
                          "xBinStart": 217.5,
                          "xBinEnd": 232,
                          "yBinStart": 38.935,
                          "yBinEnd": 44.34
                        },
                        {
                          "count": 28,
                          "xBinStart": 232,
                          "xBinEnd": 246.5,
                          "yBinStart": 33.53,
                          "yBinEnd": 38.935
                        },
                        {
                          "count": 20,
                          "xBinStart": 232,
                          "xBinEnd": 246.5,
                          "yBinStart": 38.935,
                          "yBinEnd": 44.34
                        },
                        {
                          "count": 13,
                          "xBinStart": 232,
                          "xBinEnd": 246.5,
                          "yBinStart": 44.34,
                          "yBinEnd": 49.745
                        },
                        {
                          "count": 16,
                          "xBinStart": 246.5,
                          "xBinEnd": 261,
                          "yBinStart": 28.125,
                          "yBinEnd": 33.53
                        },
                        {
                          "count": 71,
                          "xBinStart": 246.5,
                          "xBinEnd": 261,
                          "yBinStart": 33.53,
                          "yBinEnd": 38.935
                        },
                        {
                          "count": 31,
                          "xBinStart": 246.5,
                          "xBinEnd": 261,
                          "yBinStart": 38.935,
                          "yBinEnd": 44.34
                        },
                        {
                          "count": 4,
                          "xBinStart": 261,
                          "xBinEnd": 275.5,
                          "yBinStart": 28.125,
                          "yBinEnd": 33.53
                        },
                        {
                          "count": 12,
                          "xBinStart": 261,
                          "xBinEnd": 275.5,
                          "yBinStart": 33.53,
                          "yBinEnd": 38.935
                        },
                        {
                          "count": 13,
                          "xBinStart": 261,
                          "xBinEnd": 275.5,
                          "yBinStart": 38.935,
                          "yBinEnd": 44.34
                        },
                        {
                          "count": 7,
                          "xBinStart": 290,
                          "xBinEnd": 304.5,
                          "yBinStart": 28.125,
                          "yBinEnd": 33.53
                        },
                        {
                          "count": 44,
                          "xBinStart": 290,
                          "xBinEnd": 304.5,
                          "yBinStart": 33.53,
                          "yBinEnd": 38.935
                        },
                        {
                          "count": 39,
                          "xBinStart": 290,
                          "xBinEnd": 304.5,
                          "yBinStart": 38.935,
                          "yBinEnd": 44.34
                        },
                        {
                          "count": 2,
                          "xBinStart": 304.5,
                          "xBinEnd": 319,
                          "yBinStart": 28.125,
                          "yBinEnd": 33.53
                        },
                        {
                          "count": 22,
                          "xBinStart": 304.5,
                          "xBinEnd": 319,
                          "yBinStart": 33.53,
                          "yBinEnd": 38.935
                        },
                        {
                          "count": 9,
                          "xBinStart": 304.5,
                          "xBinEnd": 319,
                          "yBinStart": 38.935,
                          "yBinEnd": 44.34
                        },
                        {
                          "count": 17,
                          "xBinStart": 319,
                          "xBinEnd": 333.5,
                          "yBinStart": 28.125,
                          "yBinEnd": 33.53
                        },
                        {
                          "count": 22,
                          "xBinStart": 319,
                          "xBinEnd": 333.5,
                          "yBinStart": 33.53,
                          "yBinEnd": 38.935
                        },
                        {
                          "count": 3,
                          "xBinStart": 536.5,
                          "xBinEnd": 551,
                          "yBinStart": 28.125,
                          "yBinEnd": 33.53
                        },
                        {
                          "count": 7,
                          "xBinStart": 551,
                          "xBinEnd": 565.5,
                          "yBinStart": 22.72,
                          "yBinEnd": 28.125
                        },
                        {
                          "count": 18,
                          "xBinStart": 551,
                          "xBinEnd": 565.5,
                          "yBinStart": 28.125,
                          "yBinEnd": 33.53
                        },
                        {
                          "count": 3,
                          "xBinStart": 565.5,
                          "xBinEnd": 580,
                          "yBinStart": 17.315,
                          "yBinEnd": 22.72
                        },
                        {
                          "count": 19,
                          "xBinStart": 565.5,
                          "xBinEnd": 580,
                          "yBinStart": 22.72,
                          "yBinEnd": 28.125
                        }
                      ]
                    },
                    "vislib": "vegalite"
                  },
                  {
                    "config": {
                      "view": {
                        "continuousWidth": 300,
                        "continuousHeight": 300
                      },
                      "axis": {
                        "labelColor": "#505050",
                        "labelFont": "Helvetica Neue",
                        "labelFontSize": 9,
                        "labelFontWeight": 400,
                        "titleFont": "Helvetica Neue",
                        "titleFontSize": 11,
                        "titleFontWeight": 500
                      },
                      "legend": {
                        "labelFont": "Helvetica Neue",
                        "labelFontSize": 9,
                        "labelFontWeight": 400,
                        "titleFont": "Helvetica Neue",
                        "titleFontSize": 10,
                        "titleFontWeight": 500
                      },
                      "mark": {
                        "tooltip": {
                          "content": "encoding"
                        }
                      },
                      "scale": {
                        "maxOpacity": 1,
                        "minOpacity": 0.1
                      },
                      "title": {
                        "font": "Helvetica Neue",
                        "fontSize": 13,
                        "fontWeight": 500
                      }
                    },
                    "data": {
                      "name": "data-7671f275f5976c0115138427d216c75e"
                    },
                    "mark": {
                      "type": "rect"
                    },
                    "encoding": {
                      "opacity": {
                        "field": "count",
                        "legend": null,
                        "scale": {
                          "type": "log"
                        },
                        "type": "quantitative"
                      },
                      "x": {
                        "axis": {
                          "title": "mileage"
                        },
                        "bin": {
                          "binned": true
                        },
                        "field": "xBinStart",
                        "type": "quantitative"
                      },
                      "x2": {
                        "field": "xBinEnd"
                      },
                      "y": {
                        "axis": {
                          "title": "price"
                        },
                        "bin": {
                          "binned": true
                        },
                        "field": "yBinStart",
                        "type": "quantitative"
                      },
                      "y2": {
                        "field": "yBinEnd"
                      }
                    },
                    "height": 150,
                    "params": [
                      {
                        "name": "param_6",
                        "select": {
                          "type": "interval",
                          "encodings": [
                            "x",
                            "y"
                          ]
                        },
                        "bind": "scales"
                      }
                    ],
                    "width": 160,
                    "$schema": "https://vega.github.io/schema/vega-lite/v5.20.1.json",
                    "datasets": {
                      "data-7671f275f5976c0115138427d216c75e": [
                        {
                          "count": 2,
                          "xBinStart": -257.999,
                          "xBinEnd": 6475.975,
                          "yBinStart": 9282.45,
                          "yBinEnd": 13248.675
                        },
                        {
                          "count": 16,
                          "xBinStart": -257.999,
                          "xBinEnd": 6475.975,
                          "yBinStart": 13248.675,
                          "yBinEnd": 17214.9
                        },
                        {
                          "count": 119,
                          "xBinStart": -257.999,
                          "xBinEnd": 6475.975,
                          "yBinStart": 17214.9,
                          "yBinEnd": 21181.125
                        },
                        {
                          "count": 598,
                          "xBinStart": -257.999,
                          "xBinEnd": 6475.975,
                          "yBinStart": 21181.125,
                          "yBinEnd": 25147.35
                        },
                        {
                          "count": 775,
                          "xBinStart": -257.999,
                          "xBinEnd": 6475.975,
                          "yBinStart": 25147.35,
                          "yBinEnd": 29113.575
                        },
                        {
                          "count": 574,
                          "xBinStart": -257.999,
                          "xBinEnd": 6475.975,
                          "yBinStart": 29113.575,
                          "yBinEnd": 33079.8
                        },
                        {
                          "count": 351,
                          "xBinStart": -257.999,
                          "xBinEnd": 6475.975,
                          "yBinStart": 33079.8,
                          "yBinEnd": 37046.025
                        },
                        {
                          "count": 256,
                          "xBinStart": -257.999,
                          "xBinEnd": 6475.975,
                          "yBinStart": 37046.025,
                          "yBinEnd": 41012.25
                        },
                        {
                          "count": 157,
                          "xBinStart": -257.999,
                          "xBinEnd": 6475.975,
                          "yBinStart": 41012.25,
                          "yBinEnd": 44978.475
                        },
                        {
                          "count": 157,
                          "xBinStart": -257.999,
                          "xBinEnd": 6475.975,
                          "yBinStart": 44978.475,
                          "yBinEnd": 48944.7
                        },
                        {
                          "count": 111,
                          "xBinStart": -257.999,
                          "xBinEnd": 6475.975,
                          "yBinStart": 48944.7,
                          "yBinEnd": 52910.925
                        },
                        {
                          "count": 84,
                          "xBinStart": -257.999,
                          "xBinEnd": 6475.975,
                          "yBinStart": 52910.925,
                          "yBinEnd": 56877.15
                        },
                        {
                          "count": 58,
                          "xBinStart": -257.999,
                          "xBinEnd": 6475.975,
                          "yBinStart": 56877.15,
                          "yBinEnd": 60843.375
                        },
                        {
                          "count": 23,
                          "xBinStart": -257.999,
                          "xBinEnd": 6475.975,
                          "yBinStart": 60843.375,
                          "yBinEnd": 64809.6
                        },
                        {
                          "count": 33,
                          "xBinStart": -257.999,
                          "xBinEnd": 6475.975,
                          "yBinStart": 64809.6,
                          "yBinEnd": 68775.825
                        },
                        {
                          "count": 16,
                          "xBinStart": -257.999,
                          "xBinEnd": 6475.975,
                          "yBinStart": 68775.825,
                          "yBinEnd": 72742.05
                        },
                        {
                          "count": 15,
                          "xBinStart": -257.999,
                          "xBinEnd": 6475.975,
                          "yBinStart": 72742.05,
                          "yBinEnd": 76708.275
                        },
                        {
                          "count": 12,
                          "xBinStart": -257.999,
                          "xBinEnd": 6475.975,
                          "yBinStart": 76708.275,
                          "yBinEnd": 80674.5
                        },
                        {
                          "count": 2,
                          "xBinStart": -257.999,
                          "xBinEnd": 6475.975,
                          "yBinStart": 80674.5,
                          "yBinEnd": 84640.725
                        },
                        {
                          "count": 4,
                          "xBinStart": -257.999,
                          "xBinEnd": 6475.975,
                          "yBinStart": 84640.725,
                          "yBinEnd": 88606.95
                        },
                        {
                          "count": 5,
                          "xBinStart": -257.999,
                          "xBinEnd": 6475.975,
                          "yBinStart": 88606.95,
                          "yBinEnd": 92573.175
                        },
                        {
                          "count": 3,
                          "xBinStart": -257.999,
                          "xBinEnd": 6475.975,
                          "yBinStart": 92573.175,
                          "yBinEnd": 96539.4
                        },
                        {
                          "count": 3,
                          "xBinStart": -257.999,
                          "xBinEnd": 6475.975,
                          "yBinStart": 96539.4,
                          "yBinEnd": 100505.625
                        },
                        {
                          "count": 1,
                          "xBinStart": -257.999,
                          "xBinEnd": 6475.975,
                          "yBinStart": 100505.625,
                          "yBinEnd": 104471.85
                        },
                        {
                          "count": 2,
                          "xBinStart": -257.999,
                          "xBinEnd": 6475.975,
                          "yBinStart": 104471.85,
                          "yBinEnd": 108438.075
                        },
                        {
                          "count": 4,
                          "xBinStart": -257.999,
                          "xBinEnd": 6475.975,
                          "yBinStart": 108438.075,
                          "yBinEnd": 112404.3
                        },
                        {
                          "count": 2,
                          "xBinStart": -257.999,
                          "xBinEnd": 6475.975,
                          "yBinStart": 112404.3,
                          "yBinEnd": 116370.525
                        },
                        {
                          "count": 1,
                          "xBinStart": -257.999,
                          "xBinEnd": 6475.975,
                          "yBinStart": 120336.75,
                          "yBinEnd": 124302.975
                        },
                        {
                          "count": 4,
                          "xBinStart": -257.999,
                          "xBinEnd": 6475.975,
                          "yBinStart": 124302.975,
                          "yBinEnd": 128269.2
                        },
                        {
                          "count": 1,
                          "xBinStart": -257.999,
                          "xBinEnd": 6475.975,
                          "yBinStart": 128269.2,
                          "yBinEnd": 132235.425
                        },
                        {
                          "count": 1,
                          "xBinStart": -257.999,
                          "xBinEnd": 6475.975,
                          "yBinStart": 132235.425,
                          "yBinEnd": 136201.65
                        },
                        {
                          "count": 2,
                          "xBinStart": -257.999,
                          "xBinEnd": 6475.975,
                          "yBinStart": 136201.65,
                          "yBinEnd": 140167.875
                        },
                        {
                          "count": 1,
                          "xBinStart": -257.999,
                          "xBinEnd": 6475.975,
                          "yBinStart": 140167.875,
                          "yBinEnd": 144134.1
                        },
                        {
                          "count": 1,
                          "xBinStart": -257.999,
                          "xBinEnd": 6475.975,
                          "yBinStart": 148100.325,
                          "yBinEnd": 152066.55
                        },
                        {
                          "count": 1,
                          "xBinStart": -257.999,
                          "xBinEnd": 6475.975,
                          "yBinStart": 152066.55,
                          "yBinEnd": 156032.775
                        },
                        {
                          "count": 1,
                          "xBinStart": -257.999,
                          "xBinEnd": 6475.975,
                          "yBinStart": 156032.775,
                          "yBinEnd": 159999
                        },
                        {
                          "count": 5,
                          "xBinStart": 6475.975,
                          "xBinEnd": 12950.95,
                          "yBinStart": 9282.45,
                          "yBinEnd": 13248.675
                        },
                        {
                          "count": 79,
                          "xBinStart": 6475.975,
                          "xBinEnd": 12950.95,
                          "yBinStart": 13248.675,
                          "yBinEnd": 17214.9
                        },
                        {
                          "count": 404,
                          "xBinStart": 6475.975,
                          "xBinEnd": 12950.95,
                          "yBinStart": 17214.9,
                          "yBinEnd": 21181.125
                        },
                        {
                          "count": 506,
                          "xBinStart": 6475.975,
                          "xBinEnd": 12950.95,
                          "yBinStart": 21181.125,
                          "yBinEnd": 25147.35
                        },
                        {
                          "count": 486,
                          "xBinStart": 6475.975,
                          "xBinEnd": 12950.95,
                          "yBinStart": 25147.35,
                          "yBinEnd": 29113.575
                        },
                        {
                          "count": 302,
                          "xBinStart": 6475.975,
                          "xBinEnd": 12950.95,
                          "yBinStart": 29113.575,
                          "yBinEnd": 33079.8
                        },
                        {
                          "count": 121,
                          "xBinStart": 6475.975,
                          "xBinEnd": 12950.95,
                          "yBinStart": 33079.8,
                          "yBinEnd": 37046.025
                        },
                        {
                          "count": 78,
                          "xBinStart": 6475.975,
                          "xBinEnd": 12950.95,
                          "yBinStart": 37046.025,
                          "yBinEnd": 41012.25
                        },
                        {
                          "count": 81,
                          "xBinStart": 6475.975,
                          "xBinEnd": 12950.95,
                          "yBinStart": 41012.25,
                          "yBinEnd": 44978.475
                        },
                        {
                          "count": 66,
                          "xBinStart": 6475.975,
                          "xBinEnd": 12950.95,
                          "yBinStart": 44978.475,
                          "yBinEnd": 48944.7
                        },
                        {
                          "count": 33,
                          "xBinStart": 6475.975,
                          "xBinEnd": 12950.95,
                          "yBinStart": 48944.7,
                          "yBinEnd": 52910.925
                        },
                        {
                          "count": 18,
                          "xBinStart": 6475.975,
                          "xBinEnd": 12950.95,
                          "yBinStart": 52910.925,
                          "yBinEnd": 56877.15
                        },
                        {
                          "count": 15,
                          "xBinStart": 6475.975,
                          "xBinEnd": 12950.95,
                          "yBinStart": 56877.15,
                          "yBinEnd": 60843.375
                        },
                        {
                          "count": 4,
                          "xBinStart": 6475.975,
                          "xBinEnd": 12950.95,
                          "yBinStart": 60843.375,
                          "yBinEnd": 64809.6
                        },
                        {
                          "count": 2,
                          "xBinStart": 6475.975,
                          "xBinEnd": 12950.95,
                          "yBinStart": 64809.6,
                          "yBinEnd": 68775.825
                        },
                        {
                          "count": 1,
                          "xBinStart": 6475.975,
                          "xBinEnd": 12950.95,
                          "yBinStart": 68775.825,
                          "yBinEnd": 72742.05
                        },
                        {
                          "count": 2,
                          "xBinStart": 6475.975,
                          "xBinEnd": 12950.95,
                          "yBinStart": 72742.05,
                          "yBinEnd": 76708.275
                        },
                        {
                          "count": 4,
                          "xBinStart": 6475.975,
                          "xBinEnd": 12950.95,
                          "yBinStart": 76708.275,
                          "yBinEnd": 80674.5
                        },
                        {
                          "count": 2,
                          "xBinStart": 6475.975,
                          "xBinEnd": 12950.95,
                          "yBinStart": 88606.95,
                          "yBinEnd": 92573.175
                        },
                        {
                          "count": 1,
                          "xBinStart": 6475.975,
                          "xBinEnd": 12950.95,
                          "yBinStart": 96539.4,
                          "yBinEnd": 100505.625
                        },
                        {
                          "count": 1,
                          "xBinStart": 6475.975,
                          "xBinEnd": 12950.95,
                          "yBinStart": 100505.625,
                          "yBinEnd": 104471.85
                        },
                        {
                          "count": 1,
                          "xBinStart": 6475.975,
                          "xBinEnd": 12950.95,
                          "yBinStart": 104471.85,
                          "yBinEnd": 108438.075
                        },
                        {
                          "count": 1,
                          "xBinStart": 6475.975,
                          "xBinEnd": 12950.95,
                          "yBinStart": 136201.65,
                          "yBinEnd": 140167.875
                        },
                        {
                          "count": 18,
                          "xBinStart": 12950.95,
                          "xBinEnd": 19425.925,
                          "yBinStart": 9282.45,
                          "yBinEnd": 13248.675
                        },
                        {
                          "count": 228,
                          "xBinStart": 12950.95,
                          "xBinEnd": 19425.925,
                          "yBinStart": 13248.675,
                          "yBinEnd": 17214.9
                        },
                        {
                          "count": 621,
                          "xBinStart": 12950.95,
                          "xBinEnd": 19425.925,
                          "yBinStart": 17214.9,
                          "yBinEnd": 21181.125
                        },
                        {
                          "count": 461,
                          "xBinStart": 12950.95,
                          "xBinEnd": 19425.925,
                          "yBinStart": 21181.125,
                          "yBinEnd": 25147.35
                        },
                        {
                          "count": 294,
                          "xBinStart": 12950.95,
                          "xBinEnd": 19425.925,
                          "yBinStart": 25147.35,
                          "yBinEnd": 29113.575
                        },
                        {
                          "count": 111,
                          "xBinStart": 12950.95,
                          "xBinEnd": 19425.925,
                          "yBinStart": 29113.575,
                          "yBinEnd": 33079.8
                        },
                        {
                          "count": 53,
                          "xBinStart": 12950.95,
                          "xBinEnd": 19425.925,
                          "yBinStart": 33079.8,
                          "yBinEnd": 37046.025
                        },
                        {
                          "count": 28,
                          "xBinStart": 12950.95,
                          "xBinEnd": 19425.925,
                          "yBinStart": 37046.025,
                          "yBinEnd": 41012.25
                        },
                        {
                          "count": 20,
                          "xBinStart": 12950.95,
                          "xBinEnd": 19425.925,
                          "yBinStart": 41012.25,
                          "yBinEnd": 44978.475
                        },
                        {
                          "count": 9,
                          "xBinStart": 12950.95,
                          "xBinEnd": 19425.925,
                          "yBinStart": 44978.475,
                          "yBinEnd": 48944.7
                        },
                        {
                          "count": 3,
                          "xBinStart": 12950.95,
                          "xBinEnd": 19425.925,
                          "yBinStart": 48944.7,
                          "yBinEnd": 52910.925
                        },
                        {
                          "count": 2,
                          "xBinStart": 12950.95,
                          "xBinEnd": 19425.925,
                          "yBinStart": 52910.925,
                          "yBinEnd": 56877.15
                        },
                        {
                          "count": 2,
                          "xBinStart": 12950.95,
                          "xBinEnd": 19425.925,
                          "yBinStart": 56877.15,
                          "yBinEnd": 60843.375
                        },
                        {
                          "count": 1,
                          "xBinStart": 12950.95,
                          "xBinEnd": 19425.925,
                          "yBinStart": 60843.375,
                          "yBinEnd": 64809.6
                        },
                        {
                          "count": 3,
                          "xBinStart": 12950.95,
                          "xBinEnd": 19425.925,
                          "yBinStart": 64809.6,
                          "yBinEnd": 68775.825
                        },
                        {
                          "count": 1,
                          "xBinStart": 12950.95,
                          "xBinEnd": 19425.925,
                          "yBinStart": 76708.275,
                          "yBinEnd": 80674.5
                        },
                        {
                          "count": 2,
                          "xBinStart": 12950.95,
                          "xBinEnd": 19425.925,
                          "yBinStart": 132235.425,
                          "yBinEnd": 136201.65
                        },
                        {
                          "count": 1,
                          "xBinStart": 12950.95,
                          "xBinEnd": 19425.925,
                          "yBinStart": 136201.65,
                          "yBinEnd": 140167.875
                        },
                        {
                          "count": 47,
                          "xBinStart": 19425.925,
                          "xBinEnd": 25900.9,
                          "yBinStart": 9282.45,
                          "yBinEnd": 13248.675
                        },
                        {
                          "count": 330,
                          "xBinStart": 19425.925,
                          "xBinEnd": 25900.9,
                          "yBinStart": 13248.675,
                          "yBinEnd": 17214.9
                        },
                        {
                          "count": 486,
                          "xBinStart": 19425.925,
                          "xBinEnd": 25900.9,
                          "yBinStart": 17214.9,
                          "yBinEnd": 21181.125
                        },
                        {
                          "count": 240,
                          "xBinStart": 19425.925,
                          "xBinEnd": 25900.9,
                          "yBinStart": 21181.125,
                          "yBinEnd": 25147.35
                        },
                        {
                          "count": 88,
                          "xBinStart": 19425.925,
                          "xBinEnd": 25900.9,
                          "yBinStart": 25147.35,
                          "yBinEnd": 29113.575
                        },
                        {
                          "count": 72,
                          "xBinStart": 19425.925,
                          "xBinEnd": 25900.9,
                          "yBinStart": 29113.575,
                          "yBinEnd": 33079.8
                        },
                        {
                          "count": 31,
                          "xBinStart": 19425.925,
                          "xBinEnd": 25900.9,
                          "yBinStart": 33079.8,
                          "yBinEnd": 37046.025
                        },
                        {
                          "count": 22,
                          "xBinStart": 19425.925,
                          "xBinEnd": 25900.9,
                          "yBinStart": 37046.025,
                          "yBinEnd": 41012.25
                        },
                        {
                          "count": 5,
                          "xBinStart": 19425.925,
                          "xBinEnd": 25900.9,
                          "yBinStart": 41012.25,
                          "yBinEnd": 44978.475
                        },
                        {
                          "count": 6,
                          "xBinStart": 19425.925,
                          "xBinEnd": 25900.9,
                          "yBinStart": 44978.475,
                          "yBinEnd": 48944.7
                        },
                        {
                          "count": 6,
                          "xBinStart": 19425.925,
                          "xBinEnd": 25900.9,
                          "yBinStart": 48944.7,
                          "yBinEnd": 52910.925
                        },
                        {
                          "count": 2,
                          "xBinStart": 19425.925,
                          "xBinEnd": 25900.9,
                          "yBinStart": 52910.925,
                          "yBinEnd": 56877.15
                        },
                        {
                          "count": 2,
                          "xBinStart": 19425.925,
                          "xBinEnd": 25900.9,
                          "yBinStart": 56877.15,
                          "yBinEnd": 60843.375
                        },
                        {
                          "count": 1,
                          "xBinStart": 19425.925,
                          "xBinEnd": 25900.9,
                          "yBinStart": 76708.275,
                          "yBinEnd": 80674.5
                        },
                        {
                          "count": 1,
                          "xBinStart": 19425.925,
                          "xBinEnd": 25900.9,
                          "yBinStart": 80674.5,
                          "yBinEnd": 84640.725
                        },
                        {
                          "count": 42,
                          "xBinStart": 25900.9,
                          "xBinEnd": 32375.875,
                          "yBinStart": 9282.45,
                          "yBinEnd": 13248.675
                        },
                        {
                          "count": 338,
                          "xBinStart": 25900.9,
                          "xBinEnd": 32375.875,
                          "yBinStart": 13248.675,
                          "yBinEnd": 17214.9
                        },
                        {
                          "count": 424,
                          "xBinStart": 25900.9,
                          "xBinEnd": 32375.875,
                          "yBinStart": 17214.9,
                          "yBinEnd": 21181.125
                        },
                        {
                          "count": 148,
                          "xBinStart": 25900.9,
                          "xBinEnd": 32375.875,
                          "yBinStart": 21181.125,
                          "yBinEnd": 25147.35
                        },
                        {
                          "count": 94,
                          "xBinStart": 25900.9,
                          "xBinEnd": 32375.875,
                          "yBinStart": 25147.35,
                          "yBinEnd": 29113.575
                        },
                        {
                          "count": 47,
                          "xBinStart": 25900.9,
                          "xBinEnd": 32375.875,
                          "yBinStart": 29113.575,
                          "yBinEnd": 33079.8
                        },
                        {
                          "count": 18,
                          "xBinStart": 25900.9,
                          "xBinEnd": 32375.875,
                          "yBinStart": 33079.8,
                          "yBinEnd": 37046.025
                        },
                        {
                          "count": 6,
                          "xBinStart": 25900.9,
                          "xBinEnd": 32375.875,
                          "yBinStart": 37046.025,
                          "yBinEnd": 41012.25
                        },
                        {
                          "count": 4,
                          "xBinStart": 25900.9,
                          "xBinEnd": 32375.875,
                          "yBinStart": 41012.25,
                          "yBinEnd": 44978.475
                        },
                        {
                          "count": 1,
                          "xBinStart": 25900.9,
                          "xBinEnd": 32375.875,
                          "yBinStart": 44978.475,
                          "yBinEnd": 48944.7
                        },
                        {
                          "count": 1,
                          "xBinStart": 25900.9,
                          "xBinEnd": 32375.875,
                          "yBinStart": 48944.7,
                          "yBinEnd": 52910.925
                        },
                        {
                          "count": 1,
                          "xBinStart": 25900.9,
                          "xBinEnd": 32375.875,
                          "yBinStart": 60843.375,
                          "yBinEnd": 64809.6
                        },
                        {
                          "count": 1,
                          "xBinStart": 32375.875,
                          "xBinEnd": 38850.85,
                          "yBinStart": 5316.225,
                          "yBinEnd": 9282.45
                        },
                        {
                          "count": 76,
                          "xBinStart": 32375.875,
                          "xBinEnd": 38850.85,
                          "yBinStart": 9282.45,
                          "yBinEnd": 13248.675
                        },
                        {
                          "count": 312,
                          "xBinStart": 32375.875,
                          "xBinEnd": 38850.85,
                          "yBinStart": 13248.675,
                          "yBinEnd": 17214.9
                        },
                        {
                          "count": 283,
                          "xBinStart": 32375.875,
                          "xBinEnd": 38850.85,
                          "yBinStart": 17214.9,
                          "yBinEnd": 21181.125
                        },
                        {
                          "count": 78,
                          "xBinStart": 32375.875,
                          "xBinEnd": 38850.85,
                          "yBinStart": 21181.125,
                          "yBinEnd": 25147.35
                        },
                        {
                          "count": 75,
                          "xBinStart": 32375.875,
                          "xBinEnd": 38850.85,
                          "yBinStart": 25147.35,
                          "yBinEnd": 29113.575
                        },
                        {
                          "count": 22,
                          "xBinStart": 32375.875,
                          "xBinEnd": 38850.85,
                          "yBinStart": 29113.575,
                          "yBinEnd": 33079.8
                        },
                        {
                          "count": 7,
                          "xBinStart": 32375.875,
                          "xBinEnd": 38850.85,
                          "yBinStart": 33079.8,
                          "yBinEnd": 37046.025
                        },
                        {
                          "count": 2,
                          "xBinStart": 32375.875,
                          "xBinEnd": 38850.85,
                          "yBinStart": 37046.025,
                          "yBinEnd": 41012.25
                        },
                        {
                          "count": 1,
                          "xBinStart": 32375.875,
                          "xBinEnd": 38850.85,
                          "yBinStart": 41012.25,
                          "yBinEnd": 44978.475
                        },
                        {
                          "count": 1,
                          "xBinStart": 32375.875,
                          "xBinEnd": 38850.85,
                          "yBinStart": 44978.475,
                          "yBinEnd": 48944.7
                        },
                        {
                          "count": 2,
                          "xBinStart": 32375.875,
                          "xBinEnd": 38850.85,
                          "yBinStart": 52910.925,
                          "yBinEnd": 56877.15
                        },
                        {
                          "count": 1,
                          "xBinStart": 32375.875,
                          "xBinEnd": 38850.85,
                          "yBinStart": 68775.825,
                          "yBinEnd": 72742.05
                        },
                        {
                          "count": 6,
                          "xBinStart": 38850.85,
                          "xBinEnd": 45325.825,
                          "yBinStart": 5316.225,
                          "yBinEnd": 9282.45
                        },
                        {
                          "count": 118,
                          "xBinStart": 38850.85,
                          "xBinEnd": 45325.825,
                          "yBinStart": 9282.45,
                          "yBinEnd": 13248.675
                        },
                        {
                          "count": 269,
                          "xBinStart": 38850.85,
                          "xBinEnd": 45325.825,
                          "yBinStart": 13248.675,
                          "yBinEnd": 17214.9
                        },
                        {
                          "count": 197,
                          "xBinStart": 38850.85,
                          "xBinEnd": 45325.825,
                          "yBinStart": 17214.9,
                          "yBinEnd": 21181.125
                        },
                        {
                          "count": 53,
                          "xBinStart": 38850.85,
                          "xBinEnd": 45325.825,
                          "yBinStart": 21181.125,
                          "yBinEnd": 25147.35
                        },
                        {
                          "count": 22,
                          "xBinStart": 38850.85,
                          "xBinEnd": 45325.825,
                          "yBinStart": 25147.35,
                          "yBinEnd": 29113.575
                        },
                        {
                          "count": 18,
                          "xBinStart": 38850.85,
                          "xBinEnd": 45325.825,
                          "yBinStart": 29113.575,
                          "yBinEnd": 33079.8
                        },
                        {
                          "count": 12,
                          "xBinStart": 38850.85,
                          "xBinEnd": 45325.825,
                          "yBinStart": 33079.8,
                          "yBinEnd": 37046.025
                        },
                        {
                          "count": 2,
                          "xBinStart": 38850.85,
                          "xBinEnd": 45325.825,
                          "yBinStart": 37046.025,
                          "yBinEnd": 41012.25
                        },
                        {
                          "count": 3,
                          "xBinStart": 38850.85,
                          "xBinEnd": 45325.825,
                          "yBinStart": 44978.475,
                          "yBinEnd": 48944.7
                        },
                        {
                          "count": 1,
                          "xBinStart": 38850.85,
                          "xBinEnd": 45325.825,
                          "yBinStart": 52910.925,
                          "yBinEnd": 56877.15
                        },
                        {
                          "count": 1,
                          "xBinStart": 38850.85,
                          "xBinEnd": 45325.825,
                          "yBinStart": 56877.15,
                          "yBinEnd": 60843.375
                        },
                        {
                          "count": 1,
                          "xBinStart": 38850.85,
                          "xBinEnd": 45325.825,
                          "yBinStart": 64809.6,
                          "yBinEnd": 68775.825
                        },
                        {
                          "count": 11,
                          "xBinStart": 45325.825,
                          "xBinEnd": 51800.8,
                          "yBinStart": 5316.225,
                          "yBinEnd": 9282.45
                        },
                        {
                          "count": 108,
                          "xBinStart": 45325.825,
                          "xBinEnd": 51800.8,
                          "yBinStart": 9282.45,
                          "yBinEnd": 13248.675
                        },
                        {
                          "count": 180,
                          "xBinStart": 45325.825,
                          "xBinEnd": 51800.8,
                          "yBinStart": 13248.675,
                          "yBinEnd": 17214.9
                        },
                        {
                          "count": 99,
                          "xBinStart": 45325.825,
                          "xBinEnd": 51800.8,
                          "yBinStart": 17214.9,
                          "yBinEnd": 21181.125
                        },
                        {
                          "count": 27,
                          "xBinStart": 45325.825,
                          "xBinEnd": 51800.8,
                          "yBinStart": 21181.125,
                          "yBinEnd": 25147.35
                        },
                        {
                          "count": 17,
                          "xBinStart": 45325.825,
                          "xBinEnd": 51800.8,
                          "yBinStart": 25147.35,
                          "yBinEnd": 29113.575
                        },
                        {
                          "count": 7,
                          "xBinStart": 45325.825,
                          "xBinEnd": 51800.8,
                          "yBinStart": 29113.575,
                          "yBinEnd": 33079.8
                        },
                        {
                          "count": 2,
                          "xBinStart": 45325.825,
                          "xBinEnd": 51800.8,
                          "yBinStart": 33079.8,
                          "yBinEnd": 37046.025
                        },
                        {
                          "count": 13,
                          "xBinStart": 51800.8,
                          "xBinEnd": 58275.775,
                          "yBinStart": 5316.225,
                          "yBinEnd": 9282.45
                        },
                        {
                          "count": 93,
                          "xBinStart": 51800.8,
                          "xBinEnd": 58275.775,
                          "yBinStart": 9282.45,
                          "yBinEnd": 13248.675
                        },
                        {
                          "count": 135,
                          "xBinStart": 51800.8,
                          "xBinEnd": 58275.775,
                          "yBinStart": 13248.675,
                          "yBinEnd": 17214.9
                        },
                        {
                          "count": 47,
                          "xBinStart": 51800.8,
                          "xBinEnd": 58275.775,
                          "yBinStart": 17214.9,
                          "yBinEnd": 21181.125
                        },
                        {
                          "count": 21,
                          "xBinStart": 51800.8,
                          "xBinEnd": 58275.775,
                          "yBinStart": 21181.125,
                          "yBinEnd": 25147.35
                        },
                        {
                          "count": 8,
                          "xBinStart": 51800.8,
                          "xBinEnd": 58275.775,
                          "yBinStart": 25147.35,
                          "yBinEnd": 29113.575
                        },
                        {
                          "count": 2,
                          "xBinStart": 51800.8,
                          "xBinEnd": 58275.775,
                          "yBinStart": 29113.575,
                          "yBinEnd": 33079.8
                        },
                        {
                          "count": 1,
                          "xBinStart": 51800.8,
                          "xBinEnd": 58275.775,
                          "yBinStart": 33079.8,
                          "yBinEnd": 37046.025
                        },
                        {
                          "count": 1,
                          "xBinStart": 51800.8,
                          "xBinEnd": 58275.775,
                          "yBinStart": 44978.475,
                          "yBinEnd": 48944.7
                        },
                        {
                          "count": 2,
                          "xBinStart": 58275.775,
                          "xBinEnd": 64750.75,
                          "yBinStart": 1191.351,
                          "yBinEnd": 5316.225
                        },
                        {
                          "count": 17,
                          "xBinStart": 58275.775,
                          "xBinEnd": 64750.75,
                          "yBinStart": 5316.225,
                          "yBinEnd": 9282.45
                        },
                        {
                          "count": 80,
                          "xBinStart": 58275.775,
                          "xBinEnd": 64750.75,
                          "yBinStart": 9282.45,
                          "yBinEnd": 13248.675
                        },
                        {
                          "count": 78,
                          "xBinStart": 58275.775,
                          "xBinEnd": 64750.75,
                          "yBinStart": 13248.675,
                          "yBinEnd": 17214.9
                        },
                        {
                          "count": 22,
                          "xBinStart": 58275.775,
                          "xBinEnd": 64750.75,
                          "yBinStart": 17214.9,
                          "yBinEnd": 21181.125
                        },
                        {
                          "count": 5,
                          "xBinStart": 58275.775,
                          "xBinEnd": 64750.75,
                          "yBinStart": 21181.125,
                          "yBinEnd": 25147.35
                        },
                        {
                          "count": 6,
                          "xBinStart": 58275.775,
                          "xBinEnd": 64750.75,
                          "yBinStart": 25147.35,
                          "yBinEnd": 29113.575
                        },
                        {
                          "count": 2,
                          "xBinStart": 58275.775,
                          "xBinEnd": 64750.75,
                          "yBinStart": 29113.575,
                          "yBinEnd": 33079.8
                        },
                        {
                          "count": 3,
                          "xBinStart": 64750.75,
                          "xBinEnd": 71225.725,
                          "yBinStart": 1191.351,
                          "yBinEnd": 5316.225
                        },
                        {
                          "count": 17,
                          "xBinStart": 64750.75,
                          "xBinEnd": 71225.725,
                          "yBinStart": 5316.225,
                          "yBinEnd": 9282.45
                        },
                        {
                          "count": 65,
                          "xBinStart": 64750.75,
                          "xBinEnd": 71225.725,
                          "yBinStart": 9282.45,
                          "yBinEnd": 13248.675
                        },
                        {
                          "count": 52,
                          "xBinStart": 64750.75,
                          "xBinEnd": 71225.725,
                          "yBinStart": 13248.675,
                          "yBinEnd": 17214.9
                        },
                        {
                          "count": 17,
                          "xBinStart": 64750.75,
                          "xBinEnd": 71225.725,
                          "yBinStart": 17214.9,
                          "yBinEnd": 21181.125
                        },
                        {
                          "count": 5,
                          "xBinStart": 64750.75,
                          "xBinEnd": 71225.725,
                          "yBinStart": 21181.125,
                          "yBinEnd": 25147.35
                        },
                        {
                          "count": 1,
                          "xBinStart": 64750.75,
                          "xBinEnd": 71225.725,
                          "yBinStart": 25147.35,
                          "yBinEnd": 29113.575
                        },
                        {
                          "count": 1,
                          "xBinStart": 64750.75,
                          "xBinEnd": 71225.725,
                          "yBinStart": 29113.575,
                          "yBinEnd": 33079.8
                        },
                        {
                          "count": 1,
                          "xBinStart": 71225.725,
                          "xBinEnd": 77700.7,
                          "yBinStart": 1191.351,
                          "yBinEnd": 5316.225
                        },
                        {
                          "count": 11,
                          "xBinStart": 71225.725,
                          "xBinEnd": 77700.7,
                          "yBinStart": 5316.225,
                          "yBinEnd": 9282.45
                        },
                        {
                          "count": 39,
                          "xBinStart": 71225.725,
                          "xBinEnd": 77700.7,
                          "yBinStart": 9282.45,
                          "yBinEnd": 13248.675
                        },
                        {
                          "count": 35,
                          "xBinStart": 71225.725,
                          "xBinEnd": 77700.7,
                          "yBinStart": 13248.675,
                          "yBinEnd": 17214.9
                        },
                        {
                          "count": 4,
                          "xBinStart": 71225.725,
                          "xBinEnd": 77700.7,
                          "yBinStart": 17214.9,
                          "yBinEnd": 21181.125
                        },
                        {
                          "count": 2,
                          "xBinStart": 71225.725,
                          "xBinEnd": 77700.7,
                          "yBinStart": 21181.125,
                          "yBinEnd": 25147.35
                        },
                        {
                          "count": 2,
                          "xBinStart": 71225.725,
                          "xBinEnd": 77700.7,
                          "yBinStart": 25147.35,
                          "yBinEnd": 29113.575
                        },
                        {
                          "count": 1,
                          "xBinStart": 71225.725,
                          "xBinEnd": 77700.7,
                          "yBinStart": 29113.575,
                          "yBinEnd": 33079.8
                        },
                        {
                          "count": 12,
                          "xBinStart": 77700.7,
                          "xBinEnd": 84175.675,
                          "yBinStart": 5316.225,
                          "yBinEnd": 9282.45
                        },
                        {
                          "count": 48,
                          "xBinStart": 77700.7,
                          "xBinEnd": 84175.675,
                          "yBinStart": 9282.45,
                          "yBinEnd": 13248.675
                        },
                        {
                          "count": 23,
                          "xBinStart": 77700.7,
                          "xBinEnd": 84175.675,
                          "yBinStart": 13248.675,
                          "yBinEnd": 17214.9
                        },
                        {
                          "count": 5,
                          "xBinStart": 77700.7,
                          "xBinEnd": 84175.675,
                          "yBinStart": 17214.9,
                          "yBinEnd": 21181.125
                        },
                        {
                          "count": 1,
                          "xBinStart": 77700.7,
                          "xBinEnd": 84175.675,
                          "yBinStart": 21181.125,
                          "yBinEnd": 25147.35
                        },
                        {
                          "count": 2,
                          "xBinStart": 84175.675,
                          "xBinEnd": 90650.65,
                          "yBinStart": 1191.351,
                          "yBinEnd": 5316.225
                        },
                        {
                          "count": 8,
                          "xBinStart": 84175.675,
                          "xBinEnd": 90650.65,
                          "yBinStart": 5316.225,
                          "yBinEnd": 9282.45
                        },
                        {
                          "count": 24,
                          "xBinStart": 84175.675,
                          "xBinEnd": 90650.65,
                          "yBinStart": 9282.45,
                          "yBinEnd": 13248.675
                        },
                        {
                          "count": 12,
                          "xBinStart": 84175.675,
                          "xBinEnd": 90650.65,
                          "yBinStart": 13248.675,
                          "yBinEnd": 17214.9
                        },
                        {
                          "count": 2,
                          "xBinStart": 84175.675,
                          "xBinEnd": 90650.65,
                          "yBinStart": 17214.9,
                          "yBinEnd": 21181.125
                        },
                        {
                          "count": 1,
                          "xBinStart": 84175.675,
                          "xBinEnd": 90650.65,
                          "yBinStart": 21181.125,
                          "yBinEnd": 25147.35
                        },
                        {
                          "count": 1,
                          "xBinStart": 84175.675,
                          "xBinEnd": 90650.65,
                          "yBinStart": 25147.35,
                          "yBinEnd": 29113.575
                        },
                        {
                          "count": 1,
                          "xBinStart": 84175.675,
                          "xBinEnd": 90650.65,
                          "yBinStart": 29113.575,
                          "yBinEnd": 33079.8
                        },
                        {
                          "count": 1,
                          "xBinStart": 90650.65,
                          "xBinEnd": 97125.625,
                          "yBinStart": 1191.351,
                          "yBinEnd": 5316.225
                        },
                        {
                          "count": 11,
                          "xBinStart": 90650.65,
                          "xBinEnd": 97125.625,
                          "yBinStart": 5316.225,
                          "yBinEnd": 9282.45
                        },
                        {
                          "count": 15,
                          "xBinStart": 90650.65,
                          "xBinEnd": 97125.625,
                          "yBinStart": 9282.45,
                          "yBinEnd": 13248.675
                        },
                        {
                          "count": 6,
                          "xBinStart": 90650.65,
                          "xBinEnd": 97125.625,
                          "yBinStart": 13248.675,
                          "yBinEnd": 17214.9
                        },
                        {
                          "count": 1,
                          "xBinStart": 90650.65,
                          "xBinEnd": 97125.625,
                          "yBinStart": 21181.125,
                          "yBinEnd": 25147.35
                        },
                        {
                          "count": 1,
                          "xBinStart": 97125.625,
                          "xBinEnd": 103600.6,
                          "yBinStart": 1191.351,
                          "yBinEnd": 5316.225
                        },
                        {
                          "count": 1,
                          "xBinStart": 97125.625,
                          "xBinEnd": 103600.6,
                          "yBinStart": 5316.225,
                          "yBinEnd": 9282.45
                        },
                        {
                          "count": 15,
                          "xBinStart": 97125.625,
                          "xBinEnd": 103600.6,
                          "yBinStart": 9282.45,
                          "yBinEnd": 13248.675
                        },
                        {
                          "count": 3,
                          "xBinStart": 97125.625,
                          "xBinEnd": 103600.6,
                          "yBinStart": 13248.675,
                          "yBinEnd": 17214.9
                        },
                        {
                          "count": 1,
                          "xBinStart": 97125.625,
                          "xBinEnd": 103600.6,
                          "yBinStart": 17214.9,
                          "yBinEnd": 21181.125
                        },
                        {
                          "count": 1,
                          "xBinStart": 103600.6,
                          "xBinEnd": 110075.575,
                          "yBinStart": 1191.351,
                          "yBinEnd": 5316.225
                        },
                        {
                          "count": 5,
                          "xBinStart": 103600.6,
                          "xBinEnd": 110075.575,
                          "yBinStart": 5316.225,
                          "yBinEnd": 9282.45
                        },
                        {
                          "count": 8,
                          "xBinStart": 103600.6,
                          "xBinEnd": 110075.575,
                          "yBinStart": 9282.45,
                          "yBinEnd": 13248.675
                        },
                        {
                          "count": 1,
                          "xBinStart": 103600.6,
                          "xBinEnd": 110075.575,
                          "yBinStart": 13248.675,
                          "yBinEnd": 17214.9
                        },
                        {
                          "count": 1,
                          "xBinStart": 110075.575,
                          "xBinEnd": 116550.55,
                          "yBinStart": 1191.351,
                          "yBinEnd": 5316.225
                        },
                        {
                          "count": 3,
                          "xBinStart": 110075.575,
                          "xBinEnd": 116550.55,
                          "yBinStart": 5316.225,
                          "yBinEnd": 9282.45
                        },
                        {
                          "count": 8,
                          "xBinStart": 110075.575,
                          "xBinEnd": 116550.55,
                          "yBinStart": 9282.45,
                          "yBinEnd": 13248.675
                        },
                        {
                          "count": 3,
                          "xBinStart": 116550.55,
                          "xBinEnd": 123025.525,
                          "yBinStart": 5316.225,
                          "yBinEnd": 9282.45
                        },
                        {
                          "count": 3,
                          "xBinStart": 116550.55,
                          "xBinEnd": 123025.525,
                          "yBinStart": 9282.45,
                          "yBinEnd": 13248.675
                        },
                        {
                          "count": 5,
                          "xBinStart": 123025.525,
                          "xBinEnd": 129500.5,
                          "yBinStart": 5316.225,
                          "yBinEnd": 9282.45
                        },
                        {
                          "count": 5,
                          "xBinStart": 123025.525,
                          "xBinEnd": 129500.5,
                          "yBinStart": 9282.45,
                          "yBinEnd": 13248.675
                        },
                        {
                          "count": 1,
                          "xBinStart": 123025.525,
                          "xBinEnd": 129500.5,
                          "yBinStart": 13248.675,
                          "yBinEnd": 17214.9
                        },
                        {
                          "count": 1,
                          "xBinStart": 129500.5,
                          "xBinEnd": 135975.475,
                          "yBinStart": 5316.225,
                          "yBinEnd": 9282.45
                        },
                        {
                          "count": 2,
                          "xBinStart": 129500.5,
                          "xBinEnd": 135975.475,
                          "yBinStart": 9282.45,
                          "yBinEnd": 13248.675
                        },
                        {
                          "count": 2,
                          "xBinStart": 135975.475,
                          "xBinEnd": 142450.45,
                          "yBinStart": 5316.225,
                          "yBinEnd": 9282.45
                        },
                        {
                          "count": 3,
                          "xBinStart": 135975.475,
                          "xBinEnd": 142450.45,
                          "yBinStart": 9282.45,
                          "yBinEnd": 13248.675
                        },
                        {
                          "count": 1,
                          "xBinStart": 142450.45,
                          "xBinEnd": 148925.425,
                          "yBinStart": 5316.225,
                          "yBinEnd": 9282.45
                        },
                        {
                          "count": 3,
                          "xBinStart": 148925.425,
                          "xBinEnd": 155400.4,
                          "yBinStart": 5316.225,
                          "yBinEnd": 9282.45
                        },
                        {
                          "count": 1,
                          "xBinStart": 155400.4,
                          "xBinEnd": 161875.375,
                          "yBinStart": 5316.225,
                          "yBinEnd": 9282.45
                        },
                        {
                          "count": 1,
                          "xBinStart": 161875.375,
                          "xBinEnd": 168350.35,
                          "yBinStart": 5316.225,
                          "yBinEnd": 9282.45
                        },
                        {
                          "count": 1,
                          "xBinStart": 168350.35,
                          "xBinEnd": 174825.325,
                          "yBinStart": 1191.351,
                          "yBinEnd": 5316.225
                        },
                        {
                          "count": 1,
                          "xBinStart": 239575.075,
                          "xBinEnd": 246050.05,
                          "yBinStart": 13248.675,
                          "yBinEnd": 17214.9
                        },
                        {
                          "count": 1,
                          "xBinStart": 252525.025,
                          "xBinEnd": 259000,
                          "yBinStart": 5316.225,
                          "yBinEnd": 9282.45
                        }
                      ]
                    },
                    "vislib": "vegalite"
                  }
                ]
              },
              {
                "action": "Distribution",
                "description": "Show univariate histograms of <p class='highlight-descriptor'>quantitative</p>  attributes.",
                "long_description": "Distribution displays univariate histogram distributions of all quantitative attributes (e.g., price). Visualizations are ranked from most to least skewed.",
                "vspec": [
                  {
                    "config": {
                      "view": {
                        "continuousWidth": 300,
                        "continuousHeight": 300
                      },
                      "axis": {
                        "labelColor": "#505050",
                        "labelFont": "Helvetica Neue",
                        "labelFontSize": 9,
                        "labelFontWeight": 400,
                        "titleFont": "Helvetica Neue",
                        "titleFontSize": 11,
                        "titleFontWeight": 500
                      },
                      "legend": {
                        "labelFont": "Helvetica Neue",
                        "labelFontSize": 9,
                        "labelFontWeight": 400,
                        "titleFont": "Helvetica Neue",
                        "titleFontSize": 10,
                        "titleFontWeight": 500
                      },
                      "title": {
                        "font": "Helvetica Neue",
                        "fontSize": 13,
                        "fontWeight": 500
                      }
                    },
                    "data": {
                      "name": "data-7718db58908f38d0a7e88ea97e7be94a"
                    },
                    "mark": {
                      "type": "bar"
                    },
                    "encoding": {
                      "x": {
                        "axis": {
                          "title": "tax (binned)"
                        },
                        "bin": {
                          "binned": true,
                          "step": 58
                        },
                        "field": "tax",
                        "scale": {
                          "domain": [
                            0,
                            580
                          ]
                        },
                        "title": "tax (binned)",
                        "type": "quantitative"
                      },
                      "x2": {
                        "field": "tax_end"
                      },
                      "y": {
                        "field": "Number of Records",
                        "type": "quantitative"
                      }
                    },
                    "height": 150,
                    "width": 160,
                    "$schema": "https://vega.github.io/schema/vega-lite/v5.20.1.json",
                    "datasets": {
                      "data-7718db58908f38d0a7e88ea97e7be94a": [
                        {
                          "tax": 0,
                          "Number of Records": 2409,
                          "tax_end": 60.9
                        },
                        {
                          "tax": 58,
                          "Number of Records": 2,
                          "tax_end": 118.9
                        },
                        {
                          "tax": 116,
                          "Number of Records": 9821,
                          "tax_end": 176.9
                        },
                        {
                          "tax": 174,
                          "Number of Records": 338,
                          "tax_end": 234.9
                        },
                        {
                          "tax": 232,
                          "Number of Records": 208,
                          "tax_end": 292.9
                        },
                        {
                          "tax": 290,
                          "Number of Records": 162,
                          "tax_end": 350.9
                        },
                        {
                          "tax": 348,
                          "Number of Records": 0,
                          "tax_end": 408.9
                        },
                        {
                          "tax": 406,
                          "Number of Records": 0,
                          "tax_end": 466.9
                        },
                        {
                          "tax": 464,
                          "Number of Records": 0,
                          "tax_end": 524.9
                        },
                        {
                          "tax": 522,
                          "Number of Records": 50,
                          "tax_end": 582.9
                        }
                      ]
                    },
                    "vislib": "vegalite"
                  },
                  {
                    "config": {
                      "view": {
                        "continuousWidth": 300,
                        "continuousHeight": 300
                      },
                      "axis": {
                        "labelColor": "#505050",
                        "labelFont": "Helvetica Neue",
                        "labelFontSize": 9,
                        "labelFontWeight": 400,
                        "titleFont": "Helvetica Neue",
                        "titleFontSize": 11,
                        "titleFontWeight": 500
                      },
                      "legend": {
                        "labelFont": "Helvetica Neue",
                        "labelFontSize": 9,
                        "labelFontWeight": 400,
                        "titleFont": "Helvetica Neue",
                        "titleFontSize": 10,
                        "titleFontWeight": 500
                      },
                      "title": {
                        "font": "Helvetica Neue",
                        "fontSize": 13,
                        "fontWeight": 500
                      }
                    },
                    "data": {
                      "name": "data-2be14d33a2eaeca989505f0bc2042a27"
                    },
                    "mark": {
                      "type": "bar"
                    },
                    "encoding": {
                      "x": {
                        "axis": {
                          "title": "mileage (binned)"
                        },
                        "bin": {
                          "binned": true,
                          "step": 25899.9
                        },
                        "field": "mileage",
                        "scale": {
                          "domain": [
                            1,
                            259000
                          ]
                        },
                        "title": "mileage (binned)",
                        "type": "quantitative"
                      },
                      "x2": {
                        "field": "mileage_end"
                      },
                      "y": {
                        "field": "Number of Records",
                        "type": "quantitative"
                      }
                    },
                    "height": 150,
                    "width": 160,
                    "$schema": "https://vega.github.io/schema/vega-lite/v5.20.1.json",
                    "datasets": {
                      "data-2be14d33a2eaeca989505f0bc2042a27": [
                        {
                          "mileage": 1,
                          "Number of Records": 8806,
                          "mileage_end": 27195.9
                        },
                        {
                          "mileage": 25900.9,
                          "Number of Records": 3139,
                          "mileage_end": 53095.8
                        },
                        {
                          "mileage": 51800.8,
                          "Number of Records": 789,
                          "mileage_end": 78995.70000000001
                        },
                        {
                          "mileage": 77700.70000000001,
                          "Number of Records": 195,
                          "mileage_end": 104895.6
                        },
                        {
                          "mileage": 103600.6,
                          "Number of Records": 44,
                          "mileage_end": 130795.5
                        },
                        {
                          "mileage": 129500.5,
                          "Number of Records": 12,
                          "mileage_end": 156695.4
                        },
                        {
                          "mileage": 155400.40000000002,
                          "Number of Records": 3,
                          "mileage_end": 182595.30000000002
                        },
                        {
                          "mileage": 181300.30000000002,
                          "Number of Records": 0,
                          "mileage_end": 208495.2
                        },
                        {
                          "mileage": 207200.2,
                          "Number of Records": 0,
                          "mileage_end": 234395.1
                        },
                        {
                          "mileage": 233100.1,
                          "Number of Records": 2,
                          "mileage_end": 260295
                        }
                      ]
                    },
                    "vislib": "vegalite"
                  },
                  {
                    "config": {
                      "view": {
                        "continuousWidth": 300,
                        "continuousHeight": 300
                      },
                      "axis": {
                        "labelColor": "#505050",
                        "labelFont": "Helvetica Neue",
                        "labelFontSize": 9,
                        "labelFontWeight": 400,
                        "titleFont": "Helvetica Neue",
                        "titleFontSize": 11,
                        "titleFontWeight": 500
                      },
                      "legend": {
                        "labelFont": "Helvetica Neue",
                        "labelFontSize": 9,
                        "labelFontWeight": 400,
                        "titleFont": "Helvetica Neue",
                        "titleFontSize": 10,
                        "titleFontWeight": 500
                      },
                      "title": {
                        "font": "Helvetica Neue",
                        "fontSize": 13,
                        "fontWeight": 500
                      }
                    },
                    "data": {
                      "name": "data-40b60d8597000ac07f327e97b823a2d7"
                    },
                    "mark": {
                      "type": "bar"
                    },
                    "encoding": {
                      "x": {
                        "axis": {
                          "title": "price (binned)"
                        },
                        "bin": {
                          "binned": true,
                          "step": 15864.900000000001
                        },
                        "field": "price",
                        "scale": {
                          "domain": [
                            1350,
                            159999
                          ]
                        },
                        "title": "price (binned)",
                        "type": "quantitative"
                      },
                      "x2": {
                        "field": "price_end"
                      },
                      "y": {
                        "field": "Number of Records",
                        "type": "quantitative"
                      }
                    },
                    "height": 150,
                    "width": 160,
                    "$schema": "https://vega.github.io/schema/vega-lite/v5.20.1.json",
                    "datasets": {
                      "data-40b60d8597000ac07f327e97b823a2d7": [
                        {
                          "price": 1350,
                          "Number of Records": 3070,
                          "price_end": 18008.14
                        },
                        {
                          "price": 17214.9,
                          "Number of Records": 7907,
                          "price_end": 33873.04
                        },
                        {
                          "price": 33079.8,
                          "Number of Records": 1502,
                          "price_end": 49737.94
                        },
                        {
                          "price": 48944.7,
                          "Number of Records": 370,
                          "price_end": 65602.84
                        },
                        {
                          "price": 64809.6,
                          "Number of Records": 92,
                          "price_end": 81467.73999999999
                        },
                        {
                          "price": 80674.5,
                          "Number of Records": 17,
                          "price_end": 97332.64
                        },
                        {
                          "price": 96539.4,
                          "Number of Records": 13,
                          "price_end": 113197.54
                        },
                        {
                          "price": 112404.3,
                          "Number of Records": 7,
                          "price_end": 129062.44
                        },
                        {
                          "price": 128269.2,
                          "Number of Records": 9,
                          "price_end": 144927.34
                        },
                        {
                          "price": 144134.1,
                          "Number of Records": 3,
                          "price_end": 160792.24
                        }
                      ]
                    },
                    "vislib": "vegalite"
                  },
                  {
                    "config": {
                      "view": {
                        "continuousWidth": 300,
                        "continuousHeight": 300
                      },
                      "axis": {
                        "labelColor": "#505050",
                        "labelFont": "Helvetica Neue",
                        "labelFontSize": 9,
                        "labelFontWeight": 400,
                        "titleFont": "Helvetica Neue",
                        "titleFontSize": 11,
                        "titleFontWeight": 500
                      },
                      "legend": {
                        "labelFont": "Helvetica Neue",
                        "labelFontSize": 9,
                        "labelFontWeight": 400,
                        "titleFont": "Helvetica Neue",
                        "titleFontSize": 10,
                        "titleFontWeight": 500
                      },
                      "title": {
                        "font": "Helvetica Neue",
                        "fontSize": 13,
                        "fontWeight": 500
                      }
                    },
                    "data": {
                      "name": "data-74d78fd977d8ff0446888e1481a529e8"
                    },
                    "mark": {
                      "type": "bar"
                    },
                    "encoding": {
                      "x": {
                        "axis": {
                          "title": "mpg (binned)"
                        },
                        "bin": {
                          "binned": true,
                          "step": 21.62
                        },
                        "field": "mpg",
                        "scale": {
                          "domain": [
                            1.1,
                            217.3
                          ]
                        },
                        "title": "mpg (binned)",
                        "type": "quantitative"
                      },
                      "x2": {
                        "field": "mpg_end"
                      },
                      "y": {
                        "field": "Number of Records",
                        "type": "quantitative"
                      }
                    },
                    "height": 150,
                    "width": 160,
                    "$schema": "https://vega.github.io/schema/vega-lite/v5.20.1.json",
                    "datasets": {
                      "data-74d78fd977d8ff0446888e1481a529e8": [
                        {
                          "mpg": 1.1,
                          "Number of Records": 43,
                          "mpg_end": 23.8
                        },
                        {
                          "mpg": 22.720000000000002,
                          "Number of Records": 2621,
                          "mpg_end": 45.42
                        },
                        {
                          "mpg": 44.34,
                          "Number of Records": 7905,
                          "mpg_end": 67.04
                        },
                        {
                          "mpg": 65.96,
                          "Number of Records": 2302,
                          "mpg_end": 88.66
                        },
                        {
                          "mpg": 87.58,
                          "Number of Records": 3,
                          "mpg_end": 110.28
                        },
                        {
                          "mpg": 109.2,
                          "Number of Records": 4,
                          "mpg_end": 131.9
                        },
                        {
                          "mpg": 130.82,
                          "Number of Records": 85,
                          "mpg_end": 153.51999999999998
                        },
                        {
                          "mpg": 152.44,
                          "Number of Records": 0,
                          "mpg_end": 175.14
                        },
                        {
                          "mpg": 174.06,
                          "Number of Records": 25,
                          "mpg_end": 196.76
                        },
                        {
                          "mpg": 195.68,
                          "Number of Records": 2,
                          "mpg_end": 218.38
                        }
                      ]
                    },
                    "vislib": "vegalite"
                  }
                ]
              },
              {
                "action": "Occurrence",
                "description": "Show frequency of occurrence for <p class='highlight-descriptor'>categorical</p> attributes.",
                "long_description": "Occurence displays bar charts of counts for all categorical attributes (e.g., model). Visualizations are ranked from most to least uneven across the bars. ",
                "vspec": [
                  {
                    "config": {
                      "view": {
                        "continuousWidth": 300,
                        "continuousHeight": 300
                      },
                      "axis": {
                        "labelColor": "#505050",
                        "labelFont": "Helvetica Neue",
                        "labelFontSize": 9,
                        "labelFontWeight": 400,
                        "titleFont": "Helvetica Neue",
                        "titleFontSize": 11,
                        "titleFontWeight": 500
                      },
                      "legend": {
                        "labelFont": "Helvetica Neue",
                        "labelFontSize": 9,
                        "labelFontWeight": 400,
                        "titleFont": "Helvetica Neue",
                        "titleFontSize": 10,
                        "titleFontWeight": 500
                      },
                      "mark": {
                        "tooltip": {
                          "content": "encoding"
                        }
                      },
                      "title": {
                        "font": "Helvetica Neue",
                        "fontSize": 13,
                        "fontWeight": 500
                      }
                    },
                    "data": {
                      "name": "data-ff1cd7cc2b7fcab1e6632be8c2bdae4a"
                    },
                    "mark": {
                      "type": "bar"
                    },
                    "encoding": {
                      "x": {
                        "axis": {
                          "title": "Number of Records"
                        },
                        "field": "Record",
                        "title": "Number of Records",
                        "type": "quantitative"
                      },
                      "y": {
                        "axis": {
                          "labelOverlap": true,
                          "title": "fuelType"
                        },
                        "field": "fuelType",
                        "type": "nominal"
                      }
                    },
                    "height": 150,
                    "width": 160,
                    "$schema": "https://vega.github.io/schema/vega-lite/v5.20.1.json",
                    "datasets": {
                      "data-ff1cd7cc2b7fcab1e6632be8c2bdae4a": [
                        {
                          "fuelType": "Diesel",
                          "Record": 9138
                        },
                        {
                          "fuelType": "Hybrid",
                          "Record": 173
                        },
                        {
                          "fuelType": "Petrol",
                          "Record": 3679
                        }
                      ]
                    },
                    "vislib": "vegalite"
                  },
                  {
                    "config": {
                      "view": {
                        "continuousWidth": 300,
                        "continuousHeight": 300
                      },
                      "axis": {
                        "labelColor": "#505050",
                        "labelFont": "Helvetica Neue",
                        "labelFontSize": 9,
                        "labelFontWeight": 400,
                        "titleFont": "Helvetica Neue",
                        "titleFontSize": 11,
                        "titleFontWeight": 500
                      },
                      "legend": {
                        "labelFont": "Helvetica Neue",
                        "labelFontSize": 9,
                        "labelFontWeight": 400,
                        "titleFont": "Helvetica Neue",
                        "titleFontSize": 10,
                        "titleFontWeight": 500
                      },
                      "mark": {
                        "tooltip": {
                          "content": "encoding"
                        }
                      },
                      "title": {
                        "font": "Helvetica Neue",
                        "fontSize": 13,
                        "fontWeight": 500
                      }
                    },
                    "data": {
                      "name": "data-2ec3bd30ae2d28ef03be0f51d3a8b95b"
                    },
                    "mark": {
                      "type": "bar"
                    },
                    "encoding": {
                      "x": {
                        "axis": {
                          "title": "Number of Records"
                        },
                        "field": "Record",
                        "title": "Number of Records",
                        "type": "quantitative"
                      },
                      "y": {
                        "axis": {
                          "labelOverlap": true,
                          "title": "transmission"
                        },
                        "field": "transmission",
                        "type": "nominal"
                      }
                    },
                    "height": 150,
                    "width": 160,
                    "$schema": "https://vega.github.io/schema/vega-lite/v5.20.1.json",
                    "datasets": {
                      "data-2ec3bd30ae2d28ef03be0f51d3a8b95b": [
                        {
                          "transmission": "Automatic",
                          "Record": 4710
                        },
                        {
                          "transmission": "Manual",
                          "Record": 1436
                        },
                        {
                          "transmission": "Semi-Auto",
                          "Record": 6844
                        }
                      ]
                    },
                    "vislib": "vegalite"
                  },
                  {
                    "config": {
                      "view": {
                        "continuousWidth": 300,
                        "continuousHeight": 300
                      },
                      "axis": {
                        "labelColor": "#505050",
                        "labelFont": "Helvetica Neue",
                        "labelFontSize": 9,
                        "labelFontWeight": 400,
                        "titleFont": "Helvetica Neue",
                        "titleFontSize": 11,
                        "titleFontWeight": 500
                      },
                      "legend": {
                        "labelFont": "Helvetica Neue",
                        "labelFontSize": 9,
                        "labelFontWeight": 400,
                        "titleFont": "Helvetica Neue",
                        "titleFontSize": 10,
                        "titleFontWeight": 500
                      },
                      "mark": {
                        "tooltip": {
                          "content": "encoding"
                        }
                      },
                      "title": {
                        "font": "Helvetica Neue",
                        "fontSize": 13,
                        "fontWeight": 500
                      }
                    },
                    "layer": [
                      {
                        "data": {
                          "name": "data-1c16619b51280547d6b4c0b41daf2a7a"
                        },
                        "mark": {
                          "type": "bar"
                        },
                        "encoding": {
                          "x": {
                            "axis": {
                              "title": "Number of Records"
                            },
                            "field": "Record",
                            "title": "Number of Records",
                            "type": "quantitative"
                          },
                          "y": {
                            "axis": {
                              "labelOverlap": true,
                              "title": "engineSize"
                            },
                            "field": "engineSize",
                            "sort": "-x",
                            "type": "nominal"
                          }
                        }
                      },
                      {
                        "data": {
                          "name": "data-1c16619b51280547d6b4c0b41daf2a7a"
                        },
                        "mark": {
                          "type": "text",
                          "align": "right",
                          "color": "#ff8e04",
                          "fontSize": 11,
                          "text": "+ 8 more ...",
                          "x": 155,
                          "y": 142
                        }
                      }
                    ],
                    "height": 150,
                    "width": 160,
                    "$schema": "https://vega.github.io/schema/vega-lite/v5.20.1.json",
                    "datasets": {
                      "data-1c16619b51280547d6b4c0b41daf2a7a": [
                        {
                          "engineSize": 2.1,
                          "Record": 4005
                        },
                        {
                          "engineSize": 2,
                          "Record": 3720
                        },
                        {
                          "engineSize": 1.5,
                          "Record": 1672
                        },
                        {
                          "engineSize": 3,
                          "Record": 1335
                        },
                        {
                          "engineSize": 1.6,
                          "Record": 841
                        },
                        {
                          "engineSize": 1.3,
                          "Record": 716
                        },
                        {
                          "engineSize": 4,
                          "Record": 197
                        },
                        {
                          "engineSize": 2.2,
                          "Record": 121
                        },
                        {
                          "engineSize": 2.9,
                          "Record": 120
                        },
                        {
                          "engineSize": 1.8,
                          "Record": 96
                        }
                      ]
                    },
                    "vislib": "vegalite"
                  },
                  {
                    "config": {
                      "view": {
                        "continuousWidth": 300,
                        "continuousHeight": 300
                      },
                      "axis": {
                        "labelColor": "#505050",
                        "labelFont": "Helvetica Neue",
                        "labelFontSize": 9,
                        "labelFontWeight": 400,
                        "titleFont": "Helvetica Neue",
                        "titleFontSize": 11,
                        "titleFontWeight": 500
                      },
                      "legend": {
                        "labelFont": "Helvetica Neue",
                        "labelFontSize": 9,
                        "labelFontWeight": 400,
                        "titleFont": "Helvetica Neue",
                        "titleFontSize": 10,
                        "titleFontWeight": 500
                      },
                      "mark": {
                        "tooltip": {
                          "content": "encoding"
                        }
                      },
                      "title": {
                        "font": "Helvetica Neue",
                        "fontSize": 13,
                        "fontWeight": 500
                      }
                    },
                    "layer": [
                      {
                        "data": {
                          "name": "data-955694c365a86548127ca41cc7f705bb"
                        },
                        "mark": {
                          "type": "bar"
                        },
                        "encoding": {
                          "x": {
                            "axis": {
                              "title": "Number of Records"
                            },
                            "field": "Record",
                            "title": "Number of Records",
                            "type": "quantitative"
                          },
                          "y": {
                            "axis": {
                              "labelOverlap": true,
                              "title": "model"
                            },
                            "field": "model",
                            "sort": "-x",
                            "type": "nominal"
                          }
                        }
                      },
                      {
                        "data": {
                          "name": "data-955694c365a86548127ca41cc7f705bb"
                        },
                        "mark": {
                          "type": "text",
                          "align": "right",
                          "color": "#ff8e04",
                          "fontSize": 11,
                          "text": "+ 15 more ...",
                          "x": 155,
                          "y": 142
                        }
                      }
                    ],
                    "height": 150,
                    "width": 160,
                    "$schema": "https://vega.github.io/schema/vega-lite/v5.20.1.json",
                    "datasets": {
                      "data-955694c365a86548127ca41cc7f705bb": [
                        {
                          "model": " C Class",
                          "Record": 3714
                        },
                        {
                          "model": " A Class",
                          "Record": 2555
                        },
                        {
                          "model": " E Class",
                          "Record": 1943
                        },
                        {
                          "model": " GLC Class",
                          "Record": 960
                        },
                        {
                          "model": " GLA Class",
                          "Record": 846
                        },
                        {
                          "model": " B Class",
                          "Record": 585
                        },
                        {
                          "model": " CL Class",
                          "Record": 509
                        },
                        {
                          "model": " GLE Class",
                          "Record": 460
                        },
                        {
                          "model": " SL CLASS",
                          "Record": 252
                        },
                        {
                          "model": " CLS Class",
                          "Record": 236
                        }
                      ]
                    },
                    "vislib": "vegalite"
                  }
                ]
              },
              {
                "action": "Temporal",
                "description": "Show trends over <p class='highlight-descriptor'>time-related</p> attributes.",
                "long_description": "Temporal displays line charts for all attributes related to datetimes in the dataframe. Lux displays the overall temporal trend first, followed by trends across other timescales (e.g., year, month, week, day).",
                "vspec": [
                  {
                    "config": {
                      "view": {
                        "continuousWidth": 300,
                        "continuousHeight": 300
                      },
                      "axis": {
                        "labelColor": "#505050",
                        "labelFont": "Helvetica Neue",
                        "labelFontSize": 9,
                        "labelFontWeight": 400,
                        "titleFont": "Helvetica Neue",
                        "titleFontSize": 11,
                        "titleFontWeight": 500
                      },
                      "legend": {
                        "labelFont": "Helvetica Neue",
                        "labelFontSize": 9,
                        "labelFontWeight": 400,
                        "titleFont": "Helvetica Neue",
                        "titleFontSize": 10,
                        "titleFontWeight": 500
                      },
                      "title": {
                        "font": "Helvetica Neue",
                        "fontSize": 13,
                        "fontWeight": 500
                      }
                    },
                    "data": {
                      "name": "data-d17cbedc374cc2ec9c5fb9f4cc68a3e1"
                    },
                    "mark": {
                      "type": "line"
                    },
                    "encoding": {
                      "x": {
                        "axis": {
                          "title": "year"
                        },
                        "field": "year",
                        "type": "temporal"
                      },
                      "y": {
                        "axis": {
                          "title": "Record"
                        },
                        "field": "Record",
                        "title": "Number of Records",
                        "type": "quantitative"
                      }
                    },
                    "height": 150,
                    "params": [
                      {
                        "name": "param_7",
                        "select": {
                          "type": "interval",
                          "encodings": [
                            "x",
                            "y"
                          ]
                        },
                        "bind": "scales"
                      }
                    ],
                    "width": 160,
                    "$schema": "https://vega.github.io/schema/vega-lite/v5.20.1.json",
                    "datasets": {
                      "data-d17cbedc374cc2ec9c5fb9f4cc68a3e1": [
                        {
                          "year": "2010-01-01T00:00:00",
                          "Record": 38
                        },
                        {
                          "year": "2011-01-01T00:00:00",
                          "Record": 38
                        },
                        {
                          "year": "2012-01-01T00:00:00",
                          "Record": 57
                        },
                        {
                          "year": "2013-01-01T00:00:00",
                          "Record": 292
                        },
                        {
                          "year": "2014-01-01T00:00:00",
                          "Record": 491
                        },
                        {
                          "year": "2015-01-01T00:00:00",
                          "Record": 989
                        },
                        {
                          "year": "2016-01-01T00:00:00",
                          "Record": 1968
                        },
                        {
                          "year": "2017-01-01T00:00:00",
                          "Record": 2379
                        },
                        {
                          "year": "2018-01-01T00:00:00",
                          "Record": 1467
                        },
                        {
                          "year": "2019-01-01T00:00:00",
                          "Record": 4553
                        },
                        {
                          "year": "2020-01-01T00:00:00",
                          "Record": 718
                        }
                      ]
                    },
                    "vislib": "vegalite"
                  },
                  {
                    "config": {
                      "view": {
                        "continuousWidth": 300,
                        "continuousHeight": 300
                      },
                      "axis": {
                        "labelColor": "#505050",
                        "labelFont": "Helvetica Neue",
                        "labelFontSize": 9,
                        "labelFontWeight": 400,
                        "titleFont": "Helvetica Neue",
                        "titleFontSize": 11,
                        "titleFontWeight": 500
                      },
                      "legend": {
                        "labelFont": "Helvetica Neue",
                        "labelFontSize": 9,
                        "labelFontWeight": 400,
                        "titleFont": "Helvetica Neue",
                        "titleFontSize": 10,
                        "titleFontWeight": 500
                      },
                      "title": {
                        "font": "Helvetica Neue",
                        "fontSize": 13,
                        "fontWeight": 500
                      }
                    },
                    "data": {
                      "name": "data-aea81024d126f6b672a3e0e6778763e2"
                    },
                    "mark": {
                      "type": "line"
                    },
                    "encoding": {
                      "x": {
                        "axis": {
                          "title": "year (year)"
                        },
                        "field": "year (year)",
                        "type": "temporal"
                      },
                      "y": {
                        "axis": {
                          "title": "Record"
                        },
                        "field": "Record",
                        "title": "Number of Records",
                        "type": "quantitative"
                      }
                    },
                    "height": 150,
                    "params": [
                      {
                        "name": "param_8",
                        "select": {
                          "type": "interval",
                          "encodings": [
                            "x",
                            "y"
                          ]
                        },
                        "bind": "scales"
                      }
                    ],
                    "width": 160,
                    "$schema": "https://vega.github.io/schema/vega-lite/v5.20.1.json",
                    "datasets": {
                      "data-aea81024d126f6b672a3e0e6778763e2": [
                        {
                          "year (year)": "2010-01-01T00:00:00",
                          "Record": 38
                        },
                        {
                          "year (year)": "2011-01-01T00:00:00",
                          "Record": 38
                        },
                        {
                          "year (year)": "2012-01-01T00:00:00",
                          "Record": 57
                        },
                        {
                          "year (year)": "2013-01-01T00:00:00",
                          "Record": 292
                        },
                        {
                          "year (year)": "2014-01-01T00:00:00",
                          "Record": 491
                        },
                        {
                          "year (year)": "2015-01-01T00:00:00",
                          "Record": 989
                        },
                        {
                          "year (year)": "2016-01-01T00:00:00",
                          "Record": 1968
                        },
                        {
                          "year (year)": "2017-01-01T00:00:00",
                          "Record": 2379
                        },
                        {
                          "year (year)": "2018-01-01T00:00:00",
                          "Record": 1467
                        },
                        {
                          "year (year)": "2019-01-01T00:00:00",
                          "Record": 4553
                        },
                        {
                          "year (year)": "2020-01-01T00:00:00",
                          "Record": 718
                        }
                      ]
                    },
                    "vislib": "vegalite"
                  },
                  {
                    "config": {
                      "view": {
                        "continuousWidth": 300,
                        "continuousHeight": 300
                      },
                      "axis": {
                        "labelColor": "#505050",
                        "labelFont": "Helvetica Neue",
                        "labelFontSize": 9,
                        "labelFontWeight": 400,
                        "titleFont": "Helvetica Neue",
                        "titleFontSize": 11,
                        "titleFontWeight": 500
                      },
                      "legend": {
                        "labelFont": "Helvetica Neue",
                        "labelFontSize": 9,
                        "labelFontWeight": 400,
                        "titleFont": "Helvetica Neue",
                        "titleFontSize": 10,
                        "titleFontWeight": 500
                      },
                      "title": {
                        "font": "Helvetica Neue",
                        "fontSize": 13,
                        "fontWeight": 500
                      }
                    },
                    "data": {
                      "name": "data-3cdc2559e0411d273fc421f56575b5f4"
                    },
                    "mark": {
                      "type": "line"
                    },
                    "encoding": {
                      "x": {
                        "axis": {
                          "title": "year (day of week)"
                        },
                        "field": "year (day of week)",
                        "type": "ordinal"
                      },
                      "y": {
                        "axis": {
                          "title": "Record"
                        },
                        "field": "Record",
                        "title": "Number of Records",
                        "type": "quantitative"
                      }
                    },
                    "height": 150,
                    "params": [
                      {
                        "name": "param_9",
                        "select": {
                          "type": "interval",
                          "encodings": [
                            "x",
                            "y"
                          ]
                        },
                        "bind": "scales"
                      }
                    ],
                    "width": 160,
                    "$schema": "https://vega.github.io/schema/vega-lite/v5.20.1.json",
                    "datasets": {
                      "data-3cdc2559e0411d273fc421f56575b5f4": [
                        {
                          "year (day of week)": 0,
                          "Record": 1467
                        },
                        {
                          "year (day of week)": 1,
                          "Record": 4845
                        },
                        {
                          "year (day of week)": 2,
                          "Record": 1209
                        },
                        {
                          "year (day of week)": 3,
                          "Record": 989
                        },
                        {
                          "year (day of week)": 4,
                          "Record": 2006
                        },
                        {
                          "year (day of week)": 5,
                          "Record": 38
                        },
                        {
                          "year (day of week)": 6,
                          "Record": 2436
                        }
                      ]
                    },
                    "vislib": "vegalite"
                  }
                ]
              }
            ],
            "selectedIntentIndex": {}
          }
        },
        "965d1a6375f84007bec851e441fbf440": {
          "model_module": "@jupyter-widgets/base",
          "model_name": "LayoutModel",
          "model_module_version": "1.2.0",
          "state": {
            "_model_module": "@jupyter-widgets/base",
            "_model_module_version": "1.2.0",
            "_model_name": "LayoutModel",
            "_view_count": null,
            "_view_module": "@jupyter-widgets/base",
            "_view_module_version": "1.2.0",
            "_view_name": "LayoutView",
            "align_content": null,
            "align_items": null,
            "align_self": null,
            "border": null,
            "bottom": null,
            "display": null,
            "flex": null,
            "flex_flow": null,
            "grid_area": null,
            "grid_auto_columns": null,
            "grid_auto_flow": null,
            "grid_auto_rows": null,
            "grid_column": null,
            "grid_gap": null,
            "grid_row": null,
            "grid_template_areas": null,
            "grid_template_columns": null,
            "grid_template_rows": null,
            "height": null,
            "justify_content": null,
            "justify_items": null,
            "left": null,
            "margin": null,
            "max_height": null,
            "max_width": null,
            "min_height": null,
            "min_width": null,
            "object_fit": null,
            "object_position": null,
            "order": null,
            "overflow": null,
            "overflow_x": null,
            "overflow_y": null,
            "padding": null,
            "right": null,
            "top": null,
            "visibility": null,
            "width": null
          }
        }
      }
    },
    "kernelspec": {
      "name": "python3",
      "display_name": "Python 3"
    }
  },
  "nbformat": 4,
  "nbformat_minor": 0
}